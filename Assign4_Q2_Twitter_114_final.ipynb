{
  "nbformat": 4,
  "nbformat_minor": 0,
  "metadata": {
    "colab": {
      "name": "Assign4_Q2_Twitter_114.ipynb",
      "provenance": [],
      "include_colab_link": true
    },
    "kernelspec": {
      "name": "python3",
      "display_name": "Python 3"
    },
    "language_info": {
      "name": "python"
    },
    "accelerator": "GPU"
  },
  "cells": [
    {
      "cell_type": "markdown",
      "metadata": {
        "id": "view-in-github",
        "colab_type": "text"
      },
      "source": [
        "<a href=\"https://colab.research.google.com/github/Gr-30/DL/blob/main/Assign4_Q2_Twitter_114_final.ipynb\" target=\"_parent\"><img src=\"https://colab.research.google.com/assets/colab-badge.svg\" alt=\"Open In Colab\"/></a>"
      ]
    },
    {
      "cell_type": "code",
      "metadata": {
        "colab": {
          "base_uri": "https://localhost:8080/"
        },
        "id": "JPJcfIlrg8Nl",
        "outputId": "a9acd9c6-b754-4673-ca17-71abea53cd9e"
      },
      "source": [
        "from google.colab import drive\n",
        "drive.mount('/content/drive')"
      ],
      "execution_count": 1,
      "outputs": [
        {
          "output_type": "stream",
          "text": [
            "Drive already mounted at /content/drive; to attempt to forcibly remount, call drive.mount(\"/content/drive\", force_remount=True).\n"
          ],
          "name": "stdout"
        }
      ]
    },
    {
      "cell_type": "markdown",
      "metadata": {
        "id": "i6p4gdM_Feqb"
      },
      "source": [
        "# 1. Import Libraries/Dataset"
      ]
    },
    {
      "cell_type": "markdown",
      "metadata": {
        "id": "nSIUM6YNFkEk"
      },
      "source": [
        "## a. Import the required libraries and the dataset."
      ]
    },
    {
      "cell_type": "code",
      "metadata": {
        "id": "-E4TvIVLMa73",
        "scrolled": true,
        "trusted": false
      },
      "source": [
        "import os\n",
        "seed=21\n",
        "os.environ['PYTHONHASHSEED']=str(seed)\n",
        "import copy\n",
        "import time\n",
        "import numpy as np \n",
        "import pandas as pd \n",
        "import seaborn as sns \n",
        "import matplotlib.pyplot as plt\n",
        "plt.style.use('ggplot')\n",
        "from sklearn.metrics import roc_curve, auc\n",
        "from sklearn.metrics import classification_report, confusion_matrix, roc_auc_score\n",
        "from sklearn.model_selection import train_test_split\n",
        "from mlxtend.plotting import plot_confusion_matrix\n",
        "import matplotlib.cm as cm\n",
        "from matplotlib import rcParams\n",
        "from collections import Counter\n",
        "import tensorflow.keras.regularizers as reg\n",
        "import tensorflow as tf\n",
        "from tensorflow.keras.layers import LSTM, Activation, Dense, Dropout, Input, Embedding\n",
        "from tensorflow.keras.models import Model\n",
        "from tensorflow.keras.callbacks import EarlyStopping\n",
        "from tensorflow.keras.optimizers import RMSprop, Adam\n",
        "from tensorflow.keras.preprocessing.text import Tokenizer\n",
        "from tensorflow.keras.preprocessing import sequence\n",
        "import tensorflow_hub as hub\n",
        "embed = hub.load(\"https://tfhub.dev/google/nnlm-en-dim128/2\")\n",
        "%matplotlib inline\n",
        "from wordcloud import WordCloud, STOPWORDS\n",
        "import warnings\n",
        "warnings.filterwarnings(\"ignore\")\n",
        "\n",
        "def reset_random_seeds(seed_val):\n",
        "    os.environ['PYTHONHASHSEED']=str(seed_val)\n",
        "    tf.random.set_seed(seed_val)\n",
        "    np.random.seed(seed_val)\n",
        "\n",
        "reset_random_seeds(seed)"
      ],
      "execution_count": 2,
      "outputs": []
    },
    {
      "cell_type": "markdown",
      "metadata": {
        "id": "juSMkpM6F1_Z"
      },
      "source": [
        "## b. Check the GPU available"
      ]
    },
    {
      "cell_type": "code",
      "metadata": {
        "colab": {
          "base_uri": "https://localhost:8080/"
        },
        "id": "bQBPgeHjF_9D",
        "outputId": "ab846390-936e-4bac-d66e-65138795f3ae"
      },
      "source": [
        "!nvidia-smi -L"
      ],
      "execution_count": 3,
      "outputs": [
        {
          "output_type": "stream",
          "text": [
            "GPU 0: Tesla T4 (UUID: GPU-d9cfb038-176d-a0a4-332e-f60afc0259bf)\n"
          ],
          "name": "stdout"
        }
      ]
    },
    {
      "cell_type": "markdown",
      "metadata": {
        "id": "uAfFbvzZGQcB"
      },
      "source": [
        "# Data Visualization"
      ]
    },
    {
      "cell_type": "code",
      "metadata": {
        "id": "l3v6JNFSKzfw"
      },
      "source": [
        "data = pd.read_csv(\"/content/drive/MyDrive/Mtech DSE BITS/Sem3/DL/Assignment1/training.1600000.processed.noemoticon.csv\", encoding = \"ISO-8859-1\", engine=\"python\", header=None)\n",
        " # As the data has no column titles, we will add our own\n",
        "data.columns = [\"label\", \"time\", \"date\", \"query\", \"username\", \"text\"]"
      ],
      "execution_count": 4,
      "outputs": []
    },
    {
      "cell_type": "markdown",
      "metadata": {
        "id": "JiMTd9phGfxV"
      },
      "source": [
        "## a. Print at least two movie reviews from each class of the dataset, for a sanity check that labels match the text."
      ]
    },
    {
      "cell_type": "code",
      "metadata": {
        "id": "UbdjOYVkINQ5"
      },
      "source": [
        "df_pos = data[data['label'] == 4]\n",
        "df_neg = data[data['label'] == 0]"
      ],
      "execution_count": 5,
      "outputs": []
    },
    {
      "cell_type": "code",
      "metadata": {
        "colab": {
          "base_uri": "https://localhost:8080/"
        },
        "id": "lwT3CHBsIPil",
        "outputId": "64fa460d-c43a-4720-9c5c-a0b9660fd573"
      },
      "source": [
        "print('POSITIVE Label data ')\n",
        "print(df_pos.head())"
      ],
      "execution_count": 6,
      "outputs": [
        {
          "output_type": "stream",
          "text": [
            "POSITIVE Label data \n",
            "        label  ...                                               text\n",
            "800000      4  ...       I LOVE @Health4UandPets u guys r the best!! \n",
            "800001      4  ...  im meeting up with one of my besties tonight! ...\n",
            "800002      4  ...  @DaRealSunisaKim Thanks for the Twitter add, S...\n",
            "800003      4  ...  Being sick can be really cheap when it hurts t...\n",
            "800004      4  ...    @LovesBrooklyn2 he has that effect on everyone \n",
            "\n",
            "[5 rows x 6 columns]\n"
          ],
          "name": "stdout"
        }
      ]
    },
    {
      "cell_type": "code",
      "metadata": {
        "colab": {
          "base_uri": "https://localhost:8080/"
        },
        "id": "jb959RLJI7al",
        "outputId": "95dec271-2a35-4657-a3fe-524905a2a701"
      },
      "source": [
        "print('Negative Label data ')\n",
        "print(df_neg.head())"
      ],
      "execution_count": 7,
      "outputs": [
        {
          "output_type": "stream",
          "text": [
            "Negative Label data \n",
            "   label  ...                                               text\n",
            "0      0  ...  @switchfoot http://twitpic.com/2y1zl - Awww, t...\n",
            "1      0  ...  is upset that he can't update his Facebook by ...\n",
            "2      0  ...  @Kenichan I dived many times for the ball. Man...\n",
            "3      0  ...    my whole body feels itchy and like its on fire \n",
            "4      0  ...  @nationwideclass no, it's not behaving at all....\n",
            "\n",
            "[5 rows x 6 columns]\n"
          ],
          "name": "stdout"
        }
      ]
    },
    {
      "cell_type": "markdown",
      "metadata": {
        "id": "nOYepGcYKCiZ"
      },
      "source": [
        "#### Five top records of data"
      ]
    },
    {
      "cell_type": "code",
      "metadata": {
        "trusted": false,
        "id": "o27SeogeKCiZ",
        "colab": {
          "base_uri": "https://localhost:8080/",
          "height": 195
        },
        "outputId": "e158dd08-5226-40ef-a9de-fa1d559456fa"
      },
      "source": [
        "data.head()"
      ],
      "execution_count": 8,
      "outputs": [
        {
          "output_type": "execute_result",
          "data": {
            "text/html": [
              "<div>\n",
              "<style scoped>\n",
              "    .dataframe tbody tr th:only-of-type {\n",
              "        vertical-align: middle;\n",
              "    }\n",
              "\n",
              "    .dataframe tbody tr th {\n",
              "        vertical-align: top;\n",
              "    }\n",
              "\n",
              "    .dataframe thead th {\n",
              "        text-align: right;\n",
              "    }\n",
              "</style>\n",
              "<table border=\"1\" class=\"dataframe\">\n",
              "  <thead>\n",
              "    <tr style=\"text-align: right;\">\n",
              "      <th></th>\n",
              "      <th>label</th>\n",
              "      <th>time</th>\n",
              "      <th>date</th>\n",
              "      <th>query</th>\n",
              "      <th>username</th>\n",
              "      <th>text</th>\n",
              "    </tr>\n",
              "  </thead>\n",
              "  <tbody>\n",
              "    <tr>\n",
              "      <th>0</th>\n",
              "      <td>0</td>\n",
              "      <td>1467810369</td>\n",
              "      <td>Mon Apr 06 22:19:45 PDT 2009</td>\n",
              "      <td>NO_QUERY</td>\n",
              "      <td>_TheSpecialOne_</td>\n",
              "      <td>@switchfoot http://twitpic.com/2y1zl - Awww, t...</td>\n",
              "    </tr>\n",
              "    <tr>\n",
              "      <th>1</th>\n",
              "      <td>0</td>\n",
              "      <td>1467810672</td>\n",
              "      <td>Mon Apr 06 22:19:49 PDT 2009</td>\n",
              "      <td>NO_QUERY</td>\n",
              "      <td>scotthamilton</td>\n",
              "      <td>is upset that he can't update his Facebook by ...</td>\n",
              "    </tr>\n",
              "    <tr>\n",
              "      <th>2</th>\n",
              "      <td>0</td>\n",
              "      <td>1467810917</td>\n",
              "      <td>Mon Apr 06 22:19:53 PDT 2009</td>\n",
              "      <td>NO_QUERY</td>\n",
              "      <td>mattycus</td>\n",
              "      <td>@Kenichan I dived many times for the ball. Man...</td>\n",
              "    </tr>\n",
              "    <tr>\n",
              "      <th>3</th>\n",
              "      <td>0</td>\n",
              "      <td>1467811184</td>\n",
              "      <td>Mon Apr 06 22:19:57 PDT 2009</td>\n",
              "      <td>NO_QUERY</td>\n",
              "      <td>ElleCTF</td>\n",
              "      <td>my whole body feels itchy and like its on fire</td>\n",
              "    </tr>\n",
              "    <tr>\n",
              "      <th>4</th>\n",
              "      <td>0</td>\n",
              "      <td>1467811193</td>\n",
              "      <td>Mon Apr 06 22:19:57 PDT 2009</td>\n",
              "      <td>NO_QUERY</td>\n",
              "      <td>Karoli</td>\n",
              "      <td>@nationwideclass no, it's not behaving at all....</td>\n",
              "    </tr>\n",
              "  </tbody>\n",
              "</table>\n",
              "</div>"
            ],
            "text/plain": [
              "   label  ...                                               text\n",
              "0      0  ...  @switchfoot http://twitpic.com/2y1zl - Awww, t...\n",
              "1      0  ...  is upset that he can't update his Facebook by ...\n",
              "2      0  ...  @Kenichan I dived many times for the ball. Man...\n",
              "3      0  ...    my whole body feels itchy and like its on fire \n",
              "4      0  ...  @nationwideclass no, it's not behaving at all....\n",
              "\n",
              "[5 rows x 6 columns]"
            ]
          },
          "metadata": {
            "tags": []
          },
          "execution_count": 8
        }
      ]
    },
    {
      "cell_type": "markdown",
      "metadata": {
        "id": "mTEv12ZUKCia"
      },
      "source": [
        "#### Five last records of data"
      ]
    },
    {
      "cell_type": "code",
      "metadata": {
        "trusted": false,
        "id": "Cj8PV1c-KCia",
        "colab": {
          "base_uri": "https://localhost:8080/",
          "height": 195
        },
        "outputId": "32d48c57-9382-4e87-8d14-ca304c72f4ce"
      },
      "source": [
        "data.tail()"
      ],
      "execution_count": 9,
      "outputs": [
        {
          "output_type": "execute_result",
          "data": {
            "text/html": [
              "<div>\n",
              "<style scoped>\n",
              "    .dataframe tbody tr th:only-of-type {\n",
              "        vertical-align: middle;\n",
              "    }\n",
              "\n",
              "    .dataframe tbody tr th {\n",
              "        vertical-align: top;\n",
              "    }\n",
              "\n",
              "    .dataframe thead th {\n",
              "        text-align: right;\n",
              "    }\n",
              "</style>\n",
              "<table border=\"1\" class=\"dataframe\">\n",
              "  <thead>\n",
              "    <tr style=\"text-align: right;\">\n",
              "      <th></th>\n",
              "      <th>label</th>\n",
              "      <th>time</th>\n",
              "      <th>date</th>\n",
              "      <th>query</th>\n",
              "      <th>username</th>\n",
              "      <th>text</th>\n",
              "    </tr>\n",
              "  </thead>\n",
              "  <tbody>\n",
              "    <tr>\n",
              "      <th>1599995</th>\n",
              "      <td>4</td>\n",
              "      <td>2193601966</td>\n",
              "      <td>Tue Jun 16 08:40:49 PDT 2009</td>\n",
              "      <td>NO_QUERY</td>\n",
              "      <td>AmandaMarie1028</td>\n",
              "      <td>Just woke up. Having no school is the best fee...</td>\n",
              "    </tr>\n",
              "    <tr>\n",
              "      <th>1599996</th>\n",
              "      <td>4</td>\n",
              "      <td>2193601969</td>\n",
              "      <td>Tue Jun 16 08:40:49 PDT 2009</td>\n",
              "      <td>NO_QUERY</td>\n",
              "      <td>TheWDBoards</td>\n",
              "      <td>TheWDB.com - Very cool to hear old Walt interv...</td>\n",
              "    </tr>\n",
              "    <tr>\n",
              "      <th>1599997</th>\n",
              "      <td>4</td>\n",
              "      <td>2193601991</td>\n",
              "      <td>Tue Jun 16 08:40:49 PDT 2009</td>\n",
              "      <td>NO_QUERY</td>\n",
              "      <td>bpbabe</td>\n",
              "      <td>Are you ready for your MoJo Makeover? Ask me f...</td>\n",
              "    </tr>\n",
              "    <tr>\n",
              "      <th>1599998</th>\n",
              "      <td>4</td>\n",
              "      <td>2193602064</td>\n",
              "      <td>Tue Jun 16 08:40:49 PDT 2009</td>\n",
              "      <td>NO_QUERY</td>\n",
              "      <td>tinydiamondz</td>\n",
              "      <td>Happy 38th Birthday to my boo of alll time!!! ...</td>\n",
              "    </tr>\n",
              "    <tr>\n",
              "      <th>1599999</th>\n",
              "      <td>4</td>\n",
              "      <td>2193602129</td>\n",
              "      <td>Tue Jun 16 08:40:50 PDT 2009</td>\n",
              "      <td>NO_QUERY</td>\n",
              "      <td>RyanTrevMorris</td>\n",
              "      <td>happy #charitytuesday @theNSPCC @SparksCharity...</td>\n",
              "    </tr>\n",
              "  </tbody>\n",
              "</table>\n",
              "</div>"
            ],
            "text/plain": [
              "         label  ...                                               text\n",
              "1599995      4  ...  Just woke up. Having no school is the best fee...\n",
              "1599996      4  ...  TheWDB.com - Very cool to hear old Walt interv...\n",
              "1599997      4  ...  Are you ready for your MoJo Makeover? Ask me f...\n",
              "1599998      4  ...  Happy 38th Birthday to my boo of alll time!!! ...\n",
              "1599999      4  ...  happy #charitytuesday @theNSPCC @SparksCharity...\n",
              "\n",
              "[5 rows x 6 columns]"
            ]
          },
          "metadata": {
            "tags": []
          },
          "execution_count": 9
        }
      ]
    },
    {
      "cell_type": "markdown",
      "metadata": {
        "id": "9fgEQYqKKCia"
      },
      "source": [
        "#### Coloumns/features in data"
      ]
    },
    {
      "cell_type": "code",
      "metadata": {
        "trusted": false,
        "id": "GsDEwSDGKCia",
        "colab": {
          "base_uri": "https://localhost:8080/"
        },
        "outputId": "664fff7f-3d5c-4949-ee7b-3be5b8086ad6"
      },
      "source": [
        "data.columns"
      ],
      "execution_count": 10,
      "outputs": [
        {
          "output_type": "execute_result",
          "data": {
            "text/plain": [
              "Index(['label', 'time', 'date', 'query', 'username', 'text'], dtype='object')"
            ]
          },
          "metadata": {
            "tags": []
          },
          "execution_count": 10
        }
      ]
    },
    {
      "cell_type": "code",
      "metadata": {
        "colab": {
          "base_uri": "https://localhost:8080/"
        },
        "id": "0NWO_gLOJVgE",
        "outputId": "2ec4cd8b-82e1-49d5-9dac-437f2d3835b1"
      },
      "source": [
        "data['label'].value_counts()"
      ],
      "execution_count": 11,
      "outputs": [
        {
          "output_type": "execute_result",
          "data": {
            "text/plain": [
              "4    800000\n",
              "0    800000\n",
              "Name: label, dtype: int64"
            ]
          },
          "metadata": {
            "tags": []
          },
          "execution_count": 11
        }
      ]
    },
    {
      "cell_type": "markdown",
      "metadata": {
        "id": "oTsgnRLrKCib"
      },
      "source": [
        "#### Length of data"
      ]
    },
    {
      "cell_type": "code",
      "metadata": {
        "trusted": false,
        "id": "KGFjX1_KKCib",
        "colab": {
          "base_uri": "https://localhost:8080/"
        },
        "outputId": "e0a86d25-e426-4ab6-93fe-b234ae06cfeb"
      },
      "source": [
        "print('lenght of data is', len(data))"
      ],
      "execution_count": 12,
      "outputs": [
        {
          "output_type": "stream",
          "text": [
            "lenght of data is 1600000\n"
          ],
          "name": "stdout"
        }
      ]
    },
    {
      "cell_type": "markdown",
      "metadata": {
        "id": "ZZ83WJfUKCib"
      },
      "source": [
        "#### Shape of data"
      ]
    },
    {
      "cell_type": "code",
      "metadata": {
        "trusted": false,
        "id": "7BloB18eKCib",
        "colab": {
          "base_uri": "https://localhost:8080/"
        },
        "outputId": "0fba6189-ee32-4aac-ed1a-aeaecbbfaba5"
      },
      "source": [
        "data.shape"
      ],
      "execution_count": 13,
      "outputs": [
        {
          "output_type": "execute_result",
          "data": {
            "text/plain": [
              "(1600000, 6)"
            ]
          },
          "metadata": {
            "tags": []
          },
          "execution_count": 13
        }
      ]
    },
    {
      "cell_type": "markdown",
      "metadata": {
        "id": "mUJyZyLFKCic"
      },
      "source": [
        "#### Data information"
      ]
    },
    {
      "cell_type": "code",
      "metadata": {
        "scrolled": false,
        "trusted": false,
        "id": "RzY8eV-YKCic",
        "colab": {
          "base_uri": "https://localhost:8080/"
        },
        "outputId": "aca66954-d83b-4940-8cec-f01e8ed6b76a"
      },
      "source": [
        "data.info()"
      ],
      "execution_count": 14,
      "outputs": [
        {
          "output_type": "stream",
          "text": [
            "<class 'pandas.core.frame.DataFrame'>\n",
            "RangeIndex: 1600000 entries, 0 to 1599999\n",
            "Data columns (total 6 columns):\n",
            " #   Column    Non-Null Count    Dtype \n",
            "---  ------    --------------    ----- \n",
            " 0   label     1600000 non-null  int64 \n",
            " 1   time      1600000 non-null  int64 \n",
            " 2   date      1600000 non-null  object\n",
            " 3   query     1600000 non-null  object\n",
            " 4   username  1600000 non-null  object\n",
            " 5   text      1600000 non-null  object\n",
            "dtypes: int64(2), object(4)\n",
            "memory usage: 73.2+ MB\n"
          ],
          "name": "stdout"
        }
      ]
    },
    {
      "cell_type": "markdown",
      "metadata": {
        "id": "aDLzeBmoKCic"
      },
      "source": [
        "#### Data types of all coloumns"
      ]
    },
    {
      "cell_type": "code",
      "metadata": {
        "trusted": false,
        "id": "qOGeo1NwKCic",
        "colab": {
          "base_uri": "https://localhost:8080/"
        },
        "outputId": "49c55de8-9eac-4e04-96fd-747c5c1f2d88"
      },
      "source": [
        "data.dtypes"
      ],
      "execution_count": 15,
      "outputs": [
        {
          "output_type": "execute_result",
          "data": {
            "text/plain": [
              "label        int64\n",
              "time         int64\n",
              "date        object\n",
              "query       object\n",
              "username    object\n",
              "text        object\n",
              "dtype: object"
            ]
          },
          "metadata": {
            "tags": []
          },
          "execution_count": 15
        }
      ]
    },
    {
      "cell_type": "markdown",
      "metadata": {
        "id": "Fn3MeiXbKCic"
      },
      "source": [
        "#### Checking Null values"
      ]
    },
    {
      "cell_type": "code",
      "metadata": {
        "scrolled": true,
        "trusted": false,
        "id": "2sis1zAMKCid",
        "colab": {
          "base_uri": "https://localhost:8080/"
        },
        "outputId": "1864117c-cc38-42a7-b3de-17d09ce4cc0a"
      },
      "source": [
        "np.sum(data.isnull().any(axis=1))"
      ],
      "execution_count": 16,
      "outputs": [
        {
          "output_type": "execute_result",
          "data": {
            "text/plain": [
              "0"
            ]
          },
          "metadata": {
            "tags": []
          },
          "execution_count": 16
        }
      ]
    },
    {
      "cell_type": "markdown",
      "metadata": {
        "id": "lfQdCQMVKCid"
      },
      "source": [
        "#### Rows and columns in the dataset"
      ]
    },
    {
      "cell_type": "code",
      "metadata": {
        "trusted": false,
        "id": "c_t0JWayKCid",
        "colab": {
          "base_uri": "https://localhost:8080/"
        },
        "outputId": "532025d3-6430-4ef1-e8d4-6609b0247c47"
      },
      "source": [
        "print('Count of columns in the data is:  ', len(data.columns))"
      ],
      "execution_count": 17,
      "outputs": [
        {
          "output_type": "stream",
          "text": [
            "Count of columns in the data is:   6\n"
          ],
          "name": "stdout"
        }
      ]
    },
    {
      "cell_type": "code",
      "metadata": {
        "trusted": false,
        "id": "qCh06swEKCid",
        "colab": {
          "base_uri": "https://localhost:8080/"
        },
        "outputId": "340bc368-9ed5-4edd-ca43-8caa9975daf6"
      },
      "source": [
        "print('Count of rows in the data is:  ', len(data))"
      ],
      "execution_count": 18,
      "outputs": [
        {
          "output_type": "stream",
          "text": [
            "Count of rows in the data is:   1600000\n"
          ],
          "name": "stdout"
        }
      ]
    },
    {
      "cell_type": "code",
      "metadata": {
        "trusted": false,
        "id": "7uH3hZt1KCie"
      },
      "source": [
        "data=data[['text','label']]"
      ],
      "execution_count": 19,
      "outputs": []
    },
    {
      "cell_type": "markdown",
      "metadata": {
        "id": "Fk_M2ylaKjKv"
      },
      "source": [
        "## b. Plot a bar graph of class distribution in a dataset. Each bar depicts the number of tweets belonging to a particular sentiment."
      ]
    },
    {
      "cell_type": "code",
      "metadata": {
        "colab": {
          "base_uri": "https://localhost:8080/",
          "height": 300
        },
        "id": "KuTDouhfKq5c",
        "outputId": "b87f2edb-8bd0-4985-8578-c5d5256a533d"
      },
      "source": [
        "datag = data.groupby('label').size().reset_index(name='count')\n",
        "sns.barplot(y=\"count\",x=\"label\", data=datag)\n"
      ],
      "execution_count": 20,
      "outputs": [
        {
          "output_type": "execute_result",
          "data": {
            "text/plain": [
              "<matplotlib.axes._subplots.AxesSubplot at 0x7f17b0120650>"
            ]
          },
          "metadata": {
            "tags": []
          },
          "execution_count": 20
        },
        {
          "output_type": "display_data",
          "data": {
            "image/png": "[encoded data removed]",
            "text/plain": [
              "<Figure size 432x288 with 1 Axes>"
            ]
          },
          "metadata": {
            "tags": [],
            "needs_background": "light"
          }
        }
      ]
    },
    {
      "cell_type": "markdown",
      "metadata": {
        "id": "nzQtvtpAK9S3"
      },
      "source": [
        "## c. Other visualizations"
      ]
    },
    {
      "cell_type": "code",
      "metadata": {
        "id": "ZG7Oj0oILAEK"
      },
      "source": [
        "stopwords_ = set(STOPWORDS)\n",
        "\n",
        "def show_wordcloud(data, title = None):\n",
        "    wordcloud = WordCloud(\n",
        "        collocations=False,\n",
        "        background_color='white',\n",
        "        stopwords=stopwords_,\n",
        "        max_words=200,\n",
        "        max_font_size=40, \n",
        "        scale=3,\n",
        "        random_state=1\n",
        "    ).generate(str(data))\n",
        "\n",
        "    fig = plt.figure(1, figsize=(12, 12))\n",
        "    plt.axis('off')\n",
        "    if title: \n",
        "        fig.suptitle(title, fontsize=20)\n",
        "        fig.subplots_adjust(top=2.3)\n",
        "\n",
        "    plt.imshow(wordcloud)\n",
        "    plt.show()"
      ],
      "execution_count": 21,
      "outputs": []
    },
    {
      "cell_type": "code",
      "metadata": {
        "colab": {
          "base_uri": "https://localhost:8080/",
          "height": 418
        },
        "id": "FILh_fxHLZYO",
        "outputId": "f5c0a9b5-ade7-4e9e-e344-badc732c236c"
      },
      "source": [
        "show_wordcloud(data['text'], \"WordCloud for tweets\")"
      ],
      "execution_count": 22,
      "outputs": [
        {
          "output_type": "display_data",
          "data": {
            "image/png": "[encoded data removed]",
            "text/plain": [
              "<Figure size 864x864 with 1 Axes>"
            ]
          },
          "metadata": {
            "tags": [],
            "needs_background": "light"
          }
        }
      ]
    },
    {
      "cell_type": "markdown",
      "metadata": {
        "id": "h1LHirJ9L52M"
      },
      "source": [
        "# Data Pre-processing\n",
        "a. Need for this Step-Since the models we use cannot accept string inputs or cannot be of the string format. We have to come up with a way of handling this step. The discussion of different ways of handling this step is out of the scope of this assignment.\n",
        "\n",
        "b. Please use this pre-trained embedding layerfrom TensorFlow hub for this assignment. This link also has a code snippet on how to convert a sentence to a vector. Refer to that for further clarity on this subject.\n",
        "\n",
        "c. Bring the train and test data in the required format."
      ]
    },
    {
      "cell_type": "markdown",
      "metadata": {
        "id": "Oi8vSNbpKCie"
      },
      "source": [
        "## Assigning 1 to Positive sentment 4"
      ]
    },
    {
      "cell_type": "code",
      "metadata": {
        "trusted": false,
        "id": "6ONumEf8KCie"
      },
      "source": [
        "data['label'][data['label']==4]=1"
      ],
      "execution_count": 23,
      "outputs": []
    },
    {
      "cell_type": "markdown",
      "metadata": {
        "id": "mmNpy1QpKCim"
      },
      "source": [
        "##  Separating input feature and label"
      ]
    },
    {
      "cell_type": "code",
      "metadata": {
        "trusted": false,
        "id": "b4h-3yaRKCim"
      },
      "source": [
        "X=data.text\n",
        "y=data.label"
      ],
      "execution_count": 24,
      "outputs": []
    },
    {
      "cell_type": "markdown",
      "metadata": {
        "id": "50j7wbfOqM3v"
      },
      "source": [
        "### c. Bring the train and test data in the required format."
      ]
    },
    {
      "cell_type": "markdown",
      "metadata": {
        "id": "AxapX0rxdfaF"
      },
      "source": [
        "#### Separating the 80% data for training data and 20% for testing data\n",
        "As we prepared all the tweets, now we are separating/splitting the tweets into training data and testing data.\n",
        "- 80% tweets will be used in the training \n",
        "- 20% tweets will be used to test the performance of the model."
      ]
    },
    {
      "cell_type": "markdown",
      "metadata": {
        "id": "pHKBHBTmdfaG"
      },
      "source": [
        ""
      ]
    },
    {
      "cell_type": "code",
      "metadata": {
        "trusted": false,
        "id": "yh-985gTdfaH"
      },
      "source": [
        "X_train_org, X_test_org, Y_train, Y_test = train_test_split(data, y, test_size=0.2, random_state=2)\n",
        "X_train_org, X_val_org, Y_train, Y_val = train_test_split(X_train_org, Y_train, test_size=0.2, random_state=3)"
      ],
      "execution_count": 25,
      "outputs": []
    },
    {
      "cell_type": "markdown",
      "metadata": {
        "id": "LEOdcrgOqEFH"
      },
      "source": [
        "### b. Please use this pre-trained embedding layer from TensorFlow hub for this assignment. "
      ]
    },
    {
      "cell_type": "code",
      "metadata": {
        "id": "XlXrUuTPX6We"
      },
      "source": [
        "X_train = embed(X_train_org.text.values).numpy()\n",
        "X_val = embed(X_val_org.text.values).numpy()\n",
        "X_test = embed(X_test_org.text.values).numpy()"
      ],
      "execution_count": 26,
      "outputs": []
    },
    {
      "cell_type": "markdown",
      "metadata": {
        "id": "ZGnU9IYoj4WJ"
      },
      "source": [
        "# Data Visualization"
      ]
    },
    {
      "cell_type": "markdown",
      "metadata": {
        "id": "0KrgHDaFiyzO"
      },
      "source": [
        "## d. Print the shapes of train and test data."
      ]
    },
    {
      "cell_type": "code",
      "metadata": {
        "colab": {
          "base_uri": "https://localhost:8080/"
        },
        "id": "UfpN3DridfaJ",
        "outputId": "c7a6af8d-aacc-4b77-d868-fcd3cf2df99e"
      },
      "source": [
        "print('X_train: ', X_train.shape)\n",
        "print('X_test: ', X_test.shape)\n",
        "print('Y_train: ', Y_train.shape)\n",
        "print('Y_test: ', Y_test.shape)"
      ],
      "execution_count": 27,
      "outputs": [
        {
          "output_type": "stream",
          "text": [
            "X_train:  (1024000, 128)\n",
            "X_test:  (320000, 128)\n",
            "Y_train:  (1024000,)\n",
            "Y_test:  (320000,)\n"
          ],
          "name": "stdout"
        }
      ]
    },
    {
      "cell_type": "markdown",
      "metadata": {
        "id": "KmWtpqffkKdD"
      },
      "source": [
        "# Model Building\n",
        "a. Sequential Model layers-Use AT LEAST 3 hidden layers with appropriate input for each. Choose the best number for hidden units and give reasons. : **To prepare near best model we gradually decrease number of neurons in hidden layers by dividing the number of neurons in the previous layers by 2. Hence when we start at 64 neurons and have to prepare 2 more layers then one option would be 32 followed by 16**\n",
        "\n",
        "b. Add L2 regularization to all the layers.\n",
        "\n",
        "c. Add one layer of dropout at the appropriate position and give reasons.d.Choose the appropriate activation function for all the layers.e.Print the model summary."
      ]
    },
    {
      "cell_type": "code",
      "metadata": {
        "trusted": false,
        "id": "jfAbS-DrdfaL"
      },
      "source": [
        "def model_base(): #Defined tensorflow_based_model function for training tenforflow based model\n",
        "    inputs = Input(name='inputs',shape=(128))\n",
        "    layer = Dropout(0.1, name='dropout')(inputs)\n",
        "    layer = Dense(64,name='layer1', activation='relu',kernel_regularizer=reg.L2(0.0005))(layer)\n",
        "    layer = Dense(32,name='layer2', activation='relu', kernel_regularizer=reg.L2(0.0005))(layer) \n",
        "    layer = Dense(16,name='layer3', activation='relu', kernel_regularizer=reg.L2(0.0005))(layer) \n",
        "    layer = Dense(1,name='output', activation='sigmoid')(layer) \n",
        "    model = Model(inputs=inputs,outputs=layer) #here we are getting the final output value in the model for classification\n",
        "    return model #function returning the value when we call it\n",
        "\n",
        "callback = EarlyStopping(monitor='val_loss', min_delta=0.001, patience=3, verbose=1,mode='auto', baseline=None, restore_best_weights=False\n",
        ")"
      ],
      "execution_count": 28,
      "outputs": []
    },
    {
      "cell_type": "markdown",
      "metadata": {
        "id": "gBo5WAObklEv"
      },
      "source": [
        "## e. Print the model summary"
      ]
    },
    {
      "cell_type": "code",
      "metadata": {
        "colab": {
          "base_uri": "https://localhost:8080/"
        },
        "id": "eSLtYUvzkeel",
        "outputId": "bccfb283-4640-419e-ff18-d646b0297e45"
      },
      "source": [
        "model = model_base() # here we are calling the function of created model\n",
        "print('Model summary')\n",
        "model.summary() "
      ],
      "execution_count": 29,
      "outputs": [
        {
          "output_type": "stream",
          "text": [
            "Model summary\n",
            "Model: \"model\"\n",
            "_________________________________________________________________\n",
            "Layer (type)                 Output Shape              Param #   \n",
            "=================================================================\n",
            "inputs (InputLayer)          [(None, 128)]             0         \n",
            "_________________________________________________________________\n",
            "dropout (Dropout)            (None, 128)               0         \n",
            "_________________________________________________________________\n",
            "layer1 (Dense)               (None, 64)                8256      \n",
            "_________________________________________________________________\n",
            "layer2 (Dense)               (None, 32)                2080      \n",
            "_________________________________________________________________\n",
            "layer3 (Dense)               (None, 16)                528       \n",
            "_________________________________________________________________\n",
            "output (Dense)               (None, 1)                 17        \n",
            "=================================================================\n",
            "Total params: 10,881\n",
            "Trainable params: 10,881\n",
            "Non-trainable params: 0\n",
            "_________________________________________________________________\n"
          ],
          "name": "stdout"
        }
      ]
    },
    {
      "cell_type": "markdown",
      "metadata": {
        "id": "DaDXPiHTdfaM"
      },
      "source": [
        "# Model Compilation\n",
        "a.Compile the model with the appropriate loss function.\n",
        "\n",
        "b.Use an appropriate optimizer. Give reasons for the choice of learning rate and its value.: **We intially choose 0.001(least possible) but later realised that the training is too slow and could be improved without compromising the accuracy of the model so changed the learning rate to 0.005.**\n",
        "\n",
        "c.Use accuracy as a metric."
      ]
    },
    {
      "cell_type": "code",
      "metadata": {
        "trusted": false,
        "id": "h9hLp6hSdfaM"
      },
      "source": [
        "model.compile(loss='binary_crossentropy',optimizer=RMSprop(learning_rate=0.005),metrics=['accuracy']) "
      ],
      "execution_count": 30,
      "outputs": []
    },
    {
      "cell_type": "markdown",
      "metadata": {
        "id": "t-2KVd0nmq_y"
      },
      "source": [
        "# Model Training\n",
        "a. Train the model for an appropriate number of epochs. Print the train and validation accuracy and loss for each epoch. Use the appropriate batch size.\n",
        "\n",
        "b. Plot the loss and accuracy history graphs for both train and validation set. Print the total time taken for training."
      ]
    },
    {
      "cell_type": "code",
      "metadata": {
        "trusted": false,
        "colab": {
          "base_uri": "https://localhost:8080/"
        },
        "id": "no0JaydzdfaN",
        "outputId": "42660682-98e9-4fbe-ccc8-442e428c871c"
      },
      "source": [
        "startTime = time.time()\n",
        "history=model.fit(X_train,Y_train,batch_size=128,epochs=100, validation_data=(X_val, Y_val), callbacks=[callback])# here we are starting the training of model by feeding the training data\n",
        "endTime = time.time()\n",
        "print('Training finished in : {}s'.format(round(endTime - startTime, 2)))"
      ],
      "execution_count": 31,
      "outputs": [
        {
          "output_type": "stream",
          "text": [
            "Epoch 1/100\n",
            "8000/8000 [==============================] - 22s 3ms/step - loss: 0.5991 - accuracy: 0.6908 - val_loss: 0.5758 - val_accuracy: 0.7062\n",
            "Epoch 2/100\n",
            "8000/8000 [==============================] - 20s 2ms/step - loss: 0.5852 - accuracy: 0.6984 - val_loss: 0.5742 - val_accuracy: 0.7092\n",
            "Epoch 3/100\n",
            "8000/8000 [==============================] - 20s 2ms/step - loss: 0.5854 - accuracy: 0.6985 - val_loss: 0.5716 - val_accuracy: 0.7103\n",
            "Epoch 4/100\n",
            "8000/8000 [==============================] - 20s 2ms/step - loss: 0.5840 - accuracy: 0.6989 - val_loss: 0.5698 - val_accuracy: 0.7116\n",
            "Epoch 5/100\n",
            "8000/8000 [==============================] - 20s 2ms/step - loss: 0.5855 - accuracy: 0.6980 - val_loss: 0.5890 - val_accuracy: 0.6938\n",
            "Epoch 6/100\n",
            "8000/8000 [==============================] - 20s 2ms/step - loss: 0.5852 - accuracy: 0.6988 - val_loss: 0.5706 - val_accuracy: 0.7116\n",
            "Epoch 7/100\n",
            "8000/8000 [==============================] - 20s 2ms/step - loss: 0.5843 - accuracy: 0.6992 - val_loss: 0.5792 - val_accuracy: 0.7062\n",
            "Epoch 00007: early stopping\n",
            "Training finished in : 141.23s\n"
          ],
          "name": "stdout"
        }
      ]
    },
    {
      "cell_type": "code",
      "metadata": {
        "colab": {
          "base_uri": "https://localhost:8080/",
          "height": 317
        },
        "id": "TNR4m6ncPMHG",
        "outputId": "ad4b2ecd-423d-463b-dfb6-c2a0040214a7"
      },
      "source": [
        "plt.plot(history.history['accuracy'])\n",
        "plt.plot(history.history['val_accuracy'])\n",
        "plt.title('model accuracy')\n",
        "plt.ylabel('accuracy')\n",
        "plt.xlabel('epoch')\n",
        "plt.legend(['training', 'validation'])"
      ],
      "execution_count": 32,
      "outputs": [
        {
          "output_type": "execute_result",
          "data": {
            "text/plain": [
              "<matplotlib.legend.Legend at 0x7f1778085f90>"
            ]
          },
          "metadata": {
            "tags": []
          },
          "execution_count": 32
        },
        {
          "output_type": "display_data",
          "data": {
            "image/png": "[encoded data removed]",
            "text/plain": [
              "<Figure size 432x288 with 1 Axes>"
            ]
          },
          "metadata": {
            "tags": [],
            "needs_background": "light"
          }
        }
      ]
    },
    {
      "cell_type": "code",
      "metadata": {
        "colab": {
          "base_uri": "https://localhost:8080/",
          "height": 354
        },
        "id": "T0zt0W1aRXSE",
        "outputId": "e86109e6-0cf6-43da-ef0e-f9bd458afb09"
      },
      "source": [
        "print(history.history)\n",
        "plt.plot(history.history['loss'])\n",
        "plt.plot(history.history['val_loss'])\n",
        "plt.title('model loss')\n",
        "plt.ylabel('loss')\n",
        "plt.xlabel('epoch')\n",
        "plt.legend(['training', 'validation'])"
      ],
      "execution_count": 33,
      "outputs": [
        {
          "output_type": "stream",
          "text": [
            "{'loss': [0.5907541513442993, 0.5855716466903687, 0.5853090882301331, 0.5845096707344055, 0.5850762128829956, 0.5849276185035706, 0.5846545696258545], 'accuracy': [0.695562481880188, 0.6978857517242432, 0.6985878944396973, 0.6988857388496399, 0.6986552476882935, 0.6991015672683716, 0.6986904144287109], 'val_loss': [0.5757749676704407, 0.5741695165634155, 0.5715513825416565, 0.5697702765464783, 0.5889757871627808, 0.5706295967102051, 0.5791999101638794], 'val_accuracy': [0.7062343955039978, 0.7091640830039978, 0.7103086113929749, 0.711550772190094, 0.6937890648841858, 0.7116093635559082, 0.7062265872955322]}\n"
          ],
          "name": "stdout"
        },
        {
          "output_type": "execute_result",
          "data": {
            "text/plain": [
              "<matplotlib.legend.Legend at 0x7f177802bf10>"
            ]
          },
          "metadata": {
            "tags": []
          },
          "execution_count": 33
        },
        {
          "output_type": "display_data",
          "data": {
            "image/png": "[encoded data removed]",
            "text/plain": [
              "<Figure size 432x288 with 1 Axes>"
            ]
          },
          "metadata": {
            "tags": [],
            "needs_background": "light"
          }
        }
      ]
    },
    {
      "cell_type": "markdown",
      "metadata": {
        "id": "Y34PUZ6GnG7b"
      },
      "source": [
        "# Model Evaluation\n",
        "\n",
        "a.Print the final train and validation loss and accuracy. Print confusion matrix and classification report for the validation dataset. Analyse and report the best and worst performing class.\n",
        "\n",
        "b.Print the two most incorrectly classified texts for each class in the test dataset."
      ]
    },
    {
      "cell_type": "code",
      "metadata": {
        "trusted": false,
        "colab": {
          "base_uri": "https://localhost:8080/"
        },
        "id": "Hrfd48jTdfaQ",
        "outputId": "0155a38f-efb5-492b-cb18-f2630943d5ef"
      },
      "source": [
        "accr1 = model.evaluate(X_val,Y_val) #we are starting to test the model here"
      ],
      "execution_count": 34,
      "outputs": [
        {
          "output_type": "stream",
          "text": [
            "8000/8000 [==============================] - 14s 2ms/step - loss: 0.5792 - accuracy: 0.7062\n"
          ],
          "name": "stdout"
        }
      ]
    },
    {
      "cell_type": "code",
      "metadata": {
        "trusted": false,
        "colab": {
          "base_uri": "https://localhost:8080/"
        },
        "id": "1K3z4Tr9dfaQ",
        "outputId": "109ddb17-9ab4-48bb-bc54-10cf863b2dfc"
      },
      "source": [
        "print('Test set\\n  Accuracy: {:0.2f}'.format(accr1[1])) #the accuracy of the model on test data is given below"
      ],
      "execution_count": 35,
      "outputs": [
        {
          "output_type": "stream",
          "text": [
            "Test set\n",
            "  Accuracy: 0.71\n"
          ],
          "name": "stdout"
        }
      ]
    },
    {
      "cell_type": "code",
      "metadata": {
        "id": "8edTXFrbdfaR"
      },
      "source": [
        "y_pred = model.predict(X_val) #getting predictions on the trained model\n",
        "y_pred_class = (y_pred > 0.5)"
      ],
      "execution_count": 36,
      "outputs": []
    },
    {
      "cell_type": "code",
      "metadata": {
        "trusted": false,
        "colab": {
          "base_uri": "https://localhost:8080/",
          "height": 807
        },
        "id": "bYk61TZldfaR",
        "outputId": "b4c1b935-6fbf-42f5-d17d-73621e36d515"
      },
      "source": [
        "print('Classification Report')\n",
        "print(classification_report(Y_val, y_pred_class))\n",
        "print(\"Confusion matrix\")\n",
        "CR=confusion_matrix(Y_val, y_pred_class)\n",
        "print(CR)\n",
        "fig, ax = plot_confusion_matrix(conf_mat=CR,figsize=(10, 10),\n",
        "                                show_absolute=True,\n",
        "                                show_normed=True,\n",
        "                                colorbar=True)\n",
        "plt.show()"
      ],
      "execution_count": 37,
      "outputs": [
        {
          "output_type": "stream",
          "text": [
            "Classification Report\n",
            "              precision    recall  f1-score   support\n",
            "\n",
            "           0       0.74      0.63      0.68    127978\n",
            "           1       0.68      0.78      0.73    128022\n",
            "\n",
            "    accuracy                           0.71    256000\n",
            "   macro avg       0.71      0.71      0.70    256000\n",
            "weighted avg       0.71      0.71      0.70    256000\n",
            "\n",
            "Confusion matrix\n",
            "[[ 80663  47315]\n",
            " [ 27891 100131]]\n"
          ],
          "name": "stdout"
        },
        {
          "output_type": "display_data",
          "data": {
            "image/png": "[encoded data removed]",
            "text/plain": [
              "<Figure size 720x720 with 2 Axes>"
            ]
          },
          "metadata": {
            "tags": [],
            "needs_background": "light"
          }
        }
      ]
    },
    {
      "cell_type": "markdown",
      "metadata": {
        "id": "bMn5BviYnG7e"
      },
      "source": [
        "### a.Positive class or Positive Sentiment is better performing as per the confusion matrix."
      ]
    },
    {
      "cell_type": "markdown",
      "metadata": {
        "id": "kYNjpGnVdfaS"
      },
      "source": [
        "#### ROC CURVE"
      ]
    },
    {
      "cell_type": "code",
      "metadata": {
        "colab": {
          "base_uri": "https://localhost:8080/"
        },
        "id": "xRV9OfnbM73b",
        "outputId": "c78a47cc-7ea5-412c-eedd-4add1232b341"
      },
      "source": [
        "print(roc_auc_score(Y_val, y_pred_class))"
      ],
      "execution_count": 38,
      "outputs": [
        {
          "output_type": "stream",
          "text": [
            "0.7062135128056238\n"
          ],
          "name": "stdout"
        }
      ]
    },
    {
      "cell_type": "code",
      "metadata": {
        "scrolled": true,
        "trusted": false,
        "colab": {
          "base_uri": "https://localhost:8080/",
          "height": 317
        },
        "id": "9u-PLELfdfaT",
        "outputId": "31010f03-3886-42ed-dbc3-0e2e166a3d99"
      },
      "source": [
        "fpr, tpr, thresholds = roc_curve(Y_val, y_pred_class)\n",
        "roc_auc = auc(fpr, tpr)\n",
        "plt.figure()\n",
        "plt.plot(fpr, tpr, color='darkorange', lw=1, label='ROC curve (area = %0.2f)' % roc_auc)\n",
        "plt.xlim([0.0, 1.0])\n",
        "plt.ylim([0.0, 1.05])\n",
        "plt.xlabel('False Positive Rate')\n",
        "plt.ylabel('True Positive Rate')\n",
        "plt.title('ROC CURVE')\n",
        "plt.legend(loc=\"lower right\")\n",
        "plt.show()\n",
        "print()"
      ],
      "execution_count": 39,
      "outputs": [
        {
          "output_type": "display_data",
          "data": {
            "image/png": "[encoded data removed]",
            "text/plain": [
              "<Figure size 432x288 with 1 Axes>"
            ]
          },
          "metadata": {
            "tags": [],
            "needs_background": "light"
          }
        },
        {
          "output_type": "stream",
          "text": [
            "\n"
          ],
          "name": "stdout"
        }
      ]
    },
    {
      "cell_type": "markdown",
      "metadata": {
        "id": "JRXQ1T5Wn3AG"
      },
      "source": [
        "### b.Print the two most incorrectly classified texts for each class in the test dataset."
      ]
    },
    {
      "cell_type": "code",
      "metadata": {
        "id": "9OjQdeMPVhSB"
      },
      "source": [
        "def find_2_smallest_index(arr):\n",
        "    first = 999\n",
        "    second = 999\n",
        "    first_index=0\n",
        "    sexond_index=0\n",
        "    for i in range(len(arr)):\n",
        "        if arr[i] < first:\n",
        "            second = copy.deepcopy(first)\n",
        "            second_index = copy.deepcopy(first_index)\n",
        "            first = copy.deepcopy(arr[i])\n",
        "            first_index = copy.deepcopy(i)\n",
        "        elif (arr[i] < second):\n",
        "            second = copy.deepcopy(arr[i])\n",
        "            second_index = copy.deepcopy(i)\n",
        "    return first_index, second_index"
      ],
      "execution_count": 40,
      "outputs": []
    },
    {
      "cell_type": "code",
      "metadata": {
        "colab": {
          "base_uri": "https://localhost:8080/"
        },
        "id": "GKRK7UIPXCm7",
        "outputId": "efed333b-a433-43bf-94f1-d475a2b4c0bf"
      },
      "source": [
        "worst_2 = {}\n",
        "y_pred_test = model.predict(X_test)\n",
        "first_index, second_index = find_2_smallest_index(1-y_pred_test[:])\n",
        "worst_2[0] = [X_test_org.text.values[first_index],X_test_org.text.values[second_index]]\n",
        "first_index, second_index = find_2_smallest_index(y_pred_test[:])\n",
        "worst_2[1] = [X_test_org.text.values[first_index],X_test_org.text.values[second_index]]\n",
        "worst_2"
      ],
      "execution_count": 41,
      "outputs": [
        {
          "output_type": "execute_result",
          "data": {
            "text/plain": [
              "{0: ['#BTS is fallin!!   #BTS #BTS #BTS #BTS #BTS #BTS #BTS #BTS #BTS #BTS #BTS #BTS #BTS #BTS #BTS #BTS #BTS #BTS #BTS #BTS #BTS #BTS #BTS',\n",
              "  '@allenbrand Happy Birthday to you! Happy Birthday to you! Happy Birthday dear Allen! Happy Birthday to you! And many moooore! '],\n",
              " 1: ['bad bad bad bad bad bad bad bad bad bad bad bad bad bad bad bad bad bad bad day. ',\n",
              "  'headache headache headache ']}"
            ]
          },
          "metadata": {
            "tags": []
          },
          "execution_count": 41
        }
      ]
    },
    {
      "cell_type": "markdown",
      "metadata": {
        "id": "CumEnWCvTgHY"
      },
      "source": [
        "# Hyperparameter Tuning\n",
        "Build two more additional models by changing the following hyperparameters ONE at a time. Write the code for Model Building, Model Compilation, Model Training and Model Evaluation as given in the instructions above for each additional model.\n",
        "1. Batch Size: Change the value of batch size in model training\n",
        "2. Dropout: Change the position and value of dropout layer\n",
        "Write a comparison between each model and give reasons for the difference in results."
      ]
    },
    {
      "cell_type": "markdown",
      "metadata": {
        "id": "xvNttYFcywU7"
      },
      "source": [
        "### **1.Batch Size: Change the value of batch size in model training**"
      ]
    },
    {
      "cell_type": "markdown",
      "metadata": {
        "id": "A9bHvDx6y-Qv"
      },
      "source": [
        "# Model Building\n",
        "a. Sequential Model layers-Use AT LEAST 3 hidden layers with appropriate input for each. Choose the best number for hidden units and give reasons. : **To prepare near best model we gradually decrease number of neurons in hidden layers by dividing the number of neurons in the previous layers by 2. Hence when we start at 64 neurons and have to prepare 3 more layers then one option would be 32 followed by 16 followed by 8**\n",
        "\n",
        "b. Add L2 regularization to all the layers.\n",
        "\n",
        "c. Add one layer of dropout at the appropriate position and give reasons.d.Choose the appropriate activation function for all the layers.e.Print the model summary."
      ]
    },
    {
      "cell_type": "code",
      "metadata": {
        "trusted": false,
        "id": "s1VVq0NJTgHV"
      },
      "source": [
        "def model_hyp1(): #Defined tensorflow_based_model function for training tensorflow based model\n",
        "    inputs = Input(name='inputs',shape=(128))\n",
        "    layer = Dropout(0.1, name='dropout')(inputs)\n",
        "    layer = Dense(64,name='layer1', activation='relu',kernel_regularizer=reg.L2(0.0005))(layer)\n",
        "    layer = Dense(32,name='layer2', activation='relu', kernel_regularizer=reg.L2(0.0005))(layer) \n",
        "    layer = Dense(16,name='layer3', activation='relu', kernel_regularizer=reg.L2(0.0005))(layer) \n",
        "    layer = Dense(8,name='layer4', activation='relu', kernel_regularizer=reg.L2(0.0005))(layer)\n",
        "    layer = Dense(1,name='output', activation='sigmoid')(layer) \n",
        "    model = Model(inputs=inputs,outputs=layer) #here we are getting the final output value in the model for classification\n",
        "    return model #function returning the value when we call it\n",
        "\n",
        "callback = EarlyStopping(monitor='val_loss', min_delta=0.001, patience=3, verbose=1,mode='auto', baseline=None, restore_best_weights=False\n",
        ")"
      ],
      "execution_count": 42,
      "outputs": []
    },
    {
      "cell_type": "markdown",
      "metadata": {
        "id": "yrQlXs8Ez3FJ"
      },
      "source": [
        "## e. Print the model summary"
      ]
    },
    {
      "cell_type": "code",
      "metadata": {
        "trusted": false,
        "colab": {
          "base_uri": "https://localhost:8080/"
        },
        "id": "l8OhDwLVTgHZ",
        "outputId": "6f820ceb-0315-451b-d847-a0a63809ba32"
      },
      "source": [
        "model = model_hyp1() # here we are calling the function of created model\n",
        "print('Model summary')\n",
        "model.summary()"
      ],
      "execution_count": 43,
      "outputs": [
        {
          "output_type": "stream",
          "text": [
            "Model summary\n",
            "Model: \"model_1\"\n",
            "_________________________________________________________________\n",
            "Layer (type)                 Output Shape              Param #   \n",
            "=================================================================\n",
            "inputs (InputLayer)          [(None, 128)]             0         \n",
            "_________________________________________________________________\n",
            "dropout (Dropout)            (None, 128)               0         \n",
            "_________________________________________________________________\n",
            "layer1 (Dense)               (None, 64)                8256      \n",
            "_________________________________________________________________\n",
            "layer2 (Dense)               (None, 32)                2080      \n",
            "_________________________________________________________________\n",
            "layer3 (Dense)               (None, 16)                528       \n",
            "_________________________________________________________________\n",
            "layer4 (Dense)               (None, 8)                 136       \n",
            "_________________________________________________________________\n",
            "output (Dense)               (None, 1)                 9         \n",
            "=================================================================\n",
            "Total params: 11,009\n",
            "Trainable params: 11,009\n",
            "Non-trainable params: 0\n",
            "_________________________________________________________________\n"
          ],
          "name": "stdout"
        }
      ]
    },
    {
      "cell_type": "markdown",
      "metadata": {
        "id": "gqMWN4vV0vpb"
      },
      "source": [
        "# Model Compilation\n",
        "a.Compile the model with the appropriate loss function.\n",
        "\n",
        "b.Use an appropriate optimizer. Give reasons for the choice of learning rate and its value.: **We intially choose 0.001(least possible) but later realised that the training is too slow and could be improved without compromising the accuracy of the model so changed the learning rate to 0.005.**\n",
        "\n",
        "c.Use accuracy as a metric."
      ]
    },
    {
      "cell_type": "code",
      "metadata": {
        "id": "N6CblQB40qGf"
      },
      "source": [
        "model.compile(loss='binary_crossentropy',optimizer=RMSprop(learning_rate=0.005),metrics=['accuracy']) "
      ],
      "execution_count": 44,
      "outputs": []
    },
    {
      "cell_type": "markdown",
      "metadata": {
        "id": "Tby5ys3c04mg"
      },
      "source": [
        "# Model Training\n",
        "a. Train the model for an appropriate number of epochs. Print the train and validation accuracy and loss for each epoch. Use the appropriate batch size.\n",
        "\n",
        "b. Plot the loss and accuracy history graphs for both train and validation set. Print the total time taken for training."
      ]
    },
    {
      "cell_type": "code",
      "metadata": {
        "trusted": false,
        "colab": {
          "base_uri": "https://localhost:8080/"
        },
        "id": "0wftljwQTgHc",
        "outputId": "298f55be-0eed-4690-e22c-c42e8d9330e2"
      },
      "source": [
        "startTime = time.time()\n",
        "history=model.fit(X_train,Y_train,batch_size=128,epochs=100, validation_data=(X_val, Y_val), callbacks=[callback])# here we are starting the training of model by feeding the training data\n",
        "endTime = time.time()\n",
        "print('Training finished in : {}s'.format(round(endTime - startTime, 2)))"
      ],
      "execution_count": 45,
      "outputs": [
        {
          "output_type": "stream",
          "text": [
            "Epoch 1/100\n",
            "8000/8000 [==============================] - 22s 3ms/step - loss: 0.6019 - accuracy: 0.6893 - val_loss: 0.5790 - val_accuracy: 0.7049\n",
            "Epoch 2/100\n",
            "8000/8000 [==============================] - 21s 3ms/step - loss: 0.5877 - accuracy: 0.6981 - val_loss: 0.5724 - val_accuracy: 0.7115\n",
            "Epoch 3/100\n",
            "8000/8000 [==============================] - 21s 3ms/step - loss: 0.5873 - accuracy: 0.6984 - val_loss: 0.5748 - val_accuracy: 0.7080\n",
            "Epoch 4/100\n",
            "8000/8000 [==============================] - 21s 3ms/step - loss: 0.5855 - accuracy: 0.6985 - val_loss: 0.5713 - val_accuracy: 0.7108\n",
            "Epoch 5/100\n",
            "8000/8000 [==============================] - 21s 3ms/step - loss: 0.5867 - accuracy: 0.6970 - val_loss: 0.5898 - val_accuracy: 0.6933\n",
            "Epoch 6/100\n",
            "8000/8000 [==============================] - 21s 3ms/step - loss: 0.5862 - accuracy: 0.6981 - val_loss: 0.5715 - val_accuracy: 0.7118\n",
            "Epoch 7/100\n",
            "8000/8000 [==============================] - 21s 3ms/step - loss: 0.5854 - accuracy: 0.6988 - val_loss: 0.5804 - val_accuracy: 0.7046\n",
            "Epoch 00007: early stopping\n",
            "Training finished in : 149.93s\n"
          ],
          "name": "stdout"
        }
      ]
    },
    {
      "cell_type": "code",
      "metadata": {
        "colab": {
          "base_uri": "https://localhost:8080/",
          "height": 317
        },
        "id": "bzCvFyWdTgHe",
        "outputId": "4daa2662-54ef-4b29-e36a-7ac5c7981a1f"
      },
      "source": [
        "plt.plot(history.history['accuracy'])\n",
        "plt.plot(history.history['val_accuracy'])\n",
        "plt.title('model accuracy')\n",
        "plt.ylabel('accuracy')\n",
        "plt.xlabel('epoch')\n",
        "plt.legend(['training', 'validation'])"
      ],
      "execution_count": 46,
      "outputs": [
        {
          "output_type": "execute_result",
          "data": {
            "text/plain": [
              "<matplotlib.legend.Legend at 0x7f1766e77550>"
            ]
          },
          "metadata": {
            "tags": []
          },
          "execution_count": 46
        },
        {
          "output_type": "display_data",
          "data": {
            "image/png": "[encoded data removed]",
            "text/plain": [
              "<Figure size 432x288 with 1 Axes>"
            ]
          },
          "metadata": {
            "tags": [],
            "needs_background": "light"
          }
        }
      ]
    },
    {
      "cell_type": "code",
      "metadata": {
        "colab": {
          "base_uri": "https://localhost:8080/",
          "height": 317
        },
        "id": "E0TXt1y_TgHg",
        "outputId": "b6fb8c36-33a8-4c73-f488-c794b9d59b1c"
      },
      "source": [
        "plt.plot(history.history['loss'])\n",
        "plt.plot(history.history['val_loss'])\n",
        "plt.title('model loss')\n",
        "plt.ylabel('loss')\n",
        "plt.xlabel('epoch')\n",
        "plt.legend(['training', 'validation'])"
      ],
      "execution_count": 47,
      "outputs": [
        {
          "output_type": "execute_result",
          "data": {
            "text/plain": [
              "<matplotlib.legend.Legend at 0x7f1766eabed0>"
            ]
          },
          "metadata": {
            "tags": []
          },
          "execution_count": 47
        },
        {
          "output_type": "display_data",
          "data": {
            "image/png": "[encoded data removed]",
            "text/plain": [
              "<Figure size 432x288 with 1 Axes>"
            ]
          },
          "metadata": {
            "tags": [],
            "needs_background": "light"
          }
        }
      ]
    },
    {
      "cell_type": "markdown",
      "metadata": {
        "id": "5ERF1DUU9BI_"
      },
      "source": [
        "# Model Evaluation\n",
        "\n",
        "a.Print the final train and validation loss and accuracy. Print confusion matrix and classification report for the validation dataset. Analyse and report the best and worst performing class.\n",
        "\n",
        "b.Print the two most incorrectly classified texts for each class in the test dataset."
      ]
    },
    {
      "cell_type": "code",
      "metadata": {
        "trusted": false,
        "colab": {
          "base_uri": "https://localhost:8080/"
        },
        "id": "nzZOkOOe9BJD",
        "outputId": "fed28617-57f9-49ad-aed6-d1c6b85f8969"
      },
      "source": [
        "accr1 = model.evaluate(X_val,Y_val) #we are starting to test the model here"
      ],
      "execution_count": 48,
      "outputs": [
        {
          "output_type": "stream",
          "text": [
            "8000/8000 [==============================] - 14s 2ms/step - loss: 0.5804 - accuracy: 0.7046\n"
          ],
          "name": "stdout"
        }
      ]
    },
    {
      "cell_type": "code",
      "metadata": {
        "trusted": false,
        "colab": {
          "base_uri": "https://localhost:8080/"
        },
        "id": "v9GaHB_K9BJF",
        "outputId": "0878bd1e-6de7-4a43-a78b-ccfd8b3b1759"
      },
      "source": [
        "print('Test set\\n  Accuracy: {:0.2f}'.format(accr1[1])) #the accuracy of the model on test data is given below"
      ],
      "execution_count": 49,
      "outputs": [
        {
          "output_type": "stream",
          "text": [
            "Test set\n",
            "  Accuracy: 0.70\n"
          ],
          "name": "stdout"
        }
      ]
    },
    {
      "cell_type": "code",
      "metadata": {
        "id": "BybSBr7h9BJG"
      },
      "source": [
        "y_pred = model.predict(X_val) #getting predictions on the trained model\n",
        "y_pred_class = (y_pred > 0.5)"
      ],
      "execution_count": 50,
      "outputs": []
    },
    {
      "cell_type": "code",
      "metadata": {
        "trusted": false,
        "colab": {
          "base_uri": "https://localhost:8080/",
          "height": 804
        },
        "id": "3Dxj_ycd9BJG",
        "outputId": "d5b194d9-b921-4639-e2b1-bfbe8cacfb49"
      },
      "source": [
        "print('Classification Report')\n",
        "print(classification_report(Y_val, y_pred_class))\n",
        "print(\"Confusion matrix\")\n",
        "CR=confusion_matrix(Y_val, y_pred_class)\n",
        "print(CR)\n",
        "fig, ax = plot_confusion_matrix(conf_mat=CR,figsize=(10, 10),\n",
        "                                show_absolute=True,\n",
        "                                show_normed=True,\n",
        "                                colorbar=True)\n",
        "plt.show()"
      ],
      "execution_count": 51,
      "outputs": [
        {
          "output_type": "stream",
          "text": [
            "Classification Report\n",
            "              precision    recall  f1-score   support\n",
            "\n",
            "           0       0.75      0.61      0.67    127978\n",
            "           1       0.67      0.80      0.73    128022\n",
            "\n",
            "    accuracy                           0.70    256000\n",
            "   macro avg       0.71      0.70      0.70    256000\n",
            "weighted avg       0.71      0.70      0.70    256000\n",
            "\n",
            "Confusion matrix\n",
            "[[ 78477  49501]\n",
            " [ 26109 101913]]\n"
          ],
          "name": "stdout"
        },
        {
          "output_type": "display_data",
          "data": {
            "image/png": "[encoded data removed]",
            "text/plain": [
              "<Figure size 720x720 with 2 Axes>"
            ]
          },
          "metadata": {
            "tags": [],
            "needs_background": "light"
          }
        }
      ]
    },
    {
      "cell_type": "markdown",
      "metadata": {
        "id": "k5kLPOB59BJH"
      },
      "source": [
        "### a.Positive class or Positive Sentiment is better performing as per the confusion matrix."
      ]
    },
    {
      "cell_type": "markdown",
      "metadata": {
        "id": "ft7avBSQ9BJH"
      },
      "source": [
        "#### ROC CURVE"
      ]
    },
    {
      "cell_type": "code",
      "metadata": {
        "colab": {
          "base_uri": "https://localhost:8080/"
        },
        "id": "HPQ1F3Qk9BJI",
        "outputId": "2e635bc1-f9fc-4909-a95a-12656feabe22"
      },
      "source": [
        "print(roc_auc_score(Y_val, y_pred_class))"
      ],
      "execution_count": 52,
      "outputs": [
        {
          "output_type": "stream",
          "text": [
            "0.7046327236964256\n"
          ],
          "name": "stdout"
        }
      ]
    },
    {
      "cell_type": "code",
      "metadata": {
        "scrolled": true,
        "trusted": false,
        "colab": {
          "base_uri": "https://localhost:8080/",
          "height": 317
        },
        "id": "hJtIlaG69BJI",
        "outputId": "c0176474-fcc7-425a-ec16-cf859936d792"
      },
      "source": [
        "fpr, tpr, thresholds = roc_curve(Y_val, y_pred_class)\n",
        "roc_auc = auc(fpr, tpr)\n",
        "plt.figure()\n",
        "plt.plot(fpr, tpr, color='darkorange', lw=1, label='ROC curve (area = %0.2f)' % roc_auc)\n",
        "plt.xlim([0.0, 1.0])\n",
        "plt.ylim([0.0, 1.05])\n",
        "plt.xlabel('False Positive Rate')\n",
        "plt.ylabel('True Positive Rate')\n",
        "plt.title('ROC CURVE')\n",
        "plt.legend(loc=\"lower right\")\n",
        "plt.show()\n",
        "print()"
      ],
      "execution_count": 53,
      "outputs": [
        {
          "output_type": "display_data",
          "data": {
            "image/png": "[encoded data removed]",
            "text/plain": [
              "<Figure size 432x288 with 1 Axes>"
            ]
          },
          "metadata": {
            "tags": [],
            "needs_background": "light"
          }
        },
        {
          "output_type": "stream",
          "text": [
            "\n"
          ],
          "name": "stdout"
        }
      ]
    },
    {
      "cell_type": "markdown",
      "metadata": {
        "id": "DGF2WSYL9BJJ"
      },
      "source": [
        "### b.Print the two most incorrectly classified texts for each class in the test dataset."
      ]
    },
    {
      "cell_type": "code",
      "metadata": {
        "id": "QbTZWAsZ9BJJ"
      },
      "source": [
        "def find_2_smallest_index(arr):\n",
        "    first = 999\n",
        "    second = 999\n",
        "    first_index=0\n",
        "    sexond_index=0\n",
        "    for i in range(len(arr)):\n",
        "        if arr[i] < first:\n",
        "            second = copy.deepcopy(first)\n",
        "            second_index = copy.deepcopy(first_index)\n",
        "            first = copy.deepcopy(arr[i])\n",
        "            first_index = copy.deepcopy(i)\n",
        "        elif (arr[i] < second):\n",
        "            second = copy.deepcopy(arr[i])\n",
        "            second_index = copy.deepcopy(i)\n",
        "    return first_index, second_index"
      ],
      "execution_count": 54,
      "outputs": []
    },
    {
      "cell_type": "code",
      "metadata": {
        "colab": {
          "base_uri": "https://localhost:8080/"
        },
        "id": "Tv4cHxvj9BJJ",
        "outputId": "2d2d67fe-01a2-4a2f-a397-c48cdc7b7c08"
      },
      "source": [
        "worst_2 = {}\n",
        "y_pred_test = model.predict(X_test)\n",
        "first_index, second_index = find_2_smallest_index(1-y_pred_test[:])\n",
        "worst_2[0] = [X_test_org.text.values[first_index],X_test_org.text.values[second_index]]\n",
        "first_index, second_index = find_2_smallest_index(y_pred_test[:])\n",
        "worst_2[1] = [X_test_org.text.values[first_index],X_test_org.text.values[second_index]]\n",
        "worst_2"
      ],
      "execution_count": 55,
      "outputs": [
        {
          "output_type": "execute_result",
          "data": {
            "text/plain": [
              "{0: ['Tired....bed time  Night twitter  Thanks @M_Matthews for another great movie night!',\n",
              "  \"@betsicastro that's great.  Have a fun time &amp; enjoy your dinner \"],\n",
              " 1: ['bad bad bad bad bad bad bad bad bad bad bad bad bad bad bad bad bad bad bad day. ',\n",
              "  'headache headache headache ']}"
            ]
          },
          "metadata": {
            "tags": []
          },
          "execution_count": 55
        }
      ]
    },
    {
      "cell_type": "markdown",
      "metadata": {
        "id": "viGLHfOvThk-"
      },
      "source": [
        "### **2.Optimiser: Use a different optimizer with the appropriate LR value**"
      ]
    },
    {
      "cell_type": "markdown",
      "metadata": {
        "id": "vB1tByMy4kw1"
      },
      "source": [
        "# Model Building\n",
        "a. Sequential Model layers-Use AT LEAST 3 hidden layers with appropriate input for each. Choose the best number for hidden units and give reasons. : **To prepare near best model we gradually decrease number of neurons in hidden layers by dividing the number of neurons in the previous layers by 2. Hence when we start at 64 neurons and have to prepare 2 more layers then one option would be 32 followed by 16**\n",
        "\n",
        "b. Add L2 regularization to all the layers.\n",
        "\n",
        "c. Add one layer of dropout at the appropriate position and give reasons.d.Choose the appropriate activation function for all the layers.e.Print the model summary."
      ]
    },
    {
      "cell_type": "code",
      "metadata": {
        "trusted": false,
        "id": "bm_GZDtdThk9"
      },
      "source": [
        "def model_hyp2(): #Defined tensorflow_based_model function for training tenforflow based model\n",
        "    inputs = Input(name='inputs',shape=(128))\n",
        "    layer = Dropout(0.1, name='dropout')(inputs)\n",
        "    layer = Dense(64,name='layer1', activation='relu',kernel_regularizer=reg.L2(0.0005))(inputs)\n",
        "    layer = Dense(32,name='layer2', activation='relu', kernel_regularizer=reg.L2(0.0005))(layer) \n",
        "    layer = Dense(16,name='layer3', activation='relu', kernel_regularizer=reg.L2(0.0005))(layer) \n",
        "    layer = Dense(1,name='output', activation='sigmoid')(layer) \n",
        "    model = Model(inputs=inputs,outputs=layer) #here we are getting the final output value in the model for classification\n",
        "    return model #function returning the value when we call it\n",
        "\n",
        "callback = EarlyStopping(monitor='val_loss', min_delta=0.001, patience=3, verbose=1,mode='auto', baseline=None, restore_best_weights=False\n",
        ")"
      ],
      "execution_count": 56,
      "outputs": []
    },
    {
      "cell_type": "markdown",
      "metadata": {
        "id": "A3Qb48Q74yL2"
      },
      "source": [
        "## e. Print the model summary"
      ]
    },
    {
      "cell_type": "code",
      "metadata": {
        "trusted": false,
        "colab": {
          "base_uri": "https://localhost:8080/"
        },
        "id": "1eWzMJ3m4yL9",
        "outputId": "3292b356-4cfb-456d-eddf-3a3aed9684bd"
      },
      "source": [
        "model = model_hyp1() # here we are calling the function of created model\n",
        "print('Model summary')\n",
        "model.summary()"
      ],
      "execution_count": 57,
      "outputs": [
        {
          "output_type": "stream",
          "text": [
            "Model summary\n",
            "Model: \"model_2\"\n",
            "_________________________________________________________________\n",
            "Layer (type)                 Output Shape              Param #   \n",
            "=================================================================\n",
            "inputs (InputLayer)          [(None, 128)]             0         \n",
            "_________________________________________________________________\n",
            "dropout (Dropout)            (None, 128)               0         \n",
            "_________________________________________________________________\n",
            "layer1 (Dense)               (None, 64)                8256      \n",
            "_________________________________________________________________\n",
            "layer2 (Dense)               (None, 32)                2080      \n",
            "_________________________________________________________________\n",
            "layer3 (Dense)               (None, 16)                528       \n",
            "_________________________________________________________________\n",
            "layer4 (Dense)               (None, 8)                 136       \n",
            "_________________________________________________________________\n",
            "output (Dense)               (None, 1)                 9         \n",
            "=================================================================\n",
            "Total params: 11,009\n",
            "Trainable params: 11,009\n",
            "Non-trainable params: 0\n",
            "_________________________________________________________________\n"
          ],
          "name": "stdout"
        }
      ]
    },
    {
      "cell_type": "markdown",
      "metadata": {
        "id": "fyhJ6hvb446g"
      },
      "source": [
        "# Model Compilation\n",
        "a.Compile the model with the appropriate loss function.\n",
        "\n",
        "b.Use an appropriate optimizer. Give reasons for the choice of learning rate and its value.: **We chose adam optimizer to incorporate the momentum component in the optimization process. We intially choose 0.001(least possible) but later realised that the training is too slow and could be improved without compromising the accuracy of the model so changed the learning rate to 0.005.**\n",
        "\n",
        "c.Use accuracy as a metric."
      ]
    },
    {
      "cell_type": "code",
      "metadata": {
        "trusted": false,
        "id": "w4YCDA1nThk_"
      },
      "source": [
        "model.compile(loss='binary_crossentropy',optimizer=Adam(learning_rate=0.005),metrics=['accuracy']) "
      ],
      "execution_count": 58,
      "outputs": []
    },
    {
      "cell_type": "markdown",
      "metadata": {
        "id": "nTkAyHHt5PDP"
      },
      "source": [
        "# Model Training\n",
        "a. Train the model for an appropriate number of epochs. Print the train and validation accuracy and loss for each epoch. Use the appropriate batch size.\n",
        "\n",
        "b. Plot the loss and accuracy history graphs for both train and validation set. Print the total time taken for training."
      ]
    },
    {
      "cell_type": "code",
      "metadata": {
        "trusted": false,
        "colab": {
          "base_uri": "https://localhost:8080/"
        },
        "id": "bQpeSia1ThlA",
        "outputId": "638e00ca-c111-43a0-e9ea-5f37e1e67dc8"
      },
      "source": [
        "startTime = time.time()\n",
        "history=model.fit(X_train,Y_train,batch_size=128,epochs=100, validation_data=(X_val, Y_val), callbacks=[callback])# here we are starting the training of model by feeding the training data\n",
        "endTime = time.time()\n",
        "print('Training finished in : {}s'.format(round(endTime - startTime, 2)))"
      ],
      "execution_count": 59,
      "outputs": [
        {
          "output_type": "stream",
          "text": [
            "Epoch 1/100\n",
            "8000/8000 [==============================] - 19s 2ms/step - loss: 0.6022 - accuracy: 0.6905 - val_loss: 0.5786 - val_accuracy: 0.7054\n",
            "Epoch 2/100\n",
            "8000/8000 [==============================] - 19s 2ms/step - loss: 0.5854 - accuracy: 0.6992 - val_loss: 0.5731 - val_accuracy: 0.7103\n",
            "Epoch 3/100\n",
            "8000/8000 [==============================] - 19s 2ms/step - loss: 0.5849 - accuracy: 0.7002 - val_loss: 0.5706 - val_accuracy: 0.7109\n",
            "Epoch 4/100\n",
            "8000/8000 [==============================] - 19s 2ms/step - loss: 0.5839 - accuracy: 0.6995 - val_loss: 0.5740 - val_accuracy: 0.7092\n",
            "Epoch 5/100\n",
            "8000/8000 [==============================] - 19s 2ms/step - loss: 0.5853 - accuracy: 0.6979 - val_loss: 0.5713 - val_accuracy: 0.7114\n",
            "Epoch 6/100\n",
            "8000/8000 [==============================] - 19s 2ms/step - loss: 0.5843 - accuracy: 0.6991 - val_loss: 0.5716 - val_accuracy: 0.7094\n",
            "Epoch 00006: early stopping\n",
            "Training finished in : 112.25s\n"
          ],
          "name": "stdout"
        }
      ]
    },
    {
      "cell_type": "code",
      "metadata": {
        "colab": {
          "base_uri": "https://localhost:8080/",
          "height": 317
        },
        "id": "ODAs5ViWThlB",
        "outputId": "26c14eec-6b5a-456f-9b70-1dde3e3b58d2"
      },
      "source": [
        "plt.plot(history.history['accuracy'])\n",
        "plt.plot(history.history['val_accuracy'])\n",
        "plt.title('model accuracy')\n",
        "plt.ylabel('accuracy')\n",
        "plt.xlabel('epoch')\n",
        "plt.legend(['training', 'validation'])"
      ],
      "execution_count": 60,
      "outputs": [
        {
          "output_type": "execute_result",
          "data": {
            "text/plain": [
              "<matplotlib.legend.Legend at 0x7f17781722d0>"
            ]
          },
          "metadata": {
            "tags": []
          },
          "execution_count": 60
        },
        {
          "output_type": "display_data",
          "data": {
            "image/png": "[encoded data removed]",
            "text/plain": [
              "<Figure size 432x288 with 1 Axes>"
            ]
          },
          "metadata": {
            "tags": [],
            "needs_background": "light"
          }
        }
      ]
    },
    {
      "cell_type": "code",
      "metadata": {
        "colab": {
          "base_uri": "https://localhost:8080/",
          "height": 354
        },
        "id": "F8dASWrfThlC",
        "outputId": "26182254-f600-450b-86c9-915511258707"
      },
      "source": [
        "print(history.history)\n",
        "plt.plot(history.history['loss'])\n",
        "plt.plot(history.history['val_loss'])\n",
        "plt.title('model loss')\n",
        "plt.ylabel('loss')\n",
        "plt.xlabel('epoch')\n",
        "plt.legend(['training', 'validation'])"
      ],
      "execution_count": 61,
      "outputs": [
        {
          "output_type": "stream",
          "text": [
            "{'loss': [0.5927793979644775, 0.5854431390762329, 0.584809422492981, 0.5842909812927246, 0.5849260687828064, 0.5841194987297058], 'accuracy': [0.6957197189331055, 0.6987743973731995, 0.6996825933456421, 0.6994091868400574, 0.6987119317054749, 0.6991913914680481], 'val_loss': [0.5786470770835876, 0.5730526447296143, 0.5705599784851074, 0.5739735960960388, 0.5713228583335876, 0.5715764760971069], 'val_accuracy': [0.7053593993186951, 0.7102656364440918, 0.7109218835830688, 0.7091953158378601, 0.7114023566246033, 0.709402322769165]}\n"
          ],
          "name": "stdout"
        },
        {
          "output_type": "execute_result",
          "data": {
            "text/plain": [
              "<matplotlib.legend.Legend at 0x7f1766df4550>"
            ]
          },
          "metadata": {
            "tags": []
          },
          "execution_count": 61
        },
        {
          "output_type": "display_data",
          "data": {
            "image/png": "[encoded data removed]",
            "text/plain": [
              "<Figure size 432x288 with 1 Axes>"
            ]
          },
          "metadata": {
            "tags": [],
            "needs_background": "light"
          }
        }
      ]
    },
    {
      "cell_type": "markdown",
      "metadata": {
        "id": "mB8jxzLE9H5B"
      },
      "source": [
        "# Model Evaluation\n",
        "\n",
        "a.Print the final train and validation loss and accuracy. Print confusion matrix and classification report for the validation dataset. Analyse and report the best and worst performing class.\n",
        "\n",
        "b.Print the two most incorrectly classified texts for each class in the test dataset."
      ]
    },
    {
      "cell_type": "code",
      "metadata": {
        "trusted": false,
        "colab": {
          "base_uri": "https://localhost:8080/"
        },
        "id": "DqQZkk4B9H5C",
        "outputId": "e4040a77-2d29-43d8-85c8-ba0c418ee111"
      },
      "source": [
        "accr1 = model.evaluate(X_val,Y_val) #we are starting to test the model here"
      ],
      "execution_count": 62,
      "outputs": [
        {
          "output_type": "stream",
          "text": [
            "8000/8000 [==============================] - 14s 2ms/step - loss: 0.5716 - accuracy: 0.7094\n"
          ],
          "name": "stdout"
        }
      ]
    },
    {
      "cell_type": "code",
      "metadata": {
        "trusted": false,
        "colab": {
          "base_uri": "https://localhost:8080/"
        },
        "id": "XY9KHLlU9H5C",
        "outputId": "1b0fde69-8311-4b3b-f3fe-2764181d5f08"
      },
      "source": [
        "print('Test set\\n  Accuracy: {:0.2f}'.format(accr1[1])) #the accuracy of the model on test data is given below"
      ],
      "execution_count": 63,
      "outputs": [
        {
          "output_type": "stream",
          "text": [
            "Test set\n",
            "  Accuracy: 0.71\n"
          ],
          "name": "stdout"
        }
      ]
    },
    {
      "cell_type": "code",
      "metadata": {
        "id": "KYlnpCyF9H5C"
      },
      "source": [
        "y_pred = model.predict(X_val) #getting predictions on the trained model\n",
        "y_pred_class = (y_pred > 0.5)"
      ],
      "execution_count": 64,
      "outputs": []
    },
    {
      "cell_type": "code",
      "metadata": {
        "trusted": false,
        "colab": {
          "base_uri": "https://localhost:8080/",
          "height": 803
        },
        "id": "27e29WtT9H5C",
        "outputId": "17b176a8-15bb-4873-df95-4ad12652e00a"
      },
      "source": [
        "print('Classification Report')\n",
        "print(classification_report(Y_val, y_pred_class))\n",
        "print(\"Confusion matrix\")\n",
        "CR=confusion_matrix(Y_val, y_pred_class)\n",
        "print(CR)\n",
        "fig, ax = plot_confusion_matrix(conf_mat=CR,figsize=(10, 10),\n",
        "                                show_absolute=True,\n",
        "                                show_normed=True,\n",
        "                                colorbar=True)\n",
        "plt.show()"
      ],
      "execution_count": 65,
      "outputs": [
        {
          "output_type": "stream",
          "text": [
            "Classification Report\n",
            "              precision    recall  f1-score   support\n",
            "\n",
            "           0       0.69      0.76      0.72    127978\n",
            "           1       0.73      0.66      0.69    128022\n",
            "\n",
            "    accuracy                           0.71    256000\n",
            "   macro avg       0.71      0.71      0.71    256000\n",
            "weighted avg       0.71      0.71      0.71    256000\n",
            "\n",
            "Confusion matrix\n",
            "[[96936 31042]\n",
            " [43351 84671]]\n"
          ],
          "name": "stdout"
        },
        {
          "output_type": "display_data",
          "data": {
            "image/png": "[encoded data removed]",
            "text/plain": [
              "<Figure size 720x720 with 2 Axes>"
            ]
          },
          "metadata": {
            "tags": [],
            "needs_background": "light"
          }
        }
      ]
    },
    {
      "cell_type": "markdown",
      "metadata": {
        "id": "wAashWtb9H5D"
      },
      "source": [
        "### a.Negative class or Negative Sentiment is better performing as per the confusion matrix."
      ]
    },
    {
      "cell_type": "markdown",
      "metadata": {
        "id": "57QyxSsz9H5D"
      },
      "source": [
        "#### ROC CURVE"
      ]
    },
    {
      "cell_type": "code",
      "metadata": {
        "colab": {
          "base_uri": "https://localhost:8080/"
        },
        "id": "SXKyRmmE9H5D",
        "outputId": "fdbbed38-925b-44e4-ebec-0a25028eb428"
      },
      "source": [
        "print(roc_auc_score(Y_val, y_pred_class))"
      ],
      "execution_count": 66,
      "outputs": [
        {
          "output_type": "stream",
          "text": [
            "0.709410599264815\n"
          ],
          "name": "stdout"
        }
      ]
    },
    {
      "cell_type": "code",
      "metadata": {
        "scrolled": true,
        "trusted": false,
        "colab": {
          "base_uri": "https://localhost:8080/",
          "height": 317
        },
        "id": "p9qmngjy9H5D",
        "outputId": "06bb326b-303a-4fc3-ef86-d6c1db92661a"
      },
      "source": [
        "fpr, tpr, thresholds = roc_curve(Y_val, y_pred_class)\n",
        "roc_auc = auc(fpr, tpr)\n",
        "plt.figure()\n",
        "plt.plot(fpr, tpr, color='darkorange', lw=1, label='ROC curve (area = %0.2f)' % roc_auc)\n",
        "plt.xlim([0.0, 1.0])\n",
        "plt.ylim([0.0, 1.05])\n",
        "plt.xlabel('False Positive Rate')\n",
        "plt.ylabel('True Positive Rate')\n",
        "plt.title('ROC CURVE')\n",
        "plt.legend(loc=\"lower right\")\n",
        "plt.show()\n",
        "print()"
      ],
      "execution_count": 67,
      "outputs": [
        {
          "output_type": "display_data",
          "data": {
            "image/png": "[encoded data removed]",
            "text/plain": [
              "<Figure size 432x288 with 1 Axes>"
            ]
          },
          "metadata": {
            "tags": [],
            "needs_background": "light"
          }
        },
        {
          "output_type": "stream",
          "text": [
            "\n"
          ],
          "name": "stdout"
        }
      ]
    },
    {
      "cell_type": "markdown",
      "metadata": {
        "id": "Rj5kaUiN9H5D"
      },
      "source": [
        "### b.Print the two most incorrectly classified texts for each class in the test dataset."
      ]
    },
    {
      "cell_type": "code",
      "metadata": {
        "id": "HxM1IHpf9H5D"
      },
      "source": [
        "def find_2_smallest_index(arr):\n",
        "    first = 999\n",
        "    second = 999\n",
        "    first_index=0\n",
        "    sexond_index=0\n",
        "    for i in range(len(arr)):\n",
        "        if arr[i] < first:\n",
        "            second = copy.deepcopy(first)\n",
        "            second_index = copy.deepcopy(first_index)\n",
        "            first = copy.deepcopy(arr[i])\n",
        "            first_index = copy.deepcopy(i)\n",
        "        elif (arr[i] < second):\n",
        "            second = copy.deepcopy(arr[i])\n",
        "            second_index = copy.deepcopy(i)\n",
        "    return first_index, second_index"
      ],
      "execution_count": 68,
      "outputs": []
    },
    {
      "cell_type": "code",
      "metadata": {
        "colab": {
          "base_uri": "https://localhost:8080/"
        },
        "id": "-M04c8n99H5E",
        "outputId": "7eb7fbbb-c978-4cfe-a51e-1f3e959581b0"
      },
      "source": [
        "worst_2 = {}\n",
        "y_pred_test = model.predict(X_test)\n",
        "first_index, second_index = find_2_smallest_index(1-y_pred_test[:])\n",
        "worst_2[0] = [X_test_org.text.values[first_index],X_test_org.text.values[second_index]]\n",
        "first_index, second_index = find_2_smallest_index(y_pred_test[:])\n",
        "worst_2[1] = [X_test_org.text.values[first_index],X_test_org.text.values[second_index]]\n",
        "worst_2"
      ],
      "execution_count": 69,
      "outputs": [
        {
          "output_type": "execute_result",
          "data": {
            "text/plain": [
              "{0: ['#BTS is fallin!!   #BTS #BTS #BTS #BTS #BTS #BTS #BTS #BTS #BTS #BTS #BTS #BTS #BTS #BTS #BTS #BTS #BTS #BTS #BTS #BTS #BTS #BTS #BTS',\n",
              "  'Birthday fun was awesome - yummy Chinese food followed by a great laugh bowling.  Thanks to all that came! #fb'],\n",
              " 1: ['bad bad bad bad bad bad bad bad bad bad bad bad bad bad bad bad bad bad bad day. ',\n",
              "  'headache headache headache ']}"
            ]
          },
          "metadata": {
            "tags": []
          },
          "execution_count": 69
        }
      ]
    },
    {
      "cell_type": "markdown",
      "metadata": {
        "id": "3mMJPf5958D5"
      },
      "source": [
        "# Write a comparison between each model and give reasons for the difference in results.\n",
        "\n",
        "Model 1 with increase in number of hidden layers only has a validation accuracy of 70.46% which is more or less the same as the base model (70.62%) that has lesser hidden layers.\n",
        "\n",
        "Model 2 with change in optimizer has validation accuracy of 70.94% which is slightly better than Model 1 and base model that has RMS Prop as the optimizer.\n",
        "\n",
        "Hence we conclude that Adam is a better optimizer for this problem and having more hidden layer may help to slightly improve the validation accuracy for this problem statement"
      ]
    },
    {
      "cell_type": "markdown",
      "metadata": {
        "id": "MNXn4xUj-Xmb"
      },
      "source": [
        "## References\n",
        "1.  Sashank J. Reddi, Satyen Kale, & Sanjiv Kumar. (2019). On the Convergence of  Adam and Beyond.\n",
        "2. Srivastava, Nitish, Geoffrey, Hinton, Alex, Krizhevsky, Ilya, Sutskever, and Ruslan, Salakhutdinov. \"Dropout: A Simple Way to Prevent Neural Networks from Overfitting\".J. Mach. Learn. Res. 15, no.1 (2014): 1929–1958.\n",
        "3. \"Is Dropout Applied before or after the Non-linear Activation Function?\" Dr. Sebastian Raschka. May 19, 2021. Accessed May 23, 2021. https://sebastianraschka.com/faq/docs/dropout-activation.html.\n",
        "4. Franck Dernoncourt \"Where Should I Place Dropout Layers in a Neural Network?\" Cross Validated. June 01, 1965. Accessed May 23, 2021. https://stats.stackexchange.com/questions/240305/where-should-i-place-dropout-layers-in-a-neural-network.\n",
        "5. Galeone, Paolo. \"Analysis of Dropout.\" P. Galeone's Blog. Accessed May 23, 2021. https://pgaleone.eu/deep-learning/regularization/2017/01/10/anaysis-of-dropout/.\n",
        "6. Shen, Kevin. \"Effect of Batch Size on Training Dynamics.\" Medium. June 19, 2018. Accessed May 23, 2021. https://medium.com/mini-distill/effect-of-batch-size-on-training-dynamics-21c14f7a716e.\n",
        "7. Samuel L. Smith, , Pieter-Jan Kindermans, Chris Ying, and Quoc V. Le. \"Don't Decay the Learning Rate, Increase the Batch Size.\" (2018).\n",
        "8. https://www.tensorflow.org/api_docs"
      ]
    }
  ]
}