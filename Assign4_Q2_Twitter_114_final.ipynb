{
  "nbformat": 4,
  "nbformat_minor": 0,
  "metadata": {
    "colab": {
      "name": "Assign4_Q2_Twitter_114.ipynb",
      "provenance": [],
      "include_colab_link": true
    },
    "kernelspec": {
      "name": "python3",
      "display_name": "Python 3"
    },
    "language_info": {
      "name": "python"
    },
    "accelerator": "GPU"
  },
  "cells": [
    {
      "cell_type": "markdown",
      "metadata": {
        "id": "view-in-github",
        "colab_type": "text"
      },
      "source": [
        "<a href=\"https://colab.research.google.com/github/Gr-30/DL/blob/main/Assign4_Q2_Twitter_114_final.ipynb\" target=\"_parent\"><img src=\"https://colab.research.google.com/assets/colab-badge.svg\" alt=\"Open In Colab\"/></a>"
      ]
    },
    {
      "cell_type": "code",
      "metadata": {
        "colab": {
          "base_uri": "https://localhost:8080/"
        },
        "id": "JPJcfIlrg8Nl",
        "outputId": "bcd5ef1c-328d-4fc6-e832-2aaa99804441"
      },
      "source": [
        "from google.colab import drive\n",
        "drive.mount('/content/drive')"
      ],
      "execution_count": null,
      "outputs": [
        {
          "output_type": "stream",
          "text": [
            "Mounted at /content/drive\n"
          ],
          "name": "stdout"
        }
      ]
    },
    {
      "cell_type": "markdown",
      "metadata": {
        "id": "i6p4gdM_Feqb"
      },
      "source": [
        "# 1. Import Libraries/Dataset"
      ]
    },
    {
      "cell_type": "markdown",
      "metadata": {
        "id": "nSIUM6YNFkEk"
      },
      "source": [
        "## a. Import the required libraries and the dataset."
      ]
    },
    {
      "cell_type": "code",
      "metadata": {
        "id": "-E4TvIVLMa73",
        "scrolled": true,
        "trusted": false
      },
      "source": [
        "import os\n",
        "seed=21\n",
        "os.environ['PYTHONHASHSEED']=str(seed)\n",
        "import copy\n",
        "import time\n",
        "import numpy as np \n",
        "import pandas as pd \n",
        "import seaborn as sns \n",
        "import matplotlib.pyplot as plt\n",
        "plt.style.use('ggplot')\n",
        "from sklearn.metrics import roc_curve, auc\n",
        "from sklearn.metrics import classification_report, confusion_matrix, roc_auc_score\n",
        "from sklearn.model_selection import train_test_split\n",
        "from mlxtend.plotting import plot_confusion_matrix\n",
        "import matplotlib.cm as cm\n",
        "from matplotlib import rcParams\n",
        "from collections import Counter\n",
        "import tensorflow.keras.regularizers as reg\n",
        "import tensorflow as tf\n",
        "from tensorflow.keras.layers import LSTM, Activation, Dense, Dropout, Input, Embedding\n",
        "from tensorflow.keras.models import Model\n",
        "from tensorflow.keras.callbacks import EarlyStopping\n",
        "from tensorflow.keras.optimizers import RMSprop, Adam\n",
        "from tensorflow.keras.preprocessing.text import Tokenizer\n",
        "from tensorflow.keras.preprocessing import sequence\n",
        "import tensorflow_hub as hub\n",
        "embed = hub.load(\"https://tfhub.dev/google/nnlm-en-dim128/2\")\n",
        "%matplotlib inline\n",
        "from wordcloud import WordCloud, STOPWORDS\n",
        "import warnings\n",
        "warnings.filterwarnings(\"ignore\")\n",
        "\n",
        "def reset_random_seeds(seed_val):\n",
        "    os.environ['PYTHONHASHSEED']=str(seed_val)\n",
        "    tf.random.set_seed(seed_val)\n",
        "    np.random.seed(seed_val)\n",
        "\n",
        "reset_random_seeds(seed)"
      ],
      "execution_count": null,
      "outputs": []
    },
    {
      "cell_type": "markdown",
      "metadata": {
        "id": "juSMkpM6F1_Z"
      },
      "source": [
        "## b. Check the GPU available"
      ]
    },
    {
      "cell_type": "code",
      "metadata": {
        "colab": {
          "base_uri": "https://localhost:8080/"
        },
        "id": "bQBPgeHjF_9D",
        "outputId": "3f3fb423-1c3e-4d1f-8949-74fa4fdb2094"
      },
      "source": [
        "!nvidia-smi -L"
      ],
      "execution_count": null,
      "outputs": [
        {
          "output_type": "stream",
          "text": [
            "GPU 0: Tesla T4 (UUID: GPU-c5a04cf4-bc3a-77f3-b737-a2362d3b0221)\n"
          ],
          "name": "stdout"
        }
      ]
    },
    {
      "cell_type": "markdown",
      "metadata": {
        "id": "uAfFbvzZGQcB"
      },
      "source": [
        "# Data Visualization"
      ]
    },
    {
      "cell_type": "code",
      "metadata": {
        "id": "l3v6JNFSKzfw"
      },
      "source": [
        "data = pd.read_csv(\"/content/drive/MyDrive/Mtech DSE BITS/Sem3/DL/Assignment1/training.1600000.processed.noemoticon.csv\", encoding = \"ISO-8859-1\", engine=\"python\", header=None)\n",
        " # As the data has no column titles, we will add our own\n",
        "data.columns = [\"label\", \"time\", \"date\", \"query\", \"username\", \"text\"]"
      ],
      "execution_count": null,
      "outputs": []
    },
    {
      "cell_type": "markdown",
      "metadata": {
        "id": "JiMTd9phGfxV"
      },
      "source": [
        "## a. Print at least two movie reviews from each class of the dataset, for a sanity check that labels match the text."
      ]
    },
    {
      "cell_type": "code",
      "metadata": {
        "id": "UbdjOYVkINQ5"
      },
      "source": [
        "df_pos = data[data['label'] == 4]\n",
        "df_neg = data[data['label'] == 0]"
      ],
      "execution_count": null,
      "outputs": []
    },
    {
      "cell_type": "code",
      "metadata": {
        "colab": {
          "base_uri": "https://localhost:8080/"
        },
        "id": "lwT3CHBsIPil",
        "outputId": "d4330bc2-ea33-440b-9214-db32dad4ea53"
      },
      "source": [
        "print('POSITIVE Label data ')\n",
        "print(df_pos.head())"
      ],
      "execution_count": null,
      "outputs": [
        {
          "output_type": "stream",
          "text": [
            "POSITIVE Label data \n",
            "        label  ...                                               text\n",
            "800000      4  ...       I LOVE @Health4UandPets u guys r the best!! \n",
            "800001      4  ...  im meeting up with one of my besties tonight! ...\n",
            "800002      4  ...  @DaRealSunisaKim Thanks for the Twitter add, S...\n",
            "800003      4  ...  Being sick can be really cheap when it hurts t...\n",
            "800004      4  ...    @LovesBrooklyn2 he has that effect on everyone \n",
            "\n",
            "[5 rows x 6 columns]\n"
          ],
          "name": "stdout"
        }
      ]
    },
    {
      "cell_type": "code",
      "metadata": {
        "colab": {
          "base_uri": "https://localhost:8080/"
        },
        "id": "jb959RLJI7al",
        "outputId": "8dd876db-393b-498a-e504-c773096f46ae"
      },
      "source": [
        "print('Negative Label data ')\n",
        "print(df_neg.head())"
      ],
      "execution_count": null,
      "outputs": [
        {
          "output_type": "stream",
          "text": [
            "Negative Label data \n",
            "   label  ...                                               text\n",
            "0      0  ...  @switchfoot http://twitpic.com/2y1zl - Awww, t...\n",
            "1      0  ...  is upset that he can't update his Facebook by ...\n",
            "2      0  ...  @Kenichan I dived many times for the ball. Man...\n",
            "3      0  ...    my whole body feels itchy and like its on fire \n",
            "4      0  ...  @nationwideclass no, it's not behaving at all....\n",
            "\n",
            "[5 rows x 6 columns]\n"
          ],
          "name": "stdout"
        }
      ]
    },
    {
      "cell_type": "markdown",
      "metadata": {
        "id": "nOYepGcYKCiZ"
      },
      "source": [
        "#### Five top records of data"
      ]
    },
    {
      "cell_type": "code",
      "metadata": {
        "trusted": false,
        "id": "o27SeogeKCiZ",
        "colab": {
          "base_uri": "https://localhost:8080/",
          "height": 195
        },
        "outputId": "9e5144c5-c56f-4a1a-85bb-61f04993b950"
      },
      "source": [
        "data.head()"
      ],
      "execution_count": null,
      "outputs": [
        {
          "output_type": "execute_result",
          "data": {
            "text/html": [
              "<div>\n",
              "<style scoped>\n",
              "    .dataframe tbody tr th:only-of-type {\n",
              "        vertical-align: middle;\n",
              "    }\n",
              "\n",
              "    .dataframe tbody tr th {\n",
              "        vertical-align: top;\n",
              "    }\n",
              "\n",
              "    .dataframe thead th {\n",
              "        text-align: right;\n",
              "    }\n",
              "</style>\n",
              "<table border=\"1\" class=\"dataframe\">\n",
              "  <thead>\n",
              "    <tr style=\"text-align: right;\">\n",
              "      <th></th>\n",
              "      <th>label</th>\n",
              "      <th>time</th>\n",
              "      <th>date</th>\n",
              "      <th>query</th>\n",
              "      <th>username</th>\n",
              "      <th>text</th>\n",
              "    </tr>\n",
              "  </thead>\n",
              "  <tbody>\n",
              "    <tr>\n",
              "      <th>0</th>\n",
              "      <td>0</td>\n",
              "      <td>1467810369</td>\n",
              "      <td>Mon Apr 06 22:19:45 PDT 2009</td>\n",
              "      <td>NO_QUERY</td>\n",
              "      <td>_TheSpecialOne_</td>\n",
              "      <td>@switchfoot http://twitpic.com/2y1zl - Awww, t...</td>\n",
              "    </tr>\n",
              "    <tr>\n",
              "      <th>1</th>\n",
              "      <td>0</td>\n",
              "      <td>1467810672</td>\n",
              "      <td>Mon Apr 06 22:19:49 PDT 2009</td>\n",
              "      <td>NO_QUERY</td>\n",
              "      <td>scotthamilton</td>\n",
              "      <td>is upset that he can't update his Facebook by ...</td>\n",
              "    </tr>\n",
              "    <tr>\n",
              "      <th>2</th>\n",
              "      <td>0</td>\n",
              "      <td>1467810917</td>\n",
              "      <td>Mon Apr 06 22:19:53 PDT 2009</td>\n",
              "      <td>NO_QUERY</td>\n",
              "      <td>mattycus</td>\n",
              "      <td>@Kenichan I dived many times for the ball. Man...</td>\n",
              "    </tr>\n",
              "    <tr>\n",
              "      <th>3</th>\n",
              "      <td>0</td>\n",
              "      <td>1467811184</td>\n",
              "      <td>Mon Apr 06 22:19:57 PDT 2009</td>\n",
              "      <td>NO_QUERY</td>\n",
              "      <td>ElleCTF</td>\n",
              "      <td>my whole body feels itchy and like its on fire</td>\n",
              "    </tr>\n",
              "    <tr>\n",
              "      <th>4</th>\n",
              "      <td>0</td>\n",
              "      <td>1467811193</td>\n",
              "      <td>Mon Apr 06 22:19:57 PDT 2009</td>\n",
              "      <td>NO_QUERY</td>\n",
              "      <td>Karoli</td>\n",
              "      <td>@nationwideclass no, it's not behaving at all....</td>\n",
              "    </tr>\n",
              "  </tbody>\n",
              "</table>\n",
              "</div>"
            ],
            "text/plain": [
              "   label  ...                                               text\n",
              "0      0  ...  @switchfoot http://twitpic.com/2y1zl - Awww, t...\n",
              "1      0  ...  is upset that he can't update his Facebook by ...\n",
              "2      0  ...  @Kenichan I dived many times for the ball. Man...\n",
              "3      0  ...    my whole body feels itchy and like its on fire \n",
              "4      0  ...  @nationwideclass no, it's not behaving at all....\n",
              "\n",
              "[5 rows x 6 columns]"
            ]
          },
          "metadata": {
            "tags": []
          },
          "execution_count": 8
        }
      ]
    },
    {
      "cell_type": "markdown",
      "metadata": {
        "id": "mTEv12ZUKCia"
      },
      "source": [
        "#### Five last records of data"
      ]
    },
    {
      "cell_type": "code",
      "metadata": {
        "trusted": false,
        "id": "Cj8PV1c-KCia",
        "colab": {
          "base_uri": "https://localhost:8080/",
          "height": 195
        },
        "outputId": "65afa82c-dbe1-4c5a-b454-2bd9417ab77f"
      },
      "source": [
        "data.tail()"
      ],
      "execution_count": null,
      "outputs": [
        {
          "output_type": "execute_result",
          "data": {
            "text/html": [
              "<div>\n",
              "<style scoped>\n",
              "    .dataframe tbody tr th:only-of-type {\n",
              "        vertical-align: middle;\n",
              "    }\n",
              "\n",
              "    .dataframe tbody tr th {\n",
              "        vertical-align: top;\n",
              "    }\n",
              "\n",
              "    .dataframe thead th {\n",
              "        text-align: right;\n",
              "    }\n",
              "</style>\n",
              "<table border=\"1\" class=\"dataframe\">\n",
              "  <thead>\n",
              "    <tr style=\"text-align: right;\">\n",
              "      <th></th>\n",
              "      <th>label</th>\n",
              "      <th>time</th>\n",
              "      <th>date</th>\n",
              "      <th>query</th>\n",
              "      <th>username</th>\n",
              "      <th>text</th>\n",
              "    </tr>\n",
              "  </thead>\n",
              "  <tbody>\n",
              "    <tr>\n",
              "      <th>1599995</th>\n",
              "      <td>4</td>\n",
              "      <td>2193601966</td>\n",
              "      <td>Tue Jun 16 08:40:49 PDT 2009</td>\n",
              "      <td>NO_QUERY</td>\n",
              "      <td>AmandaMarie1028</td>\n",
              "      <td>Just woke up. Having no school is the best fee...</td>\n",
              "    </tr>\n",
              "    <tr>\n",
              "      <th>1599996</th>\n",
              "      <td>4</td>\n",
              "      <td>2193601969</td>\n",
              "      <td>Tue Jun 16 08:40:49 PDT 2009</td>\n",
              "      <td>NO_QUERY</td>\n",
              "      <td>TheWDBoards</td>\n",
              "      <td>TheWDB.com - Very cool to hear old Walt interv...</td>\n",
              "    </tr>\n",
              "    <tr>\n",
              "      <th>1599997</th>\n",
              "      <td>4</td>\n",
              "      <td>2193601991</td>\n",
              "      <td>Tue Jun 16 08:40:49 PDT 2009</td>\n",
              "      <td>NO_QUERY</td>\n",
              "      <td>bpbabe</td>\n",
              "      <td>Are you ready for your MoJo Makeover? Ask me f...</td>\n",
              "    </tr>\n",
              "    <tr>\n",
              "      <th>1599998</th>\n",
              "      <td>4</td>\n",
              "      <td>2193602064</td>\n",
              "      <td>Tue Jun 16 08:40:49 PDT 2009</td>\n",
              "      <td>NO_QUERY</td>\n",
              "      <td>tinydiamondz</td>\n",
              "      <td>Happy 38th Birthday to my boo of alll time!!! ...</td>\n",
              "    </tr>\n",
              "    <tr>\n",
              "      <th>1599999</th>\n",
              "      <td>4</td>\n",
              "      <td>2193602129</td>\n",
              "      <td>Tue Jun 16 08:40:50 PDT 2009</td>\n",
              "      <td>NO_QUERY</td>\n",
              "      <td>RyanTrevMorris</td>\n",
              "      <td>happy #charitytuesday @theNSPCC @SparksCharity...</td>\n",
              "    </tr>\n",
              "  </tbody>\n",
              "</table>\n",
              "</div>"
            ],
            "text/plain": [
              "         label  ...                                               text\n",
              "1599995      4  ...  Just woke up. Having no school is the best fee...\n",
              "1599996      4  ...  TheWDB.com - Very cool to hear old Walt interv...\n",
              "1599997      4  ...  Are you ready for your MoJo Makeover? Ask me f...\n",
              "1599998      4  ...  Happy 38th Birthday to my boo of alll time!!! ...\n",
              "1599999      4  ...  happy #charitytuesday @theNSPCC @SparksCharity...\n",
              "\n",
              "[5 rows x 6 columns]"
            ]
          },
          "metadata": {
            "tags": []
          },
          "execution_count": 9
        }
      ]
    },
    {
      "cell_type": "markdown",
      "metadata": {
        "id": "9fgEQYqKKCia"
      },
      "source": [
        "#### Coloumns/features in data"
      ]
    },
    {
      "cell_type": "code",
      "metadata": {
        "trusted": false,
        "id": "GsDEwSDGKCia",
        "colab": {
          "base_uri": "https://localhost:8080/"
        },
        "outputId": "8520855c-6935-4187-a8b7-df22a1f6e3ae"
      },
      "source": [
        "data.columns"
      ],
      "execution_count": null,
      "outputs": [
        {
          "output_type": "execute_result",
          "data": {
            "text/plain": [
              "Index(['label', 'time', 'date', 'query', 'username', 'text'], dtype='object')"
            ]
          },
          "metadata": {
            "tags": []
          },
          "execution_count": 10
        }
      ]
    },
    {
      "cell_type": "code",
      "metadata": {
        "colab": {
          "base_uri": "https://localhost:8080/"
        },
        "id": "0NWO_gLOJVgE",
        "outputId": "b6979201-0203-4776-fcf0-1d2f8e283ccb"
      },
      "source": [
        "data['label'].value_counts()"
      ],
      "execution_count": null,
      "outputs": [
        {
          "output_type": "execute_result",
          "data": {
            "text/plain": [
              "4    800000\n",
              "0    800000\n",
              "Name: label, dtype: int64"
            ]
          },
          "metadata": {
            "tags": []
          },
          "execution_count": 11
        }
      ]
    },
    {
      "cell_type": "markdown",
      "metadata": {
        "id": "oTsgnRLrKCib"
      },
      "source": [
        "#### Length of data"
      ]
    },
    {
      "cell_type": "code",
      "metadata": {
        "trusted": false,
        "id": "KGFjX1_KKCib",
        "colab": {
          "base_uri": "https://localhost:8080/"
        },
        "outputId": "244bcf94-5484-44ce-dfe8-9ecdb3a99e94"
      },
      "source": [
        "print('lenght of data is', len(data))"
      ],
      "execution_count": null,
      "outputs": [
        {
          "output_type": "stream",
          "text": [
            "lenght of data is 1600000\n"
          ],
          "name": "stdout"
        }
      ]
    },
    {
      "cell_type": "markdown",
      "metadata": {
        "id": "ZZ83WJfUKCib"
      },
      "source": [
        "#### Shape of data"
      ]
    },
    {
      "cell_type": "code",
      "metadata": {
        "trusted": false,
        "id": "7BloB18eKCib",
        "colab": {
          "base_uri": "https://localhost:8080/"
        },
        "outputId": "68614dbf-c945-4a81-c1c5-3ac9ce4e862e"
      },
      "source": [
        "data.shape"
      ],
      "execution_count": null,
      "outputs": [
        {
          "output_type": "execute_result",
          "data": {
            "text/plain": [
              "(1600000, 6)"
            ]
          },
          "metadata": {
            "tags": []
          },
          "execution_count": 13
        }
      ]
    },
    {
      "cell_type": "markdown",
      "metadata": {
        "id": "mUJyZyLFKCic"
      },
      "source": [
        "#### Data information"
      ]
    },
    {
      "cell_type": "code",
      "metadata": {
        "scrolled": false,
        "trusted": false,
        "id": "RzY8eV-YKCic",
        "colab": {
          "base_uri": "https://localhost:8080/"
        },
        "outputId": "4c93d5b2-ae1a-4292-af5d-6878d7a76315"
      },
      "source": [
        "data.info()"
      ],
      "execution_count": null,
      "outputs": [
        {
          "output_type": "stream",
          "text": [
            "<class 'pandas.core.frame.DataFrame'>\n",
            "RangeIndex: 1600000 entries, 0 to 1599999\n",
            "Data columns (total 6 columns):\n",
            " #   Column    Non-Null Count    Dtype \n",
            "---  ------    --------------    ----- \n",
            " 0   label     1600000 non-null  int64 \n",
            " 1   time      1600000 non-null  int64 \n",
            " 2   date      1600000 non-null  object\n",
            " 3   query     1600000 non-null  object\n",
            " 4   username  1600000 non-null  object\n",
            " 5   text      1600000 non-null  object\n",
            "dtypes: int64(2), object(4)\n",
            "memory usage: 73.2+ MB\n"
          ],
          "name": "stdout"
        }
      ]
    },
    {
      "cell_type": "markdown",
      "metadata": {
        "id": "aDLzeBmoKCic"
      },
      "source": [
        "#### Data types of all coloumns"
      ]
    },
    {
      "cell_type": "code",
      "metadata": {
        "trusted": false,
        "id": "qOGeo1NwKCic",
        "colab": {
          "base_uri": "https://localhost:8080/"
        },
        "outputId": "a3ba7386-dab7-4847-bbaf-2f7839d6a59d"
      },
      "source": [
        "data.dtypes"
      ],
      "execution_count": null,
      "outputs": [
        {
          "output_type": "execute_result",
          "data": {
            "text/plain": [
              "label        int64\n",
              "time         int64\n",
              "date        object\n",
              "query       object\n",
              "username    object\n",
              "text        object\n",
              "dtype: object"
            ]
          },
          "metadata": {
            "tags": []
          },
          "execution_count": 15
        }
      ]
    },
    {
      "cell_type": "markdown",
      "metadata": {
        "id": "Fn3MeiXbKCic"
      },
      "source": [
        "#### Checking Null values"
      ]
    },
    {
      "cell_type": "code",
      "metadata": {
        "scrolled": true,
        "trusted": false,
        "id": "2sis1zAMKCid",
        "colab": {
          "base_uri": "https://localhost:8080/"
        },
        "outputId": "d703805a-31e5-41e3-e2b7-e818839bd258"
      },
      "source": [
        "np.sum(data.isnull().any(axis=1))"
      ],
      "execution_count": null,
      "outputs": [
        {
          "output_type": "execute_result",
          "data": {
            "text/plain": [
              "0"
            ]
          },
          "metadata": {
            "tags": []
          },
          "execution_count": 16
        }
      ]
    },
    {
      "cell_type": "markdown",
      "metadata": {
        "id": "lfQdCQMVKCid"
      },
      "source": [
        "#### Rows and columns in the dataset"
      ]
    },
    {
      "cell_type": "code",
      "metadata": {
        "trusted": false,
        "id": "c_t0JWayKCid",
        "colab": {
          "base_uri": "https://localhost:8080/"
        },
        "outputId": "f9415d4d-45d3-41ef-b13e-2a1dd5ad1458"
      },
      "source": [
        "print('Count of columns in the data is:  ', len(data.columns))"
      ],
      "execution_count": null,
      "outputs": [
        {
          "output_type": "stream",
          "text": [
            "Count of columns in the data is:   6\n"
          ],
          "name": "stdout"
        }
      ]
    },
    {
      "cell_type": "code",
      "metadata": {
        "trusted": false,
        "id": "qCh06swEKCid",
        "colab": {
          "base_uri": "https://localhost:8080/"
        },
        "outputId": "6c3146c6-903d-40c5-de2c-a59b65694ecf"
      },
      "source": [
        "print('Count of rows in the data is:  ', len(data))"
      ],
      "execution_count": null,
      "outputs": [
        {
          "output_type": "stream",
          "text": [
            "Count of rows in the data is:   1600000\n"
          ],
          "name": "stdout"
        }
      ]
    },
    {
      "cell_type": "code",
      "metadata": {
        "trusted": false,
        "id": "7uH3hZt1KCie"
      },
      "source": [
        "data=data[['text','label']]"
      ],
      "execution_count": null,
      "outputs": []
    },
    {
      "cell_type": "markdown",
      "metadata": {
        "id": "Fk_M2ylaKjKv"
      },
      "source": [
        "## b. Plot a bar graph of class distribution in a dataset. Each bar depicts the number of tweets belonging to a particular sentiment."
      ]
    },
    {
      "cell_type": "code",
      "metadata": {
        "colab": {
          "base_uri": "https://localhost:8080/",
          "height": 300
        },
        "id": "KuTDouhfKq5c",
        "outputId": "f89c601d-44c9-44fc-d3ad-b1b793ef6baa"
      },
      "source": [
        "datag = data.groupby('label').size().reset_index(name='count')\n",
        "sns.barplot(y=\"count\",x=\"label\", data=datag)\n"
      ],
      "execution_count": null,
      "outputs": [
        {
          "output_type": "execute_result",
          "data": {
            "text/plain": [
              "<matplotlib.axes._subplots.AxesSubplot at 0x7f54c215d610>"
            ]
          },
          "metadata": {
            "tags": []
          },
          "execution_count": 20
        },
        {
          "output_type": "display_data",
          "data": {
            "image/png": "[encoded data removed]",
            "text/plain": [
              "<Figure size 432x288 with 1 Axes>"
            ]
          },
          "metadata": {
            "tags": [],
            "needs_background": "light"
          }
        }
      ]
    },
    {
      "cell_type": "markdown",
      "metadata": {
        "id": "nzQtvtpAK9S3"
      },
      "source": [
        "## c. Other visualizations"
      ]
    },
    {
      "cell_type": "code",
      "metadata": {
        "id": "ZG7Oj0oILAEK"
      },
      "source": [
        "stopwords_ = set(STOPWORDS)\n",
        "\n",
        "def show_wordcloud(data, title = None):\n",
        "    wordcloud = WordCloud(\n",
        "        collocations=False,\n",
        "        background_color='white',\n",
        "        stopwords=stopwords_,\n",
        "        max_words=200,\n",
        "        max_font_size=40, \n",
        "        scale=3,\n",
        "        random_state=1\n",
        "    ).generate(str(data))\n",
        "\n",
        "    fig = plt.figure(1, figsize=(12, 12))\n",
        "    plt.axis('off')\n",
        "    if title: \n",
        "        fig.suptitle(title, fontsize=20)\n",
        "        fig.subplots_adjust(top=2.3)\n",
        "\n",
        "    plt.imshow(wordcloud)\n",
        "    plt.show()"
      ],
      "execution_count": null,
      "outputs": []
    },
    {
      "cell_type": "code",
      "metadata": {
        "colab": {
          "base_uri": "https://localhost:8080/",
          "height": 418
        },
        "id": "FILh_fxHLZYO",
        "outputId": "4611f4f9-4d46-4df5-b167-df07de671a68"
      },
      "source": [
        "show_wordcloud(data['text'], \"WordCloud for tweets\")"
      ],
      "execution_count": null,
      "outputs": [
        {
          "output_type": "display_data",
          "data": {
            "image/png": "[encoded data removed]",
            "text/plain": [
              "<Figure size 864x864 with 1 Axes>"
            ]
          },
          "metadata": {
            "tags": [],
            "needs_background": "light"
          }
        }
      ]
    },
    {
      "cell_type": "markdown",
      "metadata": {
        "id": "h1LHirJ9L52M"
      },
      "source": [
        "# Data Pre-processing\n",
        "a. Need for this Step-Since the models we use cannot accept string inputs or cannot be of the string format. We have to come up with a way of handling this step. The discussion of different ways of handling this step is out of the scope of this assignment.\n",
        "\n",
        "b. Please use this pre-trained embedding layerfrom TensorFlow hub for this assignment. This link also has a code snippet on how to convert a sentence to a vector. Refer to that for further clarity on this subject.\n",
        "\n",
        "c. Bring the train and test data in the required format."
      ]
    },
    {
      "cell_type": "markdown",
      "metadata": {
        "id": "Oi8vSNbpKCie"
      },
      "source": [
        "## Assigning 1 to Positive sentment 4"
      ]
    },
    {
      "cell_type": "code",
      "metadata": {
        "trusted": false,
        "id": "6ONumEf8KCie"
      },
      "source": [
        "data['label'][data['label']==4]=1"
      ],
      "execution_count": null,
      "outputs": []
    },
    {
      "cell_type": "markdown",
      "metadata": {
        "id": "mmNpy1QpKCim"
      },
      "source": [
        "##  Separating input feature and label"
      ]
    },
    {
      "cell_type": "code",
      "metadata": {
        "trusted": false,
        "id": "b4h-3yaRKCim"
      },
      "source": [
        "X=data.text\n",
        "y=data.label"
      ],
      "execution_count": null,
      "outputs": []
    },
    {
      "cell_type": "markdown",
      "metadata": {
        "id": "50j7wbfOqM3v"
      },
      "source": [
        "### c. Bring the train and test data in the required format."
      ]
    },
    {
      "cell_type": "markdown",
      "metadata": {
        "id": "AxapX0rxdfaF"
      },
      "source": [
        "#### Separating the 80% data for training data and 20% for testing data\n",
        "As we prepared all the tweets, now we are separating/splitting the tweets into training data and testing data.\n",
        "- 80% tweets will be used in the training \n",
        "- 20% tweets will be used to test the performance of the model."
      ]
    },
    {
      "cell_type": "markdown",
      "metadata": {
        "id": "pHKBHBTmdfaG"
      },
      "source": [
        ""
      ]
    },
    {
      "cell_type": "code",
      "metadata": {
        "trusted": false,
        "id": "yh-985gTdfaH"
      },
      "source": [
        "X_train_org, X_test_org, Y_train, Y_test = train_test_split(data, y, test_size=0.2, random_state=2)\n",
        "X_train_org, X_val_org, Y_train, Y_val = train_test_split(X_train_org, Y_train, test_size=0.2, random_state=3)"
      ],
      "execution_count": null,
      "outputs": []
    },
    {
      "cell_type": "markdown",
      "metadata": {
        "id": "LEOdcrgOqEFH"
      },
      "source": [
        "### b. Please use this pre-trained embedding layer from TensorFlow hub for this assignment. "
      ]
    },
    {
      "cell_type": "code",
      "metadata": {
        "id": "XlXrUuTPX6We"
      },
      "source": [
        "X_train = embed(X_train_org.text.values).numpy()\n",
        "X_val = embed(X_val_org.text.values).numpy()\n",
        "X_test = embed(X_test_org.text.values).numpy()"
      ],
      "execution_count": null,
      "outputs": []
    },
    {
      "cell_type": "markdown",
      "metadata": {
        "id": "ZGnU9IYoj4WJ"
      },
      "source": [
        "# Data Visualization"
      ]
    },
    {
      "cell_type": "markdown",
      "metadata": {
        "id": "0KrgHDaFiyzO"
      },
      "source": [
        "## d. Print the shapes of train and test data."
      ]
    },
    {
      "cell_type": "code",
      "metadata": {
        "colab": {
          "base_uri": "https://localhost:8080/"
        },
        "id": "UfpN3DridfaJ",
        "outputId": "89a359d9-abf7-40f9-cf6c-3adb3c137e87"
      },
      "source": [
        "print('X_train: ', X_train.shape)\n",
        "print('X_test: ', X_test.shape)\n",
        "print('Y_train: ', Y_train.shape)\n",
        "print('Y_test: ', Y_test.shape)"
      ],
      "execution_count": null,
      "outputs": [
        {
          "output_type": "stream",
          "text": [
            "X_train:  (1024000, 128)\n",
            "X_test:  (320000, 128)\n",
            "Y_train:  (1024000,)\n",
            "Y_test:  (320000,)\n"
          ],
          "name": "stdout"
        }
      ]
    },
    {
      "cell_type": "markdown",
      "metadata": {
        "id": "KmWtpqffkKdD"
      },
      "source": [
        "# Model Building\n",
        "a. Sequential Model layers-Use AT LEAST 3 hidden layers with appropriate input for each. Choose the best number for hidden units and give reasons. : **To prepare near best model we gradually decrease number of neurons in hidden layers by dividing the number of neurons in the previous layers by 2. Hence when we start at 64 neurons and have to prepare 2 more layers then one option would be 32 followed by 16**\n",
        "\n",
        "b. Add L2 regularization to all the layers.\n",
        "\n",
        "c. Add one layer of dropout at the appropriate position and give reasons.d.Choose the appropriate activation function for all the layers.e.Print the model summary."
      ]
    },
    {
      "cell_type": "code",
      "metadata": {
        "trusted": false,
        "id": "jfAbS-DrdfaL"
      },
      "source": [
        "def model_base(): #Defined tensorflow_based_model function for training tenforflow based model\n",
        "    inputs = Input(name='inputs',shape=(128))\n",
        "    layer = Dropout(0.1, name='dropout')(inputs)\n",
        "    layer = Dense(64,name='layer1', activation='relu',kernel_regularizer=reg.L2(0.0005))(layer)\n",
        "    layer = Dense(32,name='layer2', activation='relu', kernel_regularizer=reg.L2(0.0005))(layer) \n",
        "    layer = Dense(16,name='layer3', activation='relu', kernel_regularizer=reg.L2(0.0005))(layer) \n",
        "    layer = Dense(1,name='output', activation='sigmoid')(layer) \n",
        "    model = Model(inputs=inputs,outputs=layer) #here we are getting the final output value in the model for classification\n",
        "    return model #function returning the value when we call it\n",
        "\n",
        "callback = EarlyStopping(monitor='val_loss', min_delta=0.001, patience=3, verbose=1,mode='auto', baseline=None, restore_best_weights=False\n",
        ")"
      ],
      "execution_count": null,
      "outputs": []
    },
    {
      "cell_type": "markdown",
      "metadata": {
        "id": "gBo5WAObklEv"
      },
      "source": [
        "## e. Print the model summary"
      ]
    },
    {
      "cell_type": "code",
      "metadata": {
        "colab": {
          "base_uri": "https://localhost:8080/"
        },
        "id": "eSLtYUvzkeel",
        "outputId": "c72874cb-7d80-4973-8021-21c3347b63f3"
      },
      "source": [
        "model = model_base() # here we are calling the function of created model\n",
        "print('Model summary')\n",
        "model.summary() "
      ],
      "execution_count": null,
      "outputs": [
        {
          "output_type": "stream",
          "text": [
            "Model summary\n",
            "Model: \"model\"\n",
            "_________________________________________________________________\n",
            "Layer (type)                 Output Shape              Param #   \n",
            "=================================================================\n",
            "inputs (InputLayer)          [(None, 128)]             0         \n",
            "_________________________________________________________________\n",
            "dropout (Dropout)            (None, 128)               0         \n",
            "_________________________________________________________________\n",
            "layer1 (Dense)               (None, 64)                8256      \n",
            "_________________________________________________________________\n",
            "layer2 (Dense)               (None, 32)                2080      \n",
            "_________________________________________________________________\n",
            "layer3 (Dense)               (None, 16)                528       \n",
            "_________________________________________________________________\n",
            "output (Dense)               (None, 1)                 17        \n",
            "=================================================================\n",
            "Total params: 10,881\n",
            "Trainable params: 10,881\n",
            "Non-trainable params: 0\n",
            "_________________________________________________________________\n"
          ],
          "name": "stdout"
        }
      ]
    },
    {
      "cell_type": "markdown",
      "metadata": {
        "id": "DaDXPiHTdfaM"
      },
      "source": [
        "# Model Compilation\n",
        "a.Compile the model with the appropriate loss function.\n",
        "\n",
        "b.Use an appropriate optimizer. Give reasons for the choice of learning rate and its value.: **We intially choose 0.001(least possible) but later realised that the training is too slow and could be improved without compromising the accuracy of the model so changed the learning rate to 0.005.**\n",
        "\n",
        "c.Use accuracy as a metric."
      ]
    },
    {
      "cell_type": "code",
      "metadata": {
        "trusted": false,
        "id": "h9hLp6hSdfaM"
      },
      "source": [
        "model.compile(loss='binary_crossentropy',optimizer=RMSprop(learning_rate=0.005),metrics=['accuracy']) "
      ],
      "execution_count": null,
      "outputs": []
    },
    {
      "cell_type": "markdown",
      "metadata": {
        "id": "t-2KVd0nmq_y"
      },
      "source": [
        "# Model Training\n",
        "a. Train the model for an appropriate number of epochs. Print the train and validation accuracy and loss for each epoch. Use the appropriate batch size.\n",
        "\n",
        "b. Plot the loss and accuracy history graphs for both train and validation set. Print the total time taken for training."
      ]
    },
    {
      "cell_type": "code",
      "metadata": {
        "trusted": false,
        "colab": {
          "base_uri": "https://localhost:8080/"
        },
        "id": "no0JaydzdfaN",
        "outputId": "6bb13681-de33-49f2-b95a-d5f219e3a759"
      },
      "source": [
        "startTime = time.time()\n",
        "history=model.fit(X_train,Y_train,batch_size=128,epochs=100, validation_data=(X_val, Y_val), callbacks=[callback])# here we are starting the training of model by feeding the training data\n",
        "endTime = time.time()\n",
        "print('Training finished in : {}s'.format(round(endTime - startTime, 2)))"
      ],
      "execution_count": null,
      "outputs": [
        {
          "output_type": "stream",
          "text": [
            "Epoch 1/100\n",
            "8000/8000 [==============================] - 21s 3ms/step - loss: 0.5990 - accuracy: 0.6907 - val_loss: 0.5748 - val_accuracy: 0.7072\n",
            "Epoch 2/100\n",
            "8000/8000 [==============================] - 20s 2ms/step - loss: 0.5853 - accuracy: 0.6994 - val_loss: 0.5733 - val_accuracy: 0.7104\n",
            "Epoch 3/100\n",
            "8000/8000 [==============================] - 20s 2ms/step - loss: 0.5855 - accuracy: 0.6992 - val_loss: 0.5721 - val_accuracy: 0.7107\n",
            "Epoch 4/100\n",
            "8000/8000 [==============================] - 20s 2ms/step - loss: 0.5842 - accuracy: 0.6996 - val_loss: 0.5709 - val_accuracy: 0.7115\n",
            "Epoch 5/100\n",
            "8000/8000 [==============================] - 20s 2ms/step - loss: 0.5858 - accuracy: 0.6985 - val_loss: 0.5937 - val_accuracy: 0.6916\n",
            "Epoch 6/100\n",
            "8000/8000 [==============================] - 20s 2ms/step - loss: 0.5854 - accuracy: 0.6990 - val_loss: 0.5707 - val_accuracy: 0.7127\n",
            "Epoch 7/100\n",
            "8000/8000 [==============================] - 20s 2ms/step - loss: 0.5847 - accuracy: 0.6998 - val_loss: 0.5809 - val_accuracy: 0.7041\n",
            "Epoch 00007: early stopping\n",
            "Training finished in : 139.36s\n"
          ],
          "name": "stdout"
        }
      ]
    },
    {
      "cell_type": "code",
      "metadata": {
        "colab": {
          "base_uri": "https://localhost:8080/",
          "height": 317
        },
        "id": "TNR4m6ncPMHG",
        "outputId": "660e8d54-ea2e-4087-aef1-750a4c63130a"
      },
      "source": [
        "plt.plot(history.history['accuracy'])\n",
        "plt.plot(history.history['val_accuracy'])\n",
        "plt.title('model accuracy')\n",
        "plt.ylabel('accuracy')\n",
        "plt.xlabel('epoch')\n",
        "plt.legend(['training', 'validation'])"
      ],
      "execution_count": null,
      "outputs": [
        {
          "output_type": "execute_result",
          "data": {
            "text/plain": [
              "<matplotlib.legend.Legend at 0x7f54b1072050>"
            ]
          },
          "metadata": {
            "tags": []
          },
          "execution_count": 32
        },
        {
          "output_type": "display_data",
          "data": {
            "image/png": "[encoded data removed]",
            "text/plain": [
              "<Figure size 432x288 with 1 Axes>"
            ]
          },
          "metadata": {
            "tags": [],
            "needs_background": "light"
          }
        }
      ]
    },
    {
      "cell_type": "code",
      "metadata": {
        "colab": {
          "base_uri": "https://localhost:8080/",
          "height": 354
        },
        "id": "T0zt0W1aRXSE",
        "outputId": "4a9459f2-3c91-40a0-9882-052ae4024571"
      },
      "source": [
        "print(history.history)\n",
        "plt.plot(history.history['loss'])\n",
        "plt.plot(history.history['val_loss'])\n",
        "plt.title('model loss')\n",
        "plt.ylabel('loss')\n",
        "plt.xlabel('epoch')\n",
        "plt.legend(['training', 'validation'])"
      ],
      "execution_count": null,
      "outputs": [
        {
          "output_type": "stream",
          "text": [
            "{'loss': [0.5906233787536621, 0.5856714844703674, 0.5853888392448425, 0.5846980214118958, 0.5852881669998169, 0.5852411389350891, 0.584918737411499], 'accuracy': [0.6958154439926147, 0.6986884474754333, 0.6990615129470825, 0.699701189994812, 0.6990351676940918, 0.6992265582084656, 0.6992626786231995], 'val_loss': [0.5747982263565063, 0.5733335018157959, 0.5720512270927429, 0.5709158182144165, 0.593736469745636, 0.5707220435142517, 0.5809078216552734], 'val_accuracy': [0.707226574420929, 0.7103866934776306, 0.7106835842132568, 0.7114765644073486, 0.6916171908378601, 0.7126874923706055, 0.7041249871253967]}\n"
          ],
          "name": "stdout"
        },
        {
          "output_type": "execute_result",
          "data": {
            "text/plain": [
              "<matplotlib.legend.Legend at 0x7f54b1017b90>"
            ]
          },
          "metadata": {
            "tags": []
          },
          "execution_count": 33
        },
        {
          "output_type": "display_data",
          "data": {
            "image/png": "[encoded data removed]",
            "text/plain": [
              "<Figure size 432x288 with 1 Axes>"
            ]
          },
          "metadata": {
            "tags": [],
            "needs_background": "light"
          }
        }
      ]
    },
    {
      "cell_type": "markdown",
      "metadata": {
        "id": "Y34PUZ6GnG7b"
      },
      "source": [
        "# Model Evaluation\n",
        "\n",
        "a.Print the final train and validation loss and accuracy. Print confusion matrix and classification report for the validation dataset. Analyse and report the best and worst performing class.\n",
        "\n",
        "b.Print the two most incorrectly classified texts for each class in the test dataset."
      ]
    },
    {
      "cell_type": "code",
      "metadata": {
        "trusted": false,
        "colab": {
          "base_uri": "https://localhost:8080/"
        },
        "id": "Hrfd48jTdfaQ",
        "outputId": "a8b44615-592c-44f4-b11a-64249126753f"
      },
      "source": [
        "accr1 = model.evaluate(X_val,Y_val) #we are starting to test the model here"
      ],
      "execution_count": null,
      "outputs": [
        {
          "output_type": "stream",
          "text": [
            "8000/8000 [==============================] - 14s 2ms/step - loss: 0.5809 - accuracy: 0.7041\n"
          ],
          "name": "stdout"
        }
      ]
    },
    {
      "cell_type": "code",
      "metadata": {
        "trusted": false,
        "colab": {
          "base_uri": "https://localhost:8080/"
        },
        "id": "1K3z4Tr9dfaQ",
        "outputId": "835b6a68-f6ed-4efc-e80a-c3fe66dc9465"
      },
      "source": [
        "print('Test set\\n  Accuracy: {:0.2f}'.format(accr1[1])) #the accuracy of the model on test data is given below"
      ],
      "execution_count": null,
      "outputs": [
        {
          "output_type": "stream",
          "text": [
            "Test set\n",
            "  Accuracy: 0.70\n"
          ],
          "name": "stdout"
        }
      ]
    },
    {
      "cell_type": "code",
      "metadata": {
        "id": "8edTXFrbdfaR"
      },
      "source": [
        "y_pred = model.predict(X_val) #getting predictions on the trained model\n",
        "y_pred_class = (y_pred > 0.5)"
      ],
      "execution_count": null,
      "outputs": []
    },
    {
      "cell_type": "code",
      "metadata": {
        "trusted": false,
        "colab": {
          "base_uri": "https://localhost:8080/",
          "height": 804
        },
        "id": "bYk61TZldfaR",
        "outputId": "f0f4d1fa-50c9-4247-9fc1-9272e6e806af"
      },
      "source": [
        "print('Classification Report')\n",
        "print(classification_report(Y_val, y_pred_class))\n",
        "print(\"Confusion matrix\")\n",
        "CR=confusion_matrix(Y_val, y_pred_class)\n",
        "print(CR)\n",
        "fig, ax = plot_confusion_matrix(conf_mat=CR,figsize=(10, 10),\n",
        "                                show_absolute=True,\n",
        "                                show_normed=True,\n",
        "                                colorbar=True)\n",
        "plt.show()"
      ],
      "execution_count": null,
      "outputs": [
        {
          "output_type": "stream",
          "text": [
            "Classification Report\n",
            "              precision    recall  f1-score   support\n",
            "\n",
            "           0       0.75      0.61      0.67    127978\n",
            "           1       0.67      0.80      0.73    128022\n",
            "\n",
            "    accuracy                           0.70    256000\n",
            "   macro avg       0.71      0.70      0.70    256000\n",
            "weighted avg       0.71      0.70      0.70    256000\n",
            "\n",
            "Confusion matrix\n",
            "[[ 77713  50265]\n",
            " [ 25479 102543]]\n"
          ],
          "name": "stdout"
        },
        {
          "output_type": "display_data",
          "data": {
            "image/png": "[encoded data removed]",
            "text/plain": [
              "<Figure size 720x720 with 2 Axes>"
            ]
          },
          "metadata": {
            "tags": [],
            "needs_background": "light"
          }
        }
      ]
    },
    {
      "cell_type": "markdown",
      "metadata": {
        "id": "bMn5BviYnG7e"
      },
      "source": [
        "### a.Positive class or Positive Sentiment is slightly better performing as per the confusion matrix."
      ]
    },
    {
      "cell_type": "markdown",
      "metadata": {
        "id": "kYNjpGnVdfaS"
      },
      "source": [
        "#### ROC CURVE"
      ]
    },
    {
      "cell_type": "code",
      "metadata": {
        "colab": {
          "base_uri": "https://localhost:8080/"
        },
        "id": "xRV9OfnbM73b",
        "outputId": "1d8cbc84-1aad-43e7-9dbb-c0ace56fc82b"
      },
      "source": [
        "print(roc_auc_score(Y_val, y_pred_class))"
      ],
      "execution_count": null,
      "outputs": [
        {
          "output_type": "stream",
          "text": [
            "0.7041083502678492\n"
          ],
          "name": "stdout"
        }
      ]
    },
    {
      "cell_type": "code",
      "metadata": {
        "scrolled": true,
        "trusted": false,
        "colab": {
          "base_uri": "https://localhost:8080/",
          "height": 317
        },
        "id": "9u-PLELfdfaT",
        "outputId": "2c79f142-39c0-4c82-aab4-588ab06f085c"
      },
      "source": [
        "fpr, tpr, thresholds = roc_curve(Y_val, y_pred_class)\n",
        "roc_auc = auc(fpr, tpr)\n",
        "plt.figure()\n",
        "plt.plot(fpr, tpr, color='darkorange', lw=1, label='ROC curve (area = %0.2f)' % roc_auc)\n",
        "plt.xlim([0.0, 1.0])\n",
        "plt.ylim([0.0, 1.05])\n",
        "plt.xlabel('False Positive Rate')\n",
        "plt.ylabel('True Positive Rate')\n",
        "plt.title('ROC CURVE')\n",
        "plt.legend(loc=\"lower right\")\n",
        "plt.show()\n",
        "print()"
      ],
      "execution_count": null,
      "outputs": [
        {
          "output_type": "display_data",
          "data": {
            "image/png": "[encoded data removed]",
            "text/plain": [
              "<Figure size 432x288 with 1 Axes>"
            ]
          },
          "metadata": {
            "tags": [],
            "needs_background": "light"
          }
        },
        {
          "output_type": "stream",
          "text": [
            "\n"
          ],
          "name": "stdout"
        }
      ]
    },
    {
      "cell_type": "markdown",
      "metadata": {
        "id": "JRXQ1T5Wn3AG"
      },
      "source": [
        "### b.Print the two most incorrectly classified texts for each class in the test dataset."
      ]
    },
    {
      "cell_type": "code",
      "metadata": {
        "id": "9OjQdeMPVhSB"
      },
      "source": [
        "def find_2_smallest_index(arr):\n",
        "    first = 999\n",
        "    second = 999\n",
        "    first_index=0\n",
        "    sexond_index=0\n",
        "    for i in range(len(arr)):\n",
        "        if arr[i] < first:\n",
        "            second = copy.deepcopy(first)\n",
        "            second_index = copy.deepcopy(first_index)\n",
        "            first = copy.deepcopy(arr[i])\n",
        "            first_index = copy.deepcopy(i)\n",
        "        elif (arr[i] < second):\n",
        "            second = copy.deepcopy(arr[i])\n",
        "            second_index = copy.deepcopy(i)\n",
        "    return first_index, second_index"
      ],
      "execution_count": null,
      "outputs": []
    },
    {
      "cell_type": "code",
      "metadata": {
        "colab": {
          "base_uri": "https://localhost:8080/"
        },
        "id": "GKRK7UIPXCm7",
        "outputId": "c5b9ea43-936b-4162-d0c6-cfe6792658ae"
      },
      "source": [
        "worst_2 = {}\n",
        "y_pred_test = model.predict(X_test)\n",
        "first_index, second_index = find_2_smallest_index(1-y_pred_test[:])\n",
        "worst_2[0] = [X_test_org.text.values[first_index],X_test_org.text.values[second_index]]\n",
        "first_index, second_index = find_2_smallest_index(y_pred_test[:])\n",
        "worst_2[1] = [X_test_org.text.values[first_index],X_test_org.text.values[second_index]]\n",
        "worst_2"
      ],
      "execution_count": null,
      "outputs": [
        {
          "output_type": "execute_result",
          "data": {
            "text/plain": [
              "{0: ['#BTS is fallin!!   #BTS #BTS #BTS #BTS #BTS #BTS #BTS #BTS #BTS #BTS #BTS #BTS #BTS #BTS #BTS #BTS #BTS #BTS #BTS #BTS #BTS #BTS #BTS',\n",
              "  '@allenbrand Happy Birthday to you! Happy Birthday to you! Happy Birthday dear Allen! Happy Birthday to you! And many moooore! '],\n",
              " 1: ['bad bad bad bad bad bad bad bad bad bad bad bad bad bad bad bad bad bad bad day. ',\n",
              "  'headache headache headache ']}"
            ]
          },
          "metadata": {
            "tags": []
          },
          "execution_count": 41
        }
      ]
    },
    {
      "cell_type": "markdown",
      "metadata": {
        "id": "CumEnWCvTgHY"
      },
      "source": [
        "# Hyperparameter Tuning\n",
        "Build two more additional models by changing the following hyperparameters ONE at a time. Write the code for Model Building, Model Compilation, Model Training and Model Evaluation as given in the instructions above for each additional model.\n",
        "1. Batch Size: Change the value of batch size in model training\n",
        "2. Dropout: Change the position and value of dropout layer\n",
        "Write a comparison between each model and give reasons for the difference in results."
      ]
    },
    {
      "cell_type": "markdown",
      "metadata": {
        "id": "xvNttYFcywU7"
      },
      "source": [
        "### **1.Batch Size: Change the value of batch size in model training**"
      ]
    },
    {
      "cell_type": "markdown",
      "metadata": {
        "id": "A9bHvDx6y-Qv"
      },
      "source": [
        "# Model Building\n",
        "a. Sequential Model layers-Use AT LEAST 3 hidden layers with appropriate input for each. Choose the best number for hidden units and give reasons. : **To prepare near best model we gradually decrease number of neurons in hidden layers by dividing the number of neurons in the previous layers by 2. Hence when we start at 64 neurons and have to prepare 3 more layers then one option would be 32 followed by 16 followed by 8**\n",
        "\n",
        "b. Add L2 regularization to all the layers.\n",
        "\n",
        "c. Add one layer of dropout at the appropriate position and give reasons.d.Choose the appropriate activation function for all the layers.e.Print the model summary."
      ]
    },
    {
      "cell_type": "code",
      "metadata": {
        "trusted": false,
        "id": "s1VVq0NJTgHV"
      },
      "source": [
        "def model_hyp1(): #Defined tensorflow_based_model function for training tensorflow based model\n",
        "    inputs = Input(name='inputs',shape=(128))\n",
        "    layer = Dropout(0.1, name='dropout')(inputs)\n",
        "    layer = Dense(64,name='layer1', activation='relu',kernel_regularizer=reg.L2(0.0005))(layer)\n",
        "    layer = Dense(32,name='layer2', activation='relu', kernel_regularizer=reg.L2(0.0005))(layer) \n",
        "    layer = Dense(16,name='layer3', activation='relu', kernel_regularizer=reg.L2(0.0005))(layer) \n",
        "    layer = Dense(8,name='layer4', activation='relu', kernel_regularizer=reg.L2(0.0005))(layer)\n",
        "    layer = Dense(1,name='output', activation='sigmoid')(layer) \n",
        "    model = Model(inputs=inputs,outputs=layer) #here we are getting the final output value in the model for classification\n",
        "    return model #function returning the value when we call it\n",
        "\n",
        "callback = EarlyStopping(monitor='val_loss', min_delta=0.001, patience=3, verbose=1,mode='auto', baseline=None, restore_best_weights=False\n",
        ")"
      ],
      "execution_count": null,
      "outputs": []
    },
    {
      "cell_type": "markdown",
      "metadata": {
        "id": "yrQlXs8Ez3FJ"
      },
      "source": [
        "## e. Print the model summary"
      ]
    },
    {
      "cell_type": "code",
      "metadata": {
        "trusted": false,
        "colab": {
          "base_uri": "https://localhost:8080/"
        },
        "id": "l8OhDwLVTgHZ",
        "outputId": "7089ceee-a3f3-4130-d69e-b9e876989273"
      },
      "source": [
        "model = model_hyp1() # here we are calling the function of created model\n",
        "print('Model summary')\n",
        "model.summary()"
      ],
      "execution_count": null,
      "outputs": [
        {
          "output_type": "stream",
          "text": [
            "Model summary\n",
            "Model: \"model_1\"\n",
            "_________________________________________________________________\n",
            "Layer (type)                 Output Shape              Param #   \n",
            "=================================================================\n",
            "inputs (InputLayer)          [(None, 128)]             0         \n",
            "_________________________________________________________________\n",
            "dropout (Dropout)            (None, 128)               0         \n",
            "_________________________________________________________________\n",
            "layer1 (Dense)               (None, 64)                8256      \n",
            "_________________________________________________________________\n",
            "layer2 (Dense)               (None, 32)                2080      \n",
            "_________________________________________________________________\n",
            "layer3 (Dense)               (None, 16)                528       \n",
            "_________________________________________________________________\n",
            "layer4 (Dense)               (None, 8)                 136       \n",
            "_________________________________________________________________\n",
            "output (Dense)               (None, 1)                 9         \n",
            "=================================================================\n",
            "Total params: 11,009\n",
            "Trainable params: 11,009\n",
            "Non-trainable params: 0\n",
            "_________________________________________________________________\n"
          ],
          "name": "stdout"
        }
      ]
    },
    {
      "cell_type": "markdown",
      "metadata": {
        "id": "gqMWN4vV0vpb"
      },
      "source": [
        "# Model Compilation\n",
        "a.Compile the model with the appropriate loss function.\n",
        "\n",
        "b.Use an appropriate optimizer. Give reasons for the choice of learning rate and its value.: **We intially choose 0.001(least possible) but later realised that the training is too slow and could be improved without compromising the accuracy of the model so changed the learning rate to 0.005.**\n",
        "\n",
        "c.Use accuracy as a metric."
      ]
    },
    {
      "cell_type": "code",
      "metadata": {
        "id": "N6CblQB40qGf"
      },
      "source": [
        "model.compile(loss='binary_crossentropy',optimizer=RMSprop(learning_rate=0.005),metrics=['accuracy']) "
      ],
      "execution_count": null,
      "outputs": []
    },
    {
      "cell_type": "markdown",
      "metadata": {
        "id": "Tby5ys3c04mg"
      },
      "source": [
        "# Model Training\n",
        "a. Train the model for an appropriate number of epochs. Print the train and validation accuracy and loss for each epoch. Use the appropriate batch size.\n",
        "\n",
        "b. Plot the loss and accuracy history graphs for both train and validation set. Print the total time taken for training."
      ]
    },
    {
      "cell_type": "code",
      "metadata": {
        "trusted": false,
        "colab": {
          "base_uri": "https://localhost:8080/"
        },
        "id": "0wftljwQTgHc",
        "outputId": "4d43ab76-9d88-4e82-b81c-98a78e560230"
      },
      "source": [
        "startTime = time.time()\n",
        "history=model.fit(X_train,Y_train,batch_size=128,epochs=100, validation_split=(X_val, Y_val), callbacks=[callback])# here we are starting the training of model by feeding the training data\n",
        "endTime = time.time()\n",
        "print('Training finished in : {}s'.format(round(endTime - startTime, 2)))"
      ],
      "execution_count": null,
      "outputs": [
        {
          "output_type": "stream",
          "text": [
            "Epoch 1/100\n",
            "6400/6400 [==============================] - 18s 3ms/step - loss: 0.6044 - accuracy: 0.6896 - val_loss: 0.5775 - val_accuracy: 0.7107\n",
            "Epoch 2/100\n",
            "6400/6400 [==============================] - 17s 3ms/step - loss: 0.5895 - accuracy: 0.6981 - val_loss: 0.5741 - val_accuracy: 0.7110\n",
            "Epoch 3/100\n",
            "6400/6400 [==============================] - 17s 3ms/step - loss: 0.5867 - accuracy: 0.7004 - val_loss: 0.5836 - val_accuracy: 0.7029\n",
            "Epoch 4/100\n",
            "6400/6400 [==============================] - 17s 3ms/step - loss: 0.5870 - accuracy: 0.7003 - val_loss: 0.5770 - val_accuracy: 0.7076\n",
            "Epoch 5/100\n",
            "6400/6400 [==============================] - 17s 3ms/step - loss: 0.5867 - accuracy: 0.6993 - val_loss: 0.5713 - val_accuracy: 0.7125\n",
            "Epoch 6/100\n",
            "6400/6400 [==============================] - 17s 3ms/step - loss: 0.5858 - accuracy: 0.7005 - val_loss: 0.5780 - val_accuracy: 0.7070\n",
            "Epoch 7/100\n",
            "6400/6400 [==============================] - 17s 3ms/step - loss: 0.5866 - accuracy: 0.6992 - val_loss: 0.5760 - val_accuracy: 0.7085\n",
            "Epoch 8/100\n",
            "6400/6400 [==============================] - 17s 3ms/step - loss: 0.5857 - accuracy: 0.7002 - val_loss: 0.5776 - val_accuracy: 0.7081\n",
            "Epoch 00008: early stopping\n",
            "Training finished in : 135.56s\n"
          ],
          "name": "stdout"
        }
      ]
    },
    {
      "cell_type": "code",
      "metadata": {
        "colab": {
          "base_uri": "https://localhost:8080/",
          "height": 317
        },
        "id": "bzCvFyWdTgHe",
        "outputId": "3e0c1bf3-63d2-47ea-b12b-db6b2523d580"
      },
      "source": [
        "plt.plot(history.history['accuracy'])\n",
        "plt.plot(history.history['val_accuracy'])\n",
        "plt.title('model accuracy')\n",
        "plt.ylabel('accuracy')\n",
        "plt.xlabel('epoch')\n",
        "plt.legend(['training', 'validation'])"
      ],
      "execution_count": null,
      "outputs": [
        {
          "output_type": "execute_result",
          "data": {
            "text/plain": [
              "<matplotlib.legend.Legend at 0x7f54b0e66750>"
            ]
          },
          "metadata": {
            "tags": []
          },
          "execution_count": 46
        },
        {
          "output_type": "display_data",
          "data": {
            "image/png": "[encoded data removed]",
            "text/plain": [
              "<Figure size 432x288 with 1 Axes>"
            ]
          },
          "metadata": {
            "tags": [],
            "needs_background": "light"
          }
        }
      ]
    },
    {
      "cell_type": "code",
      "metadata": {
        "colab": {
          "base_uri": "https://localhost:8080/",
          "height": 317
        },
        "id": "E0TXt1y_TgHg",
        "outputId": "f8e6487b-8775-49c2-d46c-47dd6b92d515"
      },
      "source": [
        "plt.plot(history.history['loss'])\n",
        "plt.plot(history.history['val_loss'])\n",
        "plt.title('model loss')\n",
        "plt.ylabel('loss')\n",
        "plt.xlabel('epoch')\n",
        "plt.legend(['training', 'validation'])"
      ],
      "execution_count": null,
      "outputs": [
        {
          "output_type": "execute_result",
          "data": {
            "text/plain": [
              "<matplotlib.legend.Legend at 0x7f54b0e010d0>"
            ]
          },
          "metadata": {
            "tags": []
          },
          "execution_count": 47
        },
        {
          "output_type": "display_data",
          "data": {
            "image/png": "[encoded data removed]",
            "text/plain": [
              "<Figure size 432x288 with 1 Axes>"
            ]
          },
          "metadata": {
            "tags": [],
            "needs_background": "light"
          }
        }
      ]
    },
    {
      "cell_type": "markdown",
      "metadata": {
        "id": "5ERF1DUU9BI_"
      },
      "source": [
        "# Model Evaluation\n",
        "\n",
        "a.Print the final train and validation loss and accuracy. Print confusion matrix and classification report for the validation dataset. Analyse and report the best and worst performing class.\n",
        "\n",
        "b.Print the two most incorrectly classified texts for each class in the test dataset."
      ]
    },
    {
      "cell_type": "code",
      "metadata": {
        "trusted": false,
        "colab": {
          "base_uri": "https://localhost:8080/"
        },
        "id": "nzZOkOOe9BJD",
        "outputId": "d2812c12-3d97-474a-f691-28770906317b"
      },
      "source": [
        "accr1 = model.evaluate(X_val,Y_val) #we are starting to test the model here"
      ],
      "execution_count": null,
      "outputs": [
        {
          "output_type": "stream",
          "text": [
            "8000/8000 [==============================] - 14s 2ms/step - loss: 0.5760 - accuracy: 0.7092\n"
          ],
          "name": "stdout"
        }
      ]
    },
    {
      "cell_type": "code",
      "metadata": {
        "trusted": false,
        "colab": {
          "base_uri": "https://localhost:8080/"
        },
        "id": "v9GaHB_K9BJF",
        "outputId": "421041eb-f622-445c-a886-846930331bff"
      },
      "source": [
        "print('Test set\\n  Accuracy: {:0.2f}'.format(accr1[1])) #the accuracy of the model on test data is given below"
      ],
      "execution_count": null,
      "outputs": [
        {
          "output_type": "stream",
          "text": [
            "Test set\n",
            "  Accuracy: 0.71\n"
          ],
          "name": "stdout"
        }
      ]
    },
    {
      "cell_type": "code",
      "metadata": {
        "id": "BybSBr7h9BJG"
      },
      "source": [
        "y_pred = model.predict(X_val) #getting predictions on the trained model\n",
        "y_pred_class = (y_pred > 0.5)"
      ],
      "execution_count": null,
      "outputs": []
    },
    {
      "cell_type": "code",
      "metadata": {
        "trusted": false,
        "colab": {
          "base_uri": "https://localhost:8080/",
          "height": 804
        },
        "id": "3Dxj_ycd9BJG",
        "outputId": "b5ffc835-05ca-4773-d674-2c46ff63edab"
      },
      "source": [
        "print('Classification Report')\n",
        "print(classification_report(Y_val, y_pred_class))\n",
        "print(\"Confusion matrix\")\n",
        "CR=confusion_matrix(Y_val, y_pred_class)\n",
        "print(CR)\n",
        "fig, ax = plot_confusion_matrix(conf_mat=CR,figsize=(10, 10),\n",
        "                                show_absolute=True,\n",
        "                                show_normed=True,\n",
        "                                colorbar=True)\n",
        "plt.show()"
      ],
      "execution_count": null,
      "outputs": [
        {
          "output_type": "stream",
          "text": [
            "Classification Report\n",
            "              precision    recall  f1-score   support\n",
            "\n",
            "           0       0.75      0.63      0.69    127978\n",
            "           1       0.68      0.79      0.73    128022\n",
            "\n",
            "    accuracy                           0.71    256000\n",
            "   macro avg       0.71      0.71      0.71    256000\n",
            "weighted avg       0.71      0.71      0.71    256000\n",
            "\n",
            "Confusion matrix\n",
            "[[ 81021  46957]\n",
            " [ 27499 100523]]\n"
          ],
          "name": "stdout"
        },
        {
          "output_type": "display_data",
          "data": {
            "image/png": "[encoded data removed]",
            "text/plain": [
              "<Figure size 720x720 with 2 Axes>"
            ]
          },
          "metadata": {
            "tags": [],
            "needs_background": "light"
          }
        }
      ]
    },
    {
      "cell_type": "markdown",
      "metadata": {
        "id": "k5kLPOB59BJH"
      },
      "source": [
        "### a.Positive class or Positive Sentiment is slightly better performing as per the confusion matrix."
      ]
    },
    {
      "cell_type": "markdown",
      "metadata": {
        "id": "ft7avBSQ9BJH"
      },
      "source": [
        "#### ROC CURVE"
      ]
    },
    {
      "cell_type": "code",
      "metadata": {
        "colab": {
          "base_uri": "https://localhost:8080/"
        },
        "id": "HPQ1F3Qk9BJI",
        "outputId": "6bd0c6dd-2f2f-43ad-cd64-26e8d34a6912"
      },
      "source": [
        "print(roc_auc_score(Y_val, y_pred_class))"
      ],
      "execution_count": null,
      "outputs": [
        {
          "output_type": "stream",
          "text": [
            "0.7091431775650207\n"
          ],
          "name": "stdout"
        }
      ]
    },
    {
      "cell_type": "code",
      "metadata": {
        "scrolled": true,
        "trusted": false,
        "colab": {
          "base_uri": "https://localhost:8080/",
          "height": 317
        },
        "id": "hJtIlaG69BJI",
        "outputId": "6c8447b1-904f-401e-a711-d1e5fa47e0fd"
      },
      "source": [
        "fpr, tpr, thresholds = roc_curve(Y_val, y_pred_class)\n",
        "roc_auc = auc(fpr, tpr)\n",
        "plt.figure()\n",
        "plt.plot(fpr, tpr, color='darkorange', lw=1, label='ROC curve (area = %0.2f)' % roc_auc)\n",
        "plt.xlim([0.0, 1.0])\n",
        "plt.ylim([0.0, 1.05])\n",
        "plt.xlabel('False Positive Rate')\n",
        "plt.ylabel('True Positive Rate')\n",
        "plt.title('ROC CURVE')\n",
        "plt.legend(loc=\"lower right\")\n",
        "plt.show()\n",
        "print()"
      ],
      "execution_count": null,
      "outputs": [
        {
          "output_type": "display_data",
          "data": {
            "image/png": "[encoded data removed]",
            "text/plain": [
              "<Figure size 432x288 with 1 Axes>"
            ]
          },
          "metadata": {
            "tags": [],
            "needs_background": "light"
          }
        },
        {
          "output_type": "stream",
          "text": [
            "\n"
          ],
          "name": "stdout"
        }
      ]
    },
    {
      "cell_type": "markdown",
      "metadata": {
        "id": "DGF2WSYL9BJJ"
      },
      "source": [
        "### b.Print the two most incorrectly classified texts for each class in the test dataset."
      ]
    },
    {
      "cell_type": "code",
      "metadata": {
        "id": "QbTZWAsZ9BJJ"
      },
      "source": [
        "def find_2_smallest_index(arr):\n",
        "    first = 999\n",
        "    second = 999\n",
        "    first_index=0\n",
        "    sexond_index=0\n",
        "    for i in range(len(arr)):\n",
        "        if arr[i] < first:\n",
        "            second = copy.deepcopy(first)\n",
        "            second_index = copy.deepcopy(first_index)\n",
        "            first = copy.deepcopy(arr[i])\n",
        "            first_index = copy.deepcopy(i)\n",
        "        elif (arr[i] < second):\n",
        "            second = copy.deepcopy(arr[i])\n",
        "            second_index = copy.deepcopy(i)\n",
        "    return first_index, second_index"
      ],
      "execution_count": null,
      "outputs": []
    },
    {
      "cell_type": "code",
      "metadata": {
        "colab": {
          "base_uri": "https://localhost:8080/"
        },
        "id": "Tv4cHxvj9BJJ",
        "outputId": "9144311d-6686-49c9-d5be-a88384a7db6e"
      },
      "source": [
        "worst_2 = {}\n",
        "y_pred_test = model.predict(X_test)\n",
        "first_index, second_index = find_2_smallest_index(1-y_pred_test[:])\n",
        "worst_2[0] = [X_test_org.text.values[first_index],X_test_org.text.values[second_index]]\n",
        "first_index, second_index = find_2_smallest_index(y_pred_test[:])\n",
        "worst_2[1] = [X_test_org.text.values[first_index],X_test_org.text.values[second_index]]\n",
        "worst_2"
      ],
      "execution_count": null,
      "outputs": [
        {
          "output_type": "execute_result",
          "data": {
            "text/plain": [
              "{0: ['Tired....bed time  Night twitter  Thanks @M_Matthews for another great movie night!',\n",
              "  \"@betsicastro that's great.  Have a fun time &amp; enjoy your dinner \"],\n",
              " 1: ['bad bad bad bad bad bad bad bad bad bad bad bad bad bad bad bad bad bad bad day. ',\n",
              "  'worry worry worry worry ']}"
            ]
          },
          "metadata": {
            "tags": []
          },
          "execution_count": 55
        }
      ]
    },
    {
      "cell_type": "markdown",
      "metadata": {
        "id": "viGLHfOvThk-"
      },
      "source": [
        "### **2.Optimiser: Use a different optimizer with the appropriate LR value**"
      ]
    },
    {
      "cell_type": "markdown",
      "metadata": {
        "id": "vB1tByMy4kw1"
      },
      "source": [
        "# Model Building\n",
        "a. Sequential Model layers-Use AT LEAST 3 hidden layers with appropriate input for each. Choose the best number for hidden units and give reasons. : **To prepare near best model we gradually decrease number of neurons in hidden layers by dividing the number of neurons in the previous layers by 2. Hence when we start at 64 neurons and have to prepare 2 more layers then one option would be 32 followed by 16**\n",
        "\n",
        "b. Add L2 regularization to all the layers.\n",
        "\n",
        "c. Add one layer of dropout at the appropriate position and give reasons.d.Choose the appropriate activation function for all the layers.e.Print the model summary."
      ]
    },
    {
      "cell_type": "code",
      "metadata": {
        "trusted": false,
        "id": "bm_GZDtdThk9"
      },
      "source": [
        "def model_hyp2(): #Defined tensorflow_based_model function for training tenforflow based model\n",
        "    inputs = Input(name='inputs',shape=(128))\n",
        "    layer = Dropout(0.1, name='dropout')(inputs)\n",
        "    layer = Dense(64,name='layer1', activation='relu',kernel_regularizer=reg.L2(0.0005))(inputs)\n",
        "    layer = Dense(32,name='layer2', activation='relu', kernel_regularizer=reg.L2(0.0005))(layer) \n",
        "    layer = Dense(16,name='layer3', activation='relu', kernel_regularizer=reg.L2(0.0005))(layer) \n",
        "    layer = Dense(1,name='output', activation='sigmoid')(layer) \n",
        "    model = Model(inputs=inputs,outputs=layer) #here we are getting the final output value in the model for classification\n",
        "    return model #function returning the value when we call it\n",
        "\n",
        "callback = EarlyStopping(monitor='val_loss', min_delta=0.001, patience=3, verbose=1,mode='auto', baseline=None, restore_best_weights=False\n",
        ")"
      ],
      "execution_count": null,
      "outputs": []
    },
    {
      "cell_type": "markdown",
      "metadata": {
        "id": "A3Qb48Q74yL2"
      },
      "source": [
        "## e. Print the model summary"
      ]
    },
    {
      "cell_type": "code",
      "metadata": {
        "trusted": false,
        "colab": {
          "base_uri": "https://localhost:8080/"
        },
        "id": "1eWzMJ3m4yL9",
        "outputId": "c37b0b5b-9511-4847-8121-4575692c30b6"
      },
      "source": [
        "model = model_hyp1() # here we are calling the function of created model\n",
        "print('Model summary')\n",
        "model.summary()"
      ],
      "execution_count": null,
      "outputs": [
        {
          "output_type": "stream",
          "text": [
            "Model summary\n",
            "Model: \"model_2\"\n",
            "_________________________________________________________________\n",
            "Layer (type)                 Output Shape              Param #   \n",
            "=================================================================\n",
            "inputs (InputLayer)          [(None, 128)]             0         \n",
            "_________________________________________________________________\n",
            "dropout (Dropout)            (None, 128)               0         \n",
            "_________________________________________________________________\n",
            "layer1 (Dense)               (None, 64)                8256      \n",
            "_________________________________________________________________\n",
            "layer2 (Dense)               (None, 32)                2080      \n",
            "_________________________________________________________________\n",
            "layer3 (Dense)               (None, 16)                528       \n",
            "_________________________________________________________________\n",
            "layer4 (Dense)               (None, 8)                 136       \n",
            "_________________________________________________________________\n",
            "output (Dense)               (None, 1)                 9         \n",
            "=================================================================\n",
            "Total params: 11,009\n",
            "Trainable params: 11,009\n",
            "Non-trainable params: 0\n",
            "_________________________________________________________________\n"
          ],
          "name": "stdout"
        }
      ]
    },
    {
      "cell_type": "markdown",
      "metadata": {
        "id": "fyhJ6hvb446g"
      },
      "source": [
        "# Model Compilation\n",
        "a.Compile the model with the appropriate loss function.\n",
        "\n",
        "b.Use an appropriate optimizer. Give reasons for the choice of learning rate and its value.: **We chose adam optimizer to incorporate the momentum component in the optimization process. We intially choose 0.001(least possible) but later realised that the training is too slow and could be improved without compromising the accuracy of the model so changed the learning rate to 0.005.**\n",
        "\n",
        "c.Use accuracy as a metric."
      ]
    },
    {
      "cell_type": "code",
      "metadata": {
        "trusted": false,
        "id": "w4YCDA1nThk_"
      },
      "source": [
        "model.compile(loss='binary_crossentropy',optimizer=Adam(learning_rate=0.005),metrics=['accuracy']) "
      ],
      "execution_count": null,
      "outputs": []
    },
    {
      "cell_type": "markdown",
      "metadata": {
        "id": "nTkAyHHt5PDP"
      },
      "source": [
        "# Model Training\n",
        "a. Train the model for an appropriate number of epochs. Print the train and validation accuracy and loss for each epoch. Use the appropriate batch size.\n",
        "\n",
        "b. Plot the loss and accuracy history graphs for both train and validation set. Print the total time taken for training."
      ]
    },
    {
      "cell_type": "code",
      "metadata": {
        "trusted": false,
        "colab": {
          "base_uri": "https://localhost:8080/"
        },
        "id": "bQpeSia1ThlA",
        "outputId": "27956994-c530-4d3d-91b6-7a2d6011104e"
      },
      "source": [
        "startTime = time.time()\n",
        "history=model.fit(X_train,Y_train,batch_size=128,epochs=100, validation_split=(X_val, Y_val), callbacks=[callback])# here we are starting the training of model by feeding the training data\n",
        "endTime = time.time()\n",
        "print('Training finished in : {}s'.format(round(endTime - startTime, 2)))"
      ],
      "execution_count": null,
      "outputs": [
        {
          "output_type": "stream",
          "text": [
            "Epoch 1/100\n",
            "6400/6400 [==============================] - 15s 2ms/step - loss: 0.6042 - accuracy: 0.6899 - val_loss: 0.5773 - val_accuracy: 0.7081\n",
            "Epoch 2/100\n",
            "6400/6400 [==============================] - 15s 2ms/step - loss: 0.5877 - accuracy: 0.6986 - val_loss: 0.5778 - val_accuracy: 0.7058\n",
            "Epoch 3/100\n",
            "6400/6400 [==============================] - 15s 2ms/step - loss: 0.5847 - accuracy: 0.7009 - val_loss: 0.5735 - val_accuracy: 0.7096\n",
            "Epoch 4/100\n",
            "6400/6400 [==============================] - 15s 2ms/step - loss: 0.5851 - accuracy: 0.6997 - val_loss: 0.5731 - val_accuracy: 0.7098\n",
            "Epoch 5/100\n",
            "6400/6400 [==============================] - 15s 2ms/step - loss: 0.5850 - accuracy: 0.6990 - val_loss: 0.5748 - val_accuracy: 0.7093\n",
            "Epoch 6/100\n",
            "6400/6400 [==============================] - 15s 2ms/step - loss: 0.5832 - accuracy: 0.7010 - val_loss: 0.5745 - val_accuracy: 0.7091\n",
            "Epoch 00006: early stopping\n",
            "Training finished in : 89.61s\n"
          ],
          "name": "stdout"
        }
      ]
    },
    {
      "cell_type": "code",
      "metadata": {
        "colab": {
          "base_uri": "https://localhost:8080/",
          "height": 317
        },
        "id": "ODAs5ViWThlB",
        "outputId": "5ac86a1c-49d8-4f28-d5f0-9a578985eda6"
      },
      "source": [
        "plt.plot(history.history['accuracy'])\n",
        "plt.plot(history.history['val_accuracy'])\n",
        "plt.title('model accuracy')\n",
        "plt.ylabel('accuracy')\n",
        "plt.xlabel('epoch')\n",
        "plt.legend(['training', 'validation'])"
      ],
      "execution_count": null,
      "outputs": [
        {
          "output_type": "execute_result",
          "data": {
            "text/plain": [
              "<matplotlib.legend.Legend at 0x7f54c20aa350>"
            ]
          },
          "metadata": {
            "tags": []
          },
          "execution_count": 60
        },
        {
          "output_type": "display_data",
          "data": {
            "image/png": "[encoded data removed]",
            "text/plain": [
              "<Figure size 432x288 with 1 Axes>"
            ]
          },
          "metadata": {
            "tags": [],
            "needs_background": "light"
          }
        }
      ]
    },
    {
      "cell_type": "code",
      "metadata": {
        "colab": {
          "base_uri": "https://localhost:8080/",
          "height": 354
        },
        "id": "F8dASWrfThlC",
        "outputId": "9cd809f9-6766-4e3a-9bfd-e1e99a453605"
      },
      "source": [
        "print(history.history)\n",
        "plt.plot(history.history['loss'])\n",
        "plt.plot(history.history['val_loss'])\n",
        "plt.title('model loss')\n",
        "plt.ylabel('loss')\n",
        "plt.xlabel('epoch')\n",
        "plt.legend(['training', 'validation'])"
      ],
      "execution_count": null,
      "outputs": [
        {
          "output_type": "stream",
          "text": [
            "{'loss': [0.594357967376709, 0.5863279104232788, 0.584952712059021, 0.5850710272789001, 0.5845098495483398, 0.5840005278587341], 'accuracy': [0.6955224871635437, 0.6997155547142029, 0.700366199016571, 0.6991076469421387, 0.6997351050376892, 0.7004052996635437], 'val_loss': [0.5772719979286194, 0.5778111219406128, 0.573509156703949, 0.5731223821640015, 0.5747844576835632, 0.5745202898979187], 'val_accuracy': [0.7081445455551147, 0.7058007717132568, 0.709643542766571, 0.7097851634025574, 0.7093456983566284, 0.7090527415275574]}\n"
          ],
          "name": "stdout"
        },
        {
          "output_type": "execute_result",
          "data": {
            "text/plain": [
              "<matplotlib.legend.Legend at 0x7f54b0d50f90>"
            ]
          },
          "metadata": {
            "tags": []
          },
          "execution_count": 61
        },
        {
          "output_type": "display_data",
          "data": {
            "image/png": "[encoded data removed]",
            "text/plain": [
              "<Figure size 432x288 with 1 Axes>"
            ]
          },
          "metadata": {
            "tags": [],
            "needs_background": "light"
          }
        }
      ]
    },
    {
      "cell_type": "markdown",
      "metadata": {
        "id": "mB8jxzLE9H5B"
      },
      "source": [
        "# Model Evaluation\n",
        "\n",
        "a.Print the final train and validation loss and accuracy. Print confusion matrix and classification report for the validation dataset. Analyse and report the best and worst performing class.\n",
        "\n",
        "b.Print the two most incorrectly classified texts for each class in the test dataset."
      ]
    },
    {
      "cell_type": "code",
      "metadata": {
        "trusted": false,
        "colab": {
          "base_uri": "https://localhost:8080/"
        },
        "id": "DqQZkk4B9H5C",
        "outputId": "8bd82339-a459-438d-f5b5-41034894bdef"
      },
      "source": [
        "accr1 = model.evaluate(X_val,Y_val) #we are starting to test the model here"
      ],
      "execution_count": null,
      "outputs": [
        {
          "output_type": "stream",
          "text": [
            "8000/8000 [==============================] - 14s 2ms/step - loss: 0.5737 - accuracy: 0.7100\n"
          ],
          "name": "stdout"
        }
      ]
    },
    {
      "cell_type": "code",
      "metadata": {
        "trusted": false,
        "colab": {
          "base_uri": "https://localhost:8080/"
        },
        "id": "XY9KHLlU9H5C",
        "outputId": "0d319f0c-be6f-4272-bcb8-6ae6352d85a2"
      },
      "source": [
        "print('Test set\\n  Accuracy: {:0.2f}'.format(accr1[1])) #the accuracy of the model on test data is given below"
      ],
      "execution_count": null,
      "outputs": [
        {
          "output_type": "stream",
          "text": [
            "Test set\n",
            "  Accuracy: 0.71\n"
          ],
          "name": "stdout"
        }
      ]
    },
    {
      "cell_type": "code",
      "metadata": {
        "id": "KYlnpCyF9H5C"
      },
      "source": [
        "y_pred = model.predict(X_val) #getting predictions on the trained model\n",
        "y_pred_class = (y_pred > 0.5)"
      ],
      "execution_count": null,
      "outputs": []
    },
    {
      "cell_type": "code",
      "metadata": {
        "trusted": false,
        "colab": {
          "base_uri": "https://localhost:8080/",
          "height": 804
        },
        "id": "27e29WtT9H5C",
        "outputId": "9fdb146d-9f6c-485c-9afc-6c77bb9be7d8"
      },
      "source": [
        "print('Classification Report')\n",
        "print(classification_report(Y_val, y_pred_class))\n",
        "print(\"Confusion matrix\")\n",
        "CR=confusion_matrix(Y_val, y_pred_class)\n",
        "print(CR)\n",
        "fig, ax = plot_confusion_matrix(conf_mat=CR,figsize=(10, 10),\n",
        "                                show_absolute=True,\n",
        "                                show_normed=True,\n",
        "                                colorbar=True)\n",
        "plt.show()"
      ],
      "execution_count": null,
      "outputs": [
        {
          "output_type": "stream",
          "text": [
            "Classification Report\n",
            "              precision    recall  f1-score   support\n",
            "\n",
            "           0       0.72      0.68      0.70    127978\n",
            "           1       0.70      0.74      0.72    128022\n",
            "\n",
            "    accuracy                           0.71    256000\n",
            "   macro avg       0.71      0.71      0.71    256000\n",
            "weighted avg       0.71      0.71      0.71    256000\n",
            "\n",
            "Confusion matrix\n",
            "[[86733 41245]\n",
            " [32986 95036]]\n"
          ],
          "name": "stdout"
        },
        {
          "output_type": "display_data",
          "data": {
            "image/png": "[encoded data removed]",
            "text/plain": [
              "<Figure size 720x720 with 2 Axes>"
            ]
          },
          "metadata": {
            "tags": [],
            "needs_background": "light"
          }
        }
      ]
    },
    {
      "cell_type": "markdown",
      "metadata": {
        "id": "wAashWtb9H5D"
      },
      "source": [
        "### a.Positive class or Positive Sentiment is slightly better performing as per the confusion matrix."
      ]
    },
    {
      "cell_type": "markdown",
      "metadata": {
        "id": "57QyxSsz9H5D"
      },
      "source": [
        "#### ROC CURVE"
      ]
    },
    {
      "cell_type": "code",
      "metadata": {
        "colab": {
          "base_uri": "https://localhost:8080/"
        },
        "id": "SXKyRmmE9H5D",
        "outputId": "6717468a-b1b2-4349-8dee-5a77aa367f21"
      },
      "source": [
        "print(roc_auc_score(Y_val, y_pred_class))"
      ],
      "execution_count": null,
      "outputs": [
        {
          "output_type": "stream",
          "text": [
            "0.7100296027010699\n"
          ],
          "name": "stdout"
        }
      ]
    },
    {
      "cell_type": "code",
      "metadata": {
        "scrolled": true,
        "trusted": false,
        "colab": {
          "base_uri": "https://localhost:8080/",
          "height": 317
        },
        "id": "p9qmngjy9H5D",
        "outputId": "f4aa9f39-8362-4664-ae71-22930b26b14c"
      },
      "source": [
        "fpr, tpr, thresholds = roc_curve(Y_val, y_pred_class)\n",
        "roc_auc = auc(fpr, tpr)\n",
        "plt.figure()\n",
        "plt.plot(fpr, tpr, color='darkorange', lw=1, label='ROC curve (area = %0.2f)' % roc_auc)\n",
        "plt.xlim([0.0, 1.0])\n",
        "plt.ylim([0.0, 1.05])\n",
        "plt.xlabel('False Positive Rate')\n",
        "plt.ylabel('True Positive Rate')\n",
        "plt.title('ROC CURVE')\n",
        "plt.legend(loc=\"lower right\")\n",
        "plt.show()\n",
        "print()"
      ],
      "execution_count": null,
      "outputs": [
        {
          "output_type": "display_data",
          "data": {
            "image/png": "[encoded data removed]",
            "text/plain": [
              "<Figure size 432x288 with 1 Axes>"
            ]
          },
          "metadata": {
            "tags": [],
            "needs_background": "light"
          }
        },
        {
          "output_type": "stream",
          "text": [
            "\n"
          ],
          "name": "stdout"
        }
      ]
    },
    {
      "cell_type": "markdown",
      "metadata": {
        "id": "Rj5kaUiN9H5D"
      },
      "source": [
        "### b.Print the two most incorrectly classified texts for each class in the test dataset."
      ]
    },
    {
      "cell_type": "code",
      "metadata": {
        "id": "HxM1IHpf9H5D"
      },
      "source": [
        "def find_2_smallest_index(arr):\n",
        "    first = 999\n",
        "    second = 999\n",
        "    first_index=0\n",
        "    sexond_index=0\n",
        "    for i in range(len(arr)):\n",
        "        if arr[i] < first:\n",
        "            second = copy.deepcopy(first)\n",
        "            second_index = copy.deepcopy(first_index)\n",
        "            first = copy.deepcopy(arr[i])\n",
        "            first_index = copy.deepcopy(i)\n",
        "        elif (arr[i] < second):\n",
        "            second = copy.deepcopy(arr[i])\n",
        "            second_index = copy.deepcopy(i)\n",
        "    return first_index, second_index"
      ],
      "execution_count": null,
      "outputs": []
    },
    {
      "cell_type": "code",
      "metadata": {
        "colab": {
          "base_uri": "https://localhost:8080/"
        },
        "id": "-M04c8n99H5E",
        "outputId": "15353f68-03db-47d0-af89-20a33bbf4381"
      },
      "source": [
        "worst_2 = {}\n",
        "y_pred_test = model.predict(X_test)\n",
        "first_index, second_index = find_2_smallest_index(1-y_pred_test[:])\n",
        "worst_2[0] = [X_test_org.text.values[first_index],X_test_org.text.values[second_index]]\n",
        "first_index, second_index = find_2_smallest_index(y_pred_test[:])\n",
        "worst_2[1] = [X_test_org.text.values[first_index],X_test_org.text.values[second_index]]\n",
        "worst_2"
      ],
      "execution_count": null,
      "outputs": [
        {
          "output_type": "execute_result",
          "data": {
            "text/plain": [
              "{0: ['#BTS is fallin!!   #BTS #BTS #BTS #BTS #BTS #BTS #BTS #BTS #BTS #BTS #BTS #BTS #BTS #BTS #BTS #BTS #BTS #BTS #BTS #BTS #BTS #BTS #BTS',\n",
              "  'great day, great weather, great place, great movie, great food, great people '],\n",
              " 1: ['bad bad bad bad bad bad bad bad bad bad bad bad bad bad bad bad bad bad bad day. ',\n",
              "  'headache headache headache ']}"
            ]
          },
          "metadata": {
            "tags": []
          },
          "execution_count": 69
        }
      ]
    },
    {
      "cell_type": "markdown",
      "metadata": {
        "id": "3mMJPf5958D5"
      },
      "source": [
        "# Write a comparison between each model and give reasons for the difference in results.\n",
        "\n",
        "Model 1 with increase in number of hidden layer only has validation accuracy as 70.92 which is around .5% more than the base model that has lesser hidden layer.\n",
        "\n",
        "Model 2 with change in optimizer has validation accuracy of 71% which is very slightly better than Model 1 but much better than the base model that has RMS Prop as the optimizer.\n",
        "\n",
        "Hence the conclude we can say that RMSProp is a better optimizer for this problem and having more hidden layer may help to slightly improve the validation accuracy for this problem statement"
      ]
    },
    {
      "cell_type": "markdown",
      "metadata": {
        "id": "MNXn4xUj-Xmb"
      },
      "source": [
        "## References\n",
        "1.  Sashank J. Reddi, Satyen Kale, & Sanjiv Kumar. (2019). On the Convergence of  Adam and Beyond.\n",
        "2. Srivastava, Nitish, Geoffrey, Hinton, Alex, Krizhevsky, Ilya, Sutskever, and Ruslan, Salakhutdinov. \"Dropout: A Simple Way to Prevent Neural Networks from Overfitting\".J. Mach. Learn. Res. 15, no.1 (2014): 1929–1958.\n",
        "3. \"Is Dropout Applied before or after the Non-linear Activation Function?\" Dr. Sebastian Raschka. May 19, 2021. Accessed May 23, 2021. https://sebastianraschka.com/faq/docs/dropout-activation.html.\n",
        "4. Franck Dernoncourt \"Where Should I Place Dropout Layers in a Neural Network?\" Cross Validated. June 01, 1965. Accessed May 23, 2021. https://stats.stackexchange.com/questions/240305/where-should-i-place-dropout-layers-in-a-neural-network.\n",
        "5. Galeone, Paolo. \"Analysis of Dropout.\" P. Galeone's Blog. Accessed May 23, 2021. https://pgaleone.eu/deep-learning/regularization/2017/01/10/anaysis-of-dropout/.\n",
        "6. Shen, Kevin. \"Effect of Batch Size on Training Dynamics.\" Medium. June 19, 2018. Accessed May 23, 2021. https://medium.com/mini-distill/effect-of-batch-size-on-training-dynamics-21c14f7a716e.\n",
        "7. Samuel L. Smith, , Pieter-Jan Kindermans, Chris Ying, and Quoc V. Le. \"Don't Decay the Learning Rate, Increase the Batch Size.\" (2018).\n",
        "8. https://www.tensorflow.org/api_docs"
      ]
    }
  ]
}