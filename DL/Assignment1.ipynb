{
  "nbformat": 4,
  "nbformat_minor": 0,
  "metadata": {
    "colab": {
      "name": "Untitled0.ipynb",
      "provenance": [],
      "mount_file_id": "https://github.com/datascience-projects-deepaksoni/bitspilani-projects/blob/main/DL/Assignment1.ipynb",
      "authorship_tag": "ABX9TyP9lnfj7kXZgQq8qcIQVNj3",
      "include_colab_link": true
    },
    "kernelspec": {
      "name": "python3",
      "display_name": "Python 3"
    },
    "language_info": {
      "name": "python"
    }
  },
  "cells": [
    {
      "cell_type": "markdown",
      "metadata": {
        "id": "view-in-github",
        "colab_type": "text"
      },
      "source": [
        "<a href=\"https://colab.research.google.com/github/Gr-30/DL/blob/main/DL/Assignment1.ipynb\" target=\"_parent\"><img src=\"https://colab.research.google.com/assets/colab-badge.svg\" alt=\"Open In Colab\"/></a>"
      ]
    },
    {
      "cell_type": "code",
      "metadata": {
        "id": "zhW8WdigStiO"
      },
      "source": [
        "import pandas as pd\n",
        "import tensorflow as tf"
      ],
      "execution_count": 6,
      "outputs": []
    },
    {
      "cell_type": "code",
      "metadata": {
        "colab": {
          "base_uri": "https://localhost:8080/"
        },
        "id": "P3wo2wZ9f7Zc",
        "outputId": "d907c4f1-8aa4-47b9-b854-235f00407e1d"
      },
      "source": [
        "from google.colab import drive\n",
        "drive.mount('/content/drive/')"
      ],
      "execution_count": 4,
      "outputs": [
        {
          "output_type": "stream",
          "text": [
            "Drive already mounted at /content/drive/; to attempt to forcibly remount, call drive.mount(\"/content/drive/\", force_remount=True).\n"
          ],
          "name": "stdout"
        }
      ]
    },
    {
      "cell_type": "code",
      "metadata": {
        "id": "zRuM6kUjh2AG"
      },
      "source": [
        "df = pd.read_csv(\"/content/drive/MyDrive/DeepLearning-datasets/imagenette2-160/noisy_imagenette.csv\", encoding = \"ISO-8859-1\", engine=\"python\")"
      ],
      "execution_count": 7,
      "outputs": []
    },
    {
      "cell_type": "code",
      "metadata": {
        "colab": {
          "base_uri": "https://localhost:8080/",
          "height": 195
        },
        "id": "cmjZWVOLiZ5Q",
        "outputId": "4083b887-22fd-426e-f9bd-f653a883dc30"
      },
      "source": [
        "df.head()"
      ],
      "execution_count": 9,
      "outputs": [
        {
          "output_type": "execute_result",
          "data": {
            "text/html": [
              "<div>\n",
              "<style scoped>\n",
              "    .dataframe tbody tr th:only-of-type {\n",
              "        vertical-align: middle;\n",
              "    }\n",
              "\n",
              "    .dataframe tbody tr th {\n",
              "        vertical-align: top;\n",
              "    }\n",
              "\n",
              "    .dataframe thead th {\n",
              "        text-align: right;\n",
              "    }\n",
              "</style>\n",
              "<table border=\"1\" class=\"dataframe\">\n",
              "  <thead>\n",
              "    <tr style=\"text-align: right;\">\n",
              "      <th></th>\n",
              "      <th>path</th>\n",
              "      <th>noisy_labels_0</th>\n",
              "      <th>noisy_labels_1</th>\n",
              "      <th>noisy_labels_5</th>\n",
              "      <th>noisy_labels_25</th>\n",
              "      <th>noisy_labels_50</th>\n",
              "      <th>is_valid</th>\n",
              "    </tr>\n",
              "  </thead>\n",
              "  <tbody>\n",
              "    <tr>\n",
              "      <th>0</th>\n",
              "      <td>train/n02979186/n02979186_9036.JPEG</td>\n",
              "      <td>n02979186</td>\n",
              "      <td>n02979186</td>\n",
              "      <td>n02979186</td>\n",
              "      <td>n02979186</td>\n",
              "      <td>n02979186</td>\n",
              "      <td>False</td>\n",
              "    </tr>\n",
              "    <tr>\n",
              "      <th>1</th>\n",
              "      <td>train/n02979186/n02979186_11957.JPEG</td>\n",
              "      <td>n02979186</td>\n",
              "      <td>n02979186</td>\n",
              "      <td>n02979186</td>\n",
              "      <td>n02979186</td>\n",
              "      <td>n03000684</td>\n",
              "      <td>False</td>\n",
              "    </tr>\n",
              "    <tr>\n",
              "      <th>2</th>\n",
              "      <td>train/n02979186/n02979186_9715.JPEG</td>\n",
              "      <td>n02979186</td>\n",
              "      <td>n02979186</td>\n",
              "      <td>n02979186</td>\n",
              "      <td>n03417042</td>\n",
              "      <td>n03000684</td>\n",
              "      <td>False</td>\n",
              "    </tr>\n",
              "    <tr>\n",
              "      <th>3</th>\n",
              "      <td>train/n02979186/n02979186_21736.JPEG</td>\n",
              "      <td>n02979186</td>\n",
              "      <td>n02979186</td>\n",
              "      <td>n02979186</td>\n",
              "      <td>n02979186</td>\n",
              "      <td>n03417042</td>\n",
              "      <td>False</td>\n",
              "    </tr>\n",
              "    <tr>\n",
              "      <th>4</th>\n",
              "      <td>train/n02979186/ILSVRC2012_val_00046953.JPEG</td>\n",
              "      <td>n02979186</td>\n",
              "      <td>n02979186</td>\n",
              "      <td>n02979186</td>\n",
              "      <td>n02979186</td>\n",
              "      <td>n03394916</td>\n",
              "      <td>False</td>\n",
              "    </tr>\n",
              "  </tbody>\n",
              "</table>\n",
              "</div>"
            ],
            "text/plain": [
              "                                           path  ... is_valid\n",
              "0           train/n02979186/n02979186_9036.JPEG  ...    False\n",
              "1          train/n02979186/n02979186_11957.JPEG  ...    False\n",
              "2           train/n02979186/n02979186_9715.JPEG  ...    False\n",
              "3          train/n02979186/n02979186_21736.JPEG  ...    False\n",
              "4  train/n02979186/ILSVRC2012_val_00046953.JPEG  ...    False\n",
              "\n",
              "[5 rows x 7 columns]"
            ]
          },
          "metadata": {
            "tags": []
          },
          "execution_count": 9
        }
      ]
    }
  ]
}