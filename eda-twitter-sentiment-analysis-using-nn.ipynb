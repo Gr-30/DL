{
  "nbformat": 4,
  "nbformat_minor": 0,
  "metadata": {
    "kernelspec": {
      "name": "python3",
      "display_name": "Python 3",
      "language": "python"
    },
    "language_info": {
      "name": "python",
      "version": "3.7.9",
      "mimetype": "text/x-python",
      "codemirror_mode": {
        "name": "ipython",
        "version": 3
      },
      "pygments_lexer": "ipython3",
      "nbconvert_exporter": "python",
      "file_extension": ".py"
    },
    "colab": {
      "name": "eda-twitter-sentiment-analysis-using-nn.ipynb",
      "provenance": [],
      "toc_visible": true
    },
    "accelerator": "TPU"
  },
  "cells": [
    {
      "cell_type": "markdown",
      "metadata": {
        "id": "IxsI9lWTKCiQ"
      },
      "source": [
        "# <img src=\"https://miro.medium.com/max/700/1*0OVev9mGkNJblfkOxkknAQ.png\">"
      ]
    },
    {
      "cell_type": "code",
      "metadata": {
        "id": "_U6TMVsSKEXJ"
      },
      "source": [
        "import pandas as pd"
      ],
      "execution_count": 1,
      "outputs": []
    },
    {
      "cell_type": "code",
      "metadata": {
        "colab": {
          "base_uri": "https://localhost:8080/"
        },
        "id": "vs3xv-m6KajW",
        "outputId": "67481bb7-e2e0-44a9-da51-3b58d4db62da"
      },
      "source": [
        "from google.colab import drive\n",
        "drive.mount('/content/drive')"
      ],
      "execution_count": 2,
      "outputs": [
        {
          "output_type": "stream",
          "text": [
            "Mounted at /content/drive\n"
          ],
          "name": "stdout"
        }
      ]
    },
    {
      "cell_type": "code",
      "metadata": {
        "id": "l3v6JNFSKzfw"
      },
      "source": [
        "data = pd.read_csv(\"/content/drive/MyDrive/Assignment1/training.1600000.processed.noemoticon.csv\", encoding = \"ISO-8859-1\", engine=\"python\")"
      ],
      "execution_count": null,
      "outputs": []
    },
    {
      "cell_type": "markdown",
      "metadata": {
        "papermill": {
          "duration": 0.020638,
          "end_time": "2020-12-02T21:20:36.560772",
          "exception": false,
          "start_time": "2020-12-02T21:20:36.540134",
          "status": "completed"
        },
        "tags": [],
        "id": "XAgNSrR5KCiS"
      },
      "source": [
        "<div class=\"alert alert-block alert-info\">  \n",
        "<h1><strong>Introduction</strong></h1>\n",
        "    <p>Millions of people are using Twitter and expressing their emotions like happiness, sadness, angry, etc. The Sentiment analysis is also about detecting the emotions, opinion, assessment, attitudes, and took this into consideration as a way humans think. Sentiment analysis classifies the emotions into classes such as positive or negative. Nowadays, industries are interested to use textual data for semantic analysis to extract the view of people about their products and services. Sentiment analysis is very important for them to know the customer satisfaction level and they can improve their services accordingly. To work on the text data, they try to extract the data from social media platforms. There are a lot of social media sites like Google Plus, Facebook, and Twitter that allow expressing opinions, views, and emotions about certain topics and events. Microblogging site Twitter is expanding rapidly among all other online social media networking sites with about 200 million users. Twitter was founded in 2006 and currently, it is the most famous microblogging platform. In 2017 2 million users shared 8.3 million tweets in one hour. Twitter users use to post their thoughts, emotions, and messages on their profiles, called tweets. Words limit of a single tweet has 140 characters. Twitter sentiment analysis based on the NLP (natural language processing) field. For tweets text, we use NLP techniques like tokenizing the words, removing the stop words like I, me, my, our, your, is, was, etc. Natural language processing also plays a part to preprocess the data like cleaning the text and removing the special characters and punctuation marks. Sentimental analysis is very important because we can know the trends of people’s emotions on specific topics with their tweets.</p>\n",
        "    <br>\n",
        "        <hr>\n",
        "      <b>Problem description/definition: </b> \n",
        "    <hr>\n",
        "<ul>\n",
        "    <li>To devise a sentimental analyzer for overcoming the challenges to identify the twitter tweets text sentiments (positive, negative) by implementing neural network using tensorflow</li>\n",
        "</ul>\n",
        "\n",
        "\n",
        "<hr>\n",
        "<b>Evolution measures: </b> \n",
        "<hr>\n",
        "<ul>\n",
        "<p> After training the model, we apply the evaluation measures to check that how the model is getting predictions. We will use the following evaluation measures to evaluate the performance of the models:</p>\n",
        "    <li>Accuracy</li>\n",
        "    <li>Confusion matrix with plot</li>\n",
        "    <li>ROC Curve</li>\n",
        "</ul>\n",
        "<hr>\n",
        "<b>Technical Approach</b>\n",
        "<hr>\n",
        "<p>We are using python language in the implementations and Jupter Notebook that support the machine learning and data science projects. We will build tensorflow based model. We will use Sentiment 140 dataset and split that data into 70% for training and 30% for the testing purposes. After training on the model, we will evaluate the model to evaluate the performance of trained model</p>\n",
        " \n",
        "<hr>\n",
        "<b>Source of Data: </b> \n",
        "<hr> \n",
        " <a href=\"https://www.kaggle.com/kazanova/sentiment140\">https://www.kaggle.com/kazanova/sentiment140</a>\n",
        "   \n",
        "</div>"
      ]
    },
    {
      "cell_type": "markdown",
      "metadata": {
        "papermill": {
          "duration": 0.065466,
          "end_time": "2020-11-30T07:38:51.578836",
          "exception": false,
          "start_time": "2020-11-30T07:38:51.513370",
          "status": "completed"
        },
        "tags": [],
        "id": "NpAnrT8OKCiU"
      },
      "source": [
        "<div class=\"alert alert-block alert-danger\">  \n",
        "<h2><center><strong>Importing Python Libraries 📕 📗 📘 📙</strong></center></h2>\n",
        "        \n",
        "</div>"
      ]
    },
    {
      "cell_type": "markdown",
      "metadata": {
        "id": "oykILU30KCiU"
      },
      "source": [
        "- Libraries are important and we call them to perform the different actions on our data and for training the models.\n",
        "- Its a first step to load the library to perform the specific task"
      ]
    },
    {
      "cell_type": "code",
      "metadata": {
        "id": "-E4TvIVLMa73",
        "scrolled": true,
        "trusted": false
      },
      "source": [
        "import numpy as np \n",
        "import pandas as pd \n",
        "import seaborn as sns \n",
        "import matplotlib.pyplot as plt\n",
        "plt.style.use('ggplot')\n",
        "from sklearn.metrics import roc_curve, auc\n",
        "from sklearn.metrics import classification_report, confusion_matrix\n",
        "import nltk\n",
        "from nltk.corpus import stopwords\n",
        "from nltk.stem import PorterStemmer \n",
        "from sklearn.model_selection import train_test_split\n",
        "from mlxtend.plotting import plot_confusion_matrix\n",
        "import matplotlib.cm as cm\n",
        "from matplotlib import rcParams\n",
        "from collections import Counter\n",
        "from nltk.tokenize import RegexpTokenizer\n",
        "import re\n",
        "import string\n",
        "from tensorflow.keras.layers import LSTM, Activation, Dense, Dropout, Input, Embedding\n",
        "from tensorflow.keras.models import Model\n",
        "from tensorflow.keras.optimizers import RMSprop\n",
        "from tensorflow.keras.preprocessing.text import Tokenizer\n",
        "from tensorflow.keras.preprocessing import sequence\n",
        "%matplotlib inline\n",
        "\n",
        "import warnings\n",
        "warnings.filterwarnings(\"ignore\")"
      ],
      "execution_count": 4,
      "outputs": []
    },
    {
      "cell_type": "markdown",
      "metadata": {
        "id": "0u0uyx61KCiW"
      },
      "source": [
        "<h4> We are uisng the following versions of the libraries:</h4>\n",
        "\n",
        "- numpy == 1.18.5 \n",
        "\n",
        "- pandas == 1.1.3\n",
        "\n",
        "- tensorflow ==1.7.0\n",
        "\n",
        "- keras == 2.4.3\n",
        "\n",
        "- nltk ==3.5\n",
        "\n",
        "- seaborn ==0.11.0"
      ]
    },
    {
      "cell_type": "markdown",
      "metadata": {
        "id": "9cR1Q7gLKCiX"
      },
      "source": [
        "<h4>How we can install the libraries in python?</h4>"
      ]
    },
    {
      "cell_type": "markdown",
      "metadata": {
        "id": "mszLQeqVKCiX"
      },
      "source": [
        "<h4>To install the python library is very easy</h4>\n",
        "- pip install name_of_library \n",
        "<h5> Like if you wanted to install tensorflow? </h5>\n",
        "- pip install tensforflow"
      ]
    },
    {
      "cell_type": "markdown",
      "metadata": {
        "papermill": {
          "duration": 0.065466,
          "end_time": "2020-11-30T07:38:51.578836",
          "exception": false,
          "start_time": "2020-11-30T07:38:51.513370",
          "status": "completed"
        },
        "tags": [],
        "id": "7FHGqd9NKCiX"
      },
      "source": [
        "<div class=\"alert alert-block alert-danger\">  \n",
        "<h2><center><strong>Loading the data 📁 📂</strong></center></h2>\n",
        "        \n",
        "</div>"
      ]
    },
    {
      "cell_type": "code",
      "metadata": {
        "trusted": false,
        "id": "EgjoX1kWKCiY"
      },
      "source": [
        "data.columns = [\"label\", \"time\", \"date\", \"query\", \"username\", \"text\"]"
      ],
      "execution_count": 5,
      "outputs": []
    },
    {
      "cell_type": "markdown",
      "metadata": {
        "papermill": {
          "duration": 0.065466,
          "end_time": "2020-11-30T07:38:51.578836",
          "exception": false,
          "start_time": "2020-11-30T07:38:51.513370",
          "status": "completed"
        },
        "tags": [],
        "id": "ewWFou7rKCiY"
      },
      "source": [
        "<div class=\"alert alert-block alert-danger\">  \n",
        "<h2><center><strong>Exploratory data analysis 🔎 📊</strong></center></h2>\n",
        "        \n",
        "</div>"
      ]
    },
    {
      "cell_type": "markdown",
      "metadata": {
        "id": "nOYepGcYKCiZ"
      },
      "source": [
        "#### Five top records of data"
      ]
    },
    {
      "cell_type": "code",
      "metadata": {
        "trusted": false,
        "id": "o27SeogeKCiZ",
        "outputId": "e7f0d025-33e8-477b-ec94-e9775b24bf72",
        "colab": {
          "base_uri": "https://localhost:8080/",
          "height": 289
        }
      },
      "source": [
        "data.head()"
      ],
      "execution_count": 6,
      "outputs": [
        {
          "output_type": "execute_result",
          "data": {
            "text/html": [
              "<div>\n",
              "<style scoped>\n",
              "    .dataframe tbody tr th:only-of-type {\n",
              "        vertical-align: middle;\n",
              "    }\n",
              "\n",
              "    .dataframe tbody tr th {\n",
              "        vertical-align: top;\n",
              "    }\n",
              "\n",
              "    .dataframe thead th {\n",
              "        text-align: right;\n",
              "    }\n",
              "</style>\n",
              "<table border=\"1\" class=\"dataframe\">\n",
              "  <thead>\n",
              "    <tr style=\"text-align: right;\">\n",
              "      <th></th>\n",
              "      <th>label</th>\n",
              "      <th>time</th>\n",
              "      <th>date</th>\n",
              "      <th>query</th>\n",
              "      <th>username</th>\n",
              "      <th>text</th>\n",
              "    </tr>\n",
              "  </thead>\n",
              "  <tbody>\n",
              "    <tr>\n",
              "      <th>0</th>\n",
              "      <td>0</td>\n",
              "      <td>1467810672</td>\n",
              "      <td>Mon Apr 06 22:19:49 PDT 2009</td>\n",
              "      <td>NO_QUERY</td>\n",
              "      <td>scotthamilton</td>\n",
              "      <td>is upset that he can't update his Facebook by ...</td>\n",
              "    </tr>\n",
              "    <tr>\n",
              "      <th>1</th>\n",
              "      <td>0</td>\n",
              "      <td>1467810917</td>\n",
              "      <td>Mon Apr 06 22:19:53 PDT 2009</td>\n",
              "      <td>NO_QUERY</td>\n",
              "      <td>mattycus</td>\n",
              "      <td>@Kenichan I dived many times for the ball. Man...</td>\n",
              "    </tr>\n",
              "    <tr>\n",
              "      <th>2</th>\n",
              "      <td>0</td>\n",
              "      <td>1467811184</td>\n",
              "      <td>Mon Apr 06 22:19:57 PDT 2009</td>\n",
              "      <td>NO_QUERY</td>\n",
              "      <td>ElleCTF</td>\n",
              "      <td>my whole body feels itchy and like its on fire</td>\n",
              "    </tr>\n",
              "    <tr>\n",
              "      <th>3</th>\n",
              "      <td>0</td>\n",
              "      <td>1467811193</td>\n",
              "      <td>Mon Apr 06 22:19:57 PDT 2009</td>\n",
              "      <td>NO_QUERY</td>\n",
              "      <td>Karoli</td>\n",
              "      <td>@nationwideclass no, it's not behaving at all....</td>\n",
              "    </tr>\n",
              "    <tr>\n",
              "      <th>4</th>\n",
              "      <td>0</td>\n",
              "      <td>1467811372</td>\n",
              "      <td>Mon Apr 06 22:20:00 PDT 2009</td>\n",
              "      <td>NO_QUERY</td>\n",
              "      <td>joy_wolf</td>\n",
              "      <td>@Kwesidei not the whole crew</td>\n",
              "    </tr>\n",
              "  </tbody>\n",
              "</table>\n",
              "</div>"
            ],
            "text/plain": [
              "   label  ...                                               text\n",
              "0      0  ...  is upset that he can't update his Facebook by ...\n",
              "1      0  ...  @Kenichan I dived many times for the ball. Man...\n",
              "2      0  ...    my whole body feels itchy and like its on fire \n",
              "3      0  ...  @nationwideclass no, it's not behaving at all....\n",
              "4      0  ...                      @Kwesidei not the whole crew \n",
              "\n",
              "[5 rows x 6 columns]"
            ]
          },
          "metadata": {
            "tags": []
          },
          "execution_count": 6
        }
      ]
    },
    {
      "cell_type": "markdown",
      "metadata": {
        "id": "mTEv12ZUKCia"
      },
      "source": [
        "#### Five last records of data"
      ]
    },
    {
      "cell_type": "code",
      "metadata": {
        "trusted": false,
        "id": "Cj8PV1c-KCia",
        "outputId": "75bff732-ad8a-473c-db82-20aeada2e522",
        "colab": {
          "base_uri": "https://localhost:8080/",
          "height": 289
        }
      },
      "source": [
        "data.tail()"
      ],
      "execution_count": 7,
      "outputs": [
        {
          "output_type": "execute_result",
          "data": {
            "text/html": [
              "<div>\n",
              "<style scoped>\n",
              "    .dataframe tbody tr th:only-of-type {\n",
              "        vertical-align: middle;\n",
              "    }\n",
              "\n",
              "    .dataframe tbody tr th {\n",
              "        vertical-align: top;\n",
              "    }\n",
              "\n",
              "    .dataframe thead th {\n",
              "        text-align: right;\n",
              "    }\n",
              "</style>\n",
              "<table border=\"1\" class=\"dataframe\">\n",
              "  <thead>\n",
              "    <tr style=\"text-align: right;\">\n",
              "      <th></th>\n",
              "      <th>label</th>\n",
              "      <th>time</th>\n",
              "      <th>date</th>\n",
              "      <th>query</th>\n",
              "      <th>username</th>\n",
              "      <th>text</th>\n",
              "    </tr>\n",
              "  </thead>\n",
              "  <tbody>\n",
              "    <tr>\n",
              "      <th>1599994</th>\n",
              "      <td>4</td>\n",
              "      <td>2193601966</td>\n",
              "      <td>Tue Jun 16 08:40:49 PDT 2009</td>\n",
              "      <td>NO_QUERY</td>\n",
              "      <td>AmandaMarie1028</td>\n",
              "      <td>Just woke up. Having no school is the best fee...</td>\n",
              "    </tr>\n",
              "    <tr>\n",
              "      <th>1599995</th>\n",
              "      <td>4</td>\n",
              "      <td>2193601969</td>\n",
              "      <td>Tue Jun 16 08:40:49 PDT 2009</td>\n",
              "      <td>NO_QUERY</td>\n",
              "      <td>TheWDBoards</td>\n",
              "      <td>TheWDB.com - Very cool to hear old Walt interv...</td>\n",
              "    </tr>\n",
              "    <tr>\n",
              "      <th>1599996</th>\n",
              "      <td>4</td>\n",
              "      <td>2193601991</td>\n",
              "      <td>Tue Jun 16 08:40:49 PDT 2009</td>\n",
              "      <td>NO_QUERY</td>\n",
              "      <td>bpbabe</td>\n",
              "      <td>Are you ready for your MoJo Makeover? Ask me f...</td>\n",
              "    </tr>\n",
              "    <tr>\n",
              "      <th>1599997</th>\n",
              "      <td>4</td>\n",
              "      <td>2193602064</td>\n",
              "      <td>Tue Jun 16 08:40:49 PDT 2009</td>\n",
              "      <td>NO_QUERY</td>\n",
              "      <td>tinydiamondz</td>\n",
              "      <td>Happy 38th Birthday to my boo of alll time!!! ...</td>\n",
              "    </tr>\n",
              "    <tr>\n",
              "      <th>1599998</th>\n",
              "      <td>4</td>\n",
              "      <td>2193602129</td>\n",
              "      <td>Tue Jun 16 08:40:50 PDT 2009</td>\n",
              "      <td>NO_QUERY</td>\n",
              "      <td>RyanTrevMorris</td>\n",
              "      <td>happy #charitytuesday @theNSPCC @SparksCharity...</td>\n",
              "    </tr>\n",
              "  </tbody>\n",
              "</table>\n",
              "</div>"
            ],
            "text/plain": [
              "         label  ...                                               text\n",
              "1599994      4  ...  Just woke up. Having no school is the best fee...\n",
              "1599995      4  ...  TheWDB.com - Very cool to hear old Walt interv...\n",
              "1599996      4  ...  Are you ready for your MoJo Makeover? Ask me f...\n",
              "1599997      4  ...  Happy 38th Birthday to my boo of alll time!!! ...\n",
              "1599998      4  ...  happy #charitytuesday @theNSPCC @SparksCharity...\n",
              "\n",
              "[5 rows x 6 columns]"
            ]
          },
          "metadata": {
            "tags": []
          },
          "execution_count": 7
        }
      ]
    },
    {
      "cell_type": "markdown",
      "metadata": {
        "id": "9fgEQYqKKCia"
      },
      "source": [
        "#### Coloumns/features in data"
      ]
    },
    {
      "cell_type": "code",
      "metadata": {
        "trusted": false,
        "id": "GsDEwSDGKCia",
        "outputId": "0ed11e3a-a079-4329-ac5b-76abcfdab61c",
        "colab": {
          "base_uri": "https://localhost:8080/"
        }
      },
      "source": [
        "data.columns"
      ],
      "execution_count": 8,
      "outputs": [
        {
          "output_type": "execute_result",
          "data": {
            "text/plain": [
              "Index(['label', 'time', 'date', 'query', 'username', 'text'], dtype='object')"
            ]
          },
          "metadata": {
            "tags": []
          },
          "execution_count": 8
        }
      ]
    },
    {
      "cell_type": "markdown",
      "metadata": {
        "id": "oTsgnRLrKCib"
      },
      "source": [
        "#### Length of data"
      ]
    },
    {
      "cell_type": "code",
      "metadata": {
        "trusted": false,
        "id": "KGFjX1_KKCib",
        "outputId": "731a2050-c11e-487a-f37a-3bc7724e4ef4",
        "colab": {
          "base_uri": "https://localhost:8080/"
        }
      },
      "source": [
        "print('lenght of data is', len(data))"
      ],
      "execution_count": 9,
      "outputs": [
        {
          "output_type": "stream",
          "text": [
            "lenght of data is 1599999\n"
          ],
          "name": "stdout"
        }
      ]
    },
    {
      "cell_type": "markdown",
      "metadata": {
        "id": "ZZ83WJfUKCib"
      },
      "source": [
        "#### Shape of data"
      ]
    },
    {
      "cell_type": "code",
      "metadata": {
        "trusted": false,
        "id": "7BloB18eKCib",
        "outputId": "ae2e9851-16c1-419d-bbac-50423f07c851",
        "colab": {
          "base_uri": "https://localhost:8080/"
        }
      },
      "source": [
        "data.shape"
      ],
      "execution_count": 10,
      "outputs": [
        {
          "output_type": "execute_result",
          "data": {
            "text/plain": [
              "(1599999, 6)"
            ]
          },
          "metadata": {
            "tags": []
          },
          "execution_count": 10
        }
      ]
    },
    {
      "cell_type": "markdown",
      "metadata": {
        "id": "mUJyZyLFKCic"
      },
      "source": [
        "#### Data information"
      ]
    },
    {
      "cell_type": "code",
      "metadata": {
        "scrolled": false,
        "trusted": false,
        "id": "RzY8eV-YKCic",
        "outputId": "c117ef90-d8f4-4854-e6af-4da0d5168007",
        "colab": {
          "base_uri": "https://localhost:8080/"
        }
      },
      "source": [
        "data.info()"
      ],
      "execution_count": 11,
      "outputs": [
        {
          "output_type": "stream",
          "text": [
            "<class 'pandas.core.frame.DataFrame'>\n",
            "RangeIndex: 1599999 entries, 0 to 1599998\n",
            "Data columns (total 6 columns):\n",
            " #   Column    Non-Null Count    Dtype \n",
            "---  ------    --------------    ----- \n",
            " 0   label     1599999 non-null  int64 \n",
            " 1   time      1599999 non-null  int64 \n",
            " 2   date      1599999 non-null  object\n",
            " 3   query     1599999 non-null  object\n",
            " 4   username  1599999 non-null  object\n",
            " 5   text      1599999 non-null  object\n",
            "dtypes: int64(2), object(4)\n",
            "memory usage: 73.2+ MB\n"
          ],
          "name": "stdout"
        }
      ]
    },
    {
      "cell_type": "markdown",
      "metadata": {
        "id": "aDLzeBmoKCic"
      },
      "source": [
        "#### Data types of all coloumns"
      ]
    },
    {
      "cell_type": "code",
      "metadata": {
        "trusted": false,
        "id": "qOGeo1NwKCic",
        "outputId": "aa792ccc-6c66-4411-8bf0-d2599356188f",
        "colab": {
          "base_uri": "https://localhost:8080/"
        }
      },
      "source": [
        "data.dtypes"
      ],
      "execution_count": 12,
      "outputs": [
        {
          "output_type": "execute_result",
          "data": {
            "text/plain": [
              "label        int64\n",
              "time         int64\n",
              "date        object\n",
              "query       object\n",
              "username    object\n",
              "text        object\n",
              "dtype: object"
            ]
          },
          "metadata": {
            "tags": []
          },
          "execution_count": 12
        }
      ]
    },
    {
      "cell_type": "markdown",
      "metadata": {
        "id": "Fn3MeiXbKCic"
      },
      "source": [
        "#### Checking Null values"
      ]
    },
    {
      "cell_type": "code",
      "metadata": {
        "scrolled": true,
        "trusted": false,
        "id": "2sis1zAMKCid",
        "outputId": "ef5afdd4-bdb9-49df-e135-c9ed2c327167",
        "colab": {
          "base_uri": "https://localhost:8080/"
        }
      },
      "source": [
        "np.sum(data.isnull().any(axis=1))"
      ],
      "execution_count": 13,
      "outputs": [
        {
          "output_type": "execute_result",
          "data": {
            "text/plain": [
              "0"
            ]
          },
          "metadata": {
            "tags": []
          },
          "execution_count": 13
        }
      ]
    },
    {
      "cell_type": "markdown",
      "metadata": {
        "id": "lfQdCQMVKCid"
      },
      "source": [
        "#### Rows and columns in the dataset"
      ]
    },
    {
      "cell_type": "code",
      "metadata": {
        "trusted": false,
        "id": "c_t0JWayKCid",
        "outputId": "f8242c41-c9de-470c-da95-63a0440a8dd9",
        "colab": {
          "base_uri": "https://localhost:8080/"
        }
      },
      "source": [
        "print('Count of columns in the data is:  ', len(data.columns))"
      ],
      "execution_count": 14,
      "outputs": [
        {
          "output_type": "stream",
          "text": [
            "Count of columns in the data is:   6\n"
          ],
          "name": "stdout"
        }
      ]
    },
    {
      "cell_type": "code",
      "metadata": {
        "trusted": false,
        "id": "qCh06swEKCid",
        "outputId": "9d32658f-12ef-48b3-a051-1bd2f25e31c6",
        "colab": {
          "base_uri": "https://localhost:8080/"
        }
      },
      "source": [
        "print('Count of rows in the data is:  ', len(data))"
      ],
      "execution_count": 15,
      "outputs": [
        {
          "output_type": "stream",
          "text": [
            "Count of rows in the data is:   1599999\n"
          ],
          "name": "stdout"
        }
      ]
    },
    {
      "cell_type": "markdown",
      "metadata": {
        "papermill": {
          "duration": 0.065466,
          "end_time": "2020-11-30T07:38:51.578836",
          "exception": false,
          "start_time": "2020-11-30T07:38:51.513370",
          "status": "completed"
        },
        "tags": [],
        "id": "D0vIudaNKCid"
      },
      "source": [
        "<div class=\"alert alert-block alert-danger\">  \n",
        "<h1><center><strong>Data Preparation 📝</strong></center></h1>\n",
        "\n",
        " <ul style=\"list-style-type:circle;\">\n",
        "     <h6>\n",
        "         <li>Selection of interested coloumns</li>\n",
        "         <br>\n",
        "          <li>Assinged 1 to class 4</li>\n",
        "         <br>\n",
        "          <li>Took one fourth data so we can run on our machine easily</li>\n",
        "         <br>\n",
        "          <li>Combined positive and negative tweets</li>\n",
        "         <br>\n",
        "    <li>We will convert the text in lower case for the further working on tweet text. </li>\n",
        "         <br>\n",
        "         <li>We will clean and remove the stop words(of, a, in etc) from statement because these words are not useuseful to support the labels of sentiments  data</li>\n",
        "<br>\n",
        "         <li>We will clean and remove the punctuations because these are the noise in the data and not meaningfull</li>\n",
        "         <br>\n",
        "         <li>We will clean and remove repeating characters in the words</li>\n",
        "         <br>\n",
        "         <li>We will clean and remove emails</li>\n",
        "         <br>\n",
        "         <li>We will clean and remove URL's</li>\n",
        "         <br>\n",
        "         <li>We will clean and remove the numbers in the data</li>\n",
        "         <br>\n",
        "         <li>We will apply tokenization(to separate the sentence into words)</li>\n",
        "         <br>\n",
        "         <li>We will apply stemming and lemmatization on the text. The concept of both is following:</li>\n",
        "         <img src=\"https://lh3.googleusercontent.com/3wumK8lGLhKpD2Fhbu35I7wWf6OSpF_erX9T7FX9WQCE5_HBKMJpKOZNximlzlTG5882QUWcL-_lFLJd0-RIo4uHDaO7cK8aEnw2Tm2-5xPwjYS3ls6fYefeGAVGb1WUGrXafJrC\">\n",
        "          <br>\n",
        "         <li>We will apply stemming on the tweet text.</li>\n",
        "         <br>\n",
        "         <li>We will apply lemmatization on the tweet text.</li>\n",
        "         <br>\n",
        "         <li>Separated input feature and labels</li>\n",
        "         <br>\n",
        "         <li>Extracted features from input feature</li>\n",
        "         <br>\n",
        "         <li>Separated the 70% data for training and 30% data for testing</li>\n",
        "</h6>\n",
        "</ul>\n",
        "   \n",
        "        \n",
        "</div>"
      ]
    },
    {
      "cell_type": "markdown",
      "metadata": {
        "id": "pN7uYpcHKCie"
      },
      "source": [
        "#### Selecting the text and label coloumn"
      ]
    },
    {
      "cell_type": "code",
      "metadata": {
        "trusted": false,
        "id": "7uH3hZt1KCie"
      },
      "source": [
        "data=data[['text','label']]"
      ],
      "execution_count": 16,
      "outputs": []
    },
    {
      "cell_type": "markdown",
      "metadata": {
        "id": "Oi8vSNbpKCie"
      },
      "source": [
        "#### Assigning 1 to Positive sentment 4"
      ]
    },
    {
      "cell_type": "code",
      "metadata": {
        "trusted": false,
        "id": "6ONumEf8KCie"
      },
      "source": [
        "data['label'][data['label']==4]=1"
      ],
      "execution_count": 17,
      "outputs": []
    },
    {
      "cell_type": "markdown",
      "metadata": {
        "id": "KHzTHBxQKCie"
      },
      "source": [
        "#### Separating positive and negative tweets"
      ]
    },
    {
      "cell_type": "code",
      "metadata": {
        "trusted": false,
        "id": "VtGe92SpKCif"
      },
      "source": [
        "data_pos = data[data['label'] == 1]\n",
        "data_neg = data[data['label'] == 0]"
      ],
      "execution_count": 18,
      "outputs": []
    },
    {
      "cell_type": "markdown",
      "metadata": {
        "id": "pdmAvZWAKCif"
      },
      "source": [
        "#### taking one fourth data so we can run on our machine easily "
      ]
    },
    {
      "cell_type": "code",
      "metadata": {
        "trusted": false,
        "id": "PYZBcXZTKCif"
      },
      "source": [
        "data_pos = data_pos.iloc[:int(20000)]\n",
        "data_neg = data_neg.iloc[:int(20000)]"
      ],
      "execution_count": 19,
      "outputs": []
    },
    {
      "cell_type": "markdown",
      "metadata": {
        "id": "1TSzAsL_KCif"
      },
      "source": [
        "#### Combining positive and negative tweets"
      ]
    },
    {
      "cell_type": "code",
      "metadata": {
        "trusted": false,
        "id": "PsAkK3z0KCif"
      },
      "source": [
        "data = pd.concat([data_pos, data_neg])"
      ],
      "execution_count": 20,
      "outputs": []
    },
    {
      "cell_type": "markdown",
      "metadata": {
        "id": "An7YunEFKCif"
      },
      "source": [
        "#### Making statement text in lower case"
      ]
    },
    {
      "cell_type": "code",
      "metadata": {
        "trusted": false,
        "id": "_RaUAK1dKCif"
      },
      "source": [
        "data['text']=data['text'].str.lower()"
      ],
      "execution_count": 21,
      "outputs": []
    },
    {
      "cell_type": "code",
      "metadata": {
        "trusted": false,
        "id": "aPx0TSAZKCig",
        "outputId": "eca24489-f3c3-41bd-cb86-d2aaec9c0ebc",
        "colab": {
          "base_uri": "https://localhost:8080/"
        }
      },
      "source": [
        "data['text'].tail()"
      ],
      "execution_count": 22,
      "outputs": [
        {
          "output_type": "execute_result",
          "data": {
            "text/plain": [
              "19995                            one more day of holidays \n",
              "19996    feeling so down right now .. i hate you damn h...\n",
              "19997    geez,i hv to read the whole book of personalit...\n",
              "19998    i threw my sign at donnie and he bent over to ...\n",
              "19999    @heather2711 good thing i didn't find any then...\n",
              "Name: text, dtype: object"
            ]
          },
          "metadata": {
            "tags": []
          },
          "execution_count": 22
        }
      ]
    },
    {
      "cell_type": "code",
      "metadata": {
        "id": "YI-KHBt0ZAkK",
        "outputId": "7117ee90-e674-4354-efd8-0af6aa8018fd",
        "colab": {
          "base_uri": "https://localhost:8080/"
        }
      },
      "source": [
        "nltk.download('stopwords')"
      ],
      "execution_count": 23,
      "outputs": [
        {
          "output_type": "stream",
          "text": [
            "[nltk_data] Downloading package stopwords to /root/nltk_data...\n",
            "[nltk_data]   Unzipping corpora/stopwords.zip.\n"
          ],
          "name": "stdout"
        },
        {
          "output_type": "execute_result",
          "data": {
            "text/plain": [
              "True"
            ]
          },
          "metadata": {
            "tags": []
          },
          "execution_count": 23
        }
      ]
    },
    {
      "cell_type": "markdown",
      "metadata": {
        "id": "bJLdAkW2KCig"
      },
      "source": [
        "#### Cleaning and removing Stop words of english"
      ]
    },
    {
      "cell_type": "code",
      "metadata": {
        "trusted": false,
        "id": "Vs-0ZoyxKCig"
      },
      "source": [
        "stopwords_list = stopwords.words('english')"
      ],
      "execution_count": 24,
      "outputs": []
    },
    {
      "cell_type": "code",
      "metadata": {
        "trusted": false,
        "id": "uuRag4CjKCig",
        "outputId": "8e2fc895-e0de-4365-a412-80f21b796b44",
        "colab": {
          "base_uri": "https://localhost:8080/",
          "height": 191
        }
      },
      "source": [
        "from nltk.corpus import stopwords\n",
        "\", \".join(stopwords.words('english'))"
      ],
      "execution_count": 25,
      "outputs": [
        {
          "output_type": "execute_result",
          "data": {
            "application/vnd.google.colaboratory.intrinsic+json": {
              "type": "string"
            },
            "text/plain": [
              "\"i, me, my, myself, we, our, ours, ourselves, you, you're, you've, you'll, you'd, your, yours, yourself, yourselves, he, him, his, himself, she, she's, her, hers, herself, it, it's, its, itself, they, them, their, theirs, themselves, what, which, who, whom, this, that, that'll, these, those, am, is, are, was, were, be, been, being, have, has, had, having, do, does, did, doing, a, an, the, and, but, if, or, because, as, until, while, of, at, by, for, with, about, against, between, into, through, during, before, after, above, below, to, from, up, down, in, out, on, off, over, under, again, further, then, once, here, there, when, where, why, how, all, any, both, each, few, more, most, other, some, such, no, nor, not, only, own, same, so, than, too, very, s, t, can, will, just, don, don't, should, should've, now, d, ll, m, o, re, ve, y, ain, aren, aren't, couldn, couldn't, didn, didn't, doesn, doesn't, hadn, hadn't, hasn, hasn't, haven, haven't, isn, isn't, ma, mightn, mightn't, mustn, mustn't, needn, needn't, shan, shan't, shouldn, shouldn't, wasn, wasn't, weren, weren't, won, won't, wouldn, wouldn't\""
            ]
          },
          "metadata": {
            "tags": []
          },
          "execution_count": 25
        }
      ]
    },
    {
      "cell_type": "markdown",
      "metadata": {
        "id": "9hnKomuMKCig"
      },
      "source": [
        "#### Cleaning and removing the above stop words list from the tweet text"
      ]
    },
    {
      "cell_type": "code",
      "metadata": {
        "trusted": false,
        "id": "GKSuPOutKCig",
        "outputId": "f67f47cd-de95-41a5-a38a-0751336601ff",
        "colab": {
          "base_uri": "https://localhost:8080/"
        }
      },
      "source": [
        "STOPWORDS = set(stopwords.words('english'))\n",
        "def cleaning_stopwords(text):\n",
        "    return \" \".join([word for word in str(text).split() if word not in STOPWORDS])\n",
        "data['text'] = data['text'].apply(lambda text: cleaning_stopwords(text))\n",
        "data['text'].head()"
      ],
      "execution_count": 26,
      "outputs": [
        {
          "output_type": "execute_result",
          "data": {
            "text/plain": [
              "799999                love @health4uandpets u guys r best!!\n",
              "800000    im meeting one besties tonight! cant wait!! - ...\n",
              "800001    @darealsunisakim thanks twitter add, sunisa! g...\n",
              "800002    sick really cheap hurts much eat real food plu...\n",
              "800003                      @lovesbrooklyn2 effect everyone\n",
              "Name: text, dtype: object"
            ]
          },
          "metadata": {
            "tags": []
          },
          "execution_count": 26
        }
      ]
    },
    {
      "cell_type": "markdown",
      "metadata": {
        "id": "RQPlZmWHKCih"
      },
      "source": [
        "#### Cleaning and removing punctuations "
      ]
    },
    {
      "cell_type": "code",
      "metadata": {
        "trusted": false,
        "id": "iNTNbsyfKCih"
      },
      "source": [
        "english_punctuations = string.punctuation\n",
        "punctuations_list = english_punctuations\n",
        "def cleaning_punctuations(text):\n",
        "    translator = str.maketrans('', '', punctuations_list)\n",
        "    return text.translate(translator)"
      ],
      "execution_count": 27,
      "outputs": []
    },
    {
      "cell_type": "code",
      "metadata": {
        "trusted": false,
        "id": "2OPjkNyDKCih",
        "outputId": "fefeee5d-c61e-4800-e886-d420b39a01f4",
        "colab": {
          "base_uri": "https://localhost:8080/"
        }
      },
      "source": [
        "data['text']= data['text'].apply(lambda x: cleaning_punctuations(x))\n",
        "data['text'].tail()"
      ],
      "execution_count": 28,
      "outputs": [
        {
          "output_type": "execute_result",
          "data": {
            "text/plain": [
              "19995                                     one day holidays\n",
              "19996                     feeling right  hate damn humprey\n",
              "19997    geezi hv read whole book personality types emb...\n",
              "19998     threw sign donnie bent get thingee made sad face\n",
              "19999    heather2711 good thing find none ones like com...\n",
              "Name: text, dtype: object"
            ]
          },
          "metadata": {
            "tags": []
          },
          "execution_count": 28
        }
      ]
    },
    {
      "cell_type": "markdown",
      "metadata": {
        "id": "WR4ZyrzMKCih"
      },
      "source": [
        "#### Cleaning and removing repeating characters"
      ]
    },
    {
      "cell_type": "code",
      "metadata": {
        "trusted": false,
        "id": "tES79mpnKCii"
      },
      "source": [
        "def cleaning_repeating_char(text):\n",
        "    return re.sub(r'(.)\\1+', r'\\1', text)"
      ],
      "execution_count": 29,
      "outputs": []
    },
    {
      "cell_type": "code",
      "metadata": {
        "trusted": false,
        "id": "NA41bbxKKCii",
        "outputId": "24dd4c45-0bc8-4541-a3fa-8d24352abf38",
        "colab": {
          "base_uri": "https://localhost:8080/"
        }
      },
      "source": [
        "data['text'] = data['text'].apply(lambda x: cleaning_repeating_char(x))\n",
        "data['text'].tail()"
      ],
      "execution_count": 30,
      "outputs": [
        {
          "output_type": "execute_result",
          "data": {
            "text/plain": [
              "19995                                     one day holidays\n",
              "19996                       feling right hate damn humprey\n",
              "19997    gezi hv read whole bok personality types embar...\n",
              "19998       threw sign donie bent get thinge made sad face\n",
              "19999    heather271 god thing find none ones like come ...\n",
              "Name: text, dtype: object"
            ]
          },
          "metadata": {
            "tags": []
          },
          "execution_count": 30
        }
      ]
    },
    {
      "cell_type": "markdown",
      "metadata": {
        "id": "FzsSFVHzKCii"
      },
      "source": [
        "#### Cleaning and removing email"
      ]
    },
    {
      "cell_type": "code",
      "metadata": {
        "trusted": false,
        "id": "NlJLsVTJKCii"
      },
      "source": [
        "def cleaning_email(data):\n",
        "    return re.sub('@[^\\s]+', ' ', data)"
      ],
      "execution_count": 31,
      "outputs": []
    },
    {
      "cell_type": "code",
      "metadata": {
        "trusted": false,
        "id": "A3P78Z-9KCii",
        "outputId": "e3869c6c-9de1-4afc-d6c0-376257fb1d58",
        "colab": {
          "base_uri": "https://localhost:8080/"
        }
      },
      "source": [
        "data['text']= data['text'].apply(lambda x: cleaning_email(x))\n",
        "data['text'].tail()"
      ],
      "execution_count": 32,
      "outputs": [
        {
          "output_type": "execute_result",
          "data": {
            "text/plain": [
              "19995                                     one day holidays\n",
              "19996                       feling right hate damn humprey\n",
              "19997    gezi hv read whole bok personality types embar...\n",
              "19998       threw sign donie bent get thinge made sad face\n",
              "19999    heather271 god thing find none ones like come ...\n",
              "Name: text, dtype: object"
            ]
          },
          "metadata": {
            "tags": []
          },
          "execution_count": 32
        }
      ]
    },
    {
      "cell_type": "markdown",
      "metadata": {
        "id": "YuMtjDfUKCij"
      },
      "source": [
        "#### Cleaning and removing URL's"
      ]
    },
    {
      "cell_type": "code",
      "metadata": {
        "trusted": false,
        "id": "Sau6uy7yKCij"
      },
      "source": [
        "def cleaning_URLs(data):\n",
        "    return re.sub('((www\\.[^\\s]+)|(https?://[^\\s]+))',' ',data)"
      ],
      "execution_count": 33,
      "outputs": []
    },
    {
      "cell_type": "code",
      "metadata": {
        "trusted": false,
        "id": "FHokNJf8KCij",
        "outputId": "851bd7da-7b20-41b0-9caa-6c3fc5704ed3",
        "colab": {
          "base_uri": "https://localhost:8080/"
        }
      },
      "source": [
        "data['text'] = data['text'].apply(lambda x: cleaning_URLs(x))\n",
        "data['text'].tail()"
      ],
      "execution_count": 34,
      "outputs": [
        {
          "output_type": "execute_result",
          "data": {
            "text/plain": [
              "19995                                     one day holidays\n",
              "19996                       feling right hate damn humprey\n",
              "19997    gezi hv read whole bok personality types embar...\n",
              "19998       threw sign donie bent get thinge made sad face\n",
              "19999    heather271 god thing find none ones like come ...\n",
              "Name: text, dtype: object"
            ]
          },
          "metadata": {
            "tags": []
          },
          "execution_count": 34
        }
      ]
    },
    {
      "cell_type": "markdown",
      "metadata": {
        "id": "fogSC664KCij"
      },
      "source": [
        "#### Cleaning and removing Numeric numbers"
      ]
    },
    {
      "cell_type": "code",
      "metadata": {
        "trusted": false,
        "id": "o97XCJ3iKCij"
      },
      "source": [
        "def cleaning_numbers(data):\n",
        "    return re.sub('[0-9]+', '', data)"
      ],
      "execution_count": 35,
      "outputs": []
    },
    {
      "cell_type": "code",
      "metadata": {
        "trusted": false,
        "id": "de04gA7CKCik",
        "outputId": "3c47893d-1c22-4067-fc8e-823b98ebe178",
        "colab": {
          "base_uri": "https://localhost:8080/"
        }
      },
      "source": [
        "data['text'] = data['text'].apply(lambda x: cleaning_numbers(x))\n",
        "data['text'].tail()"
      ],
      "execution_count": 36,
      "outputs": [
        {
          "output_type": "execute_result",
          "data": {
            "text/plain": [
              "19995                                     one day holidays\n",
              "19996                       feling right hate damn humprey\n",
              "19997    gezi hv read whole bok personality types embar...\n",
              "19998       threw sign donie bent get thinge made sad face\n",
              "19999    heather god thing find none ones like come siz...\n",
              "Name: text, dtype: object"
            ]
          },
          "metadata": {
            "tags": []
          },
          "execution_count": 36
        }
      ]
    },
    {
      "cell_type": "markdown",
      "metadata": {
        "id": "s8yagt4gKCik"
      },
      "source": [
        "#### Getting tokenization of tweet text"
      ]
    },
    {
      "cell_type": "code",
      "metadata": {
        "trusted": false,
        "id": "tEHWNXC6KCik"
      },
      "source": [
        "tokenizer = RegexpTokenizer(r'\\w+')\n",
        "data['text'] = data['text'].apply(tokenizer.tokenize)"
      ],
      "execution_count": 37,
      "outputs": []
    },
    {
      "cell_type": "code",
      "metadata": {
        "trusted": false,
        "id": "FeoLk5PNKCik",
        "outputId": "b39ec6e4-ac35-47e6-96bb-ec9f1801f76d",
        "colab": {
          "base_uri": "https://localhost:8080/"
        }
      },
      "source": [
        "data['text'].head()"
      ],
      "execution_count": 38,
      "outputs": [
        {
          "output_type": "execute_result",
          "data": {
            "text/plain": [
              "799999             [love, healthuandpets, u, guys, r, best]\n",
              "800000    [im, meting, one, besties, tonight, cant, wait...\n",
              "800001    [darealsunisakim, thanks, twiter, ad, sunisa, ...\n",
              "800002    [sick, realy, cheap, hurts, much, eat, real, f...\n",
              "800003                      [lovesbroklyn, efect, everyone]\n",
              "Name: text, dtype: object"
            ]
          },
          "metadata": {
            "tags": []
          },
          "execution_count": 38
        }
      ]
    },
    {
      "cell_type": "markdown",
      "metadata": {
        "id": "ZVJTr7UIKCik"
      },
      "source": [
        "#### Applying Stemming"
      ]
    },
    {
      "cell_type": "code",
      "metadata": {
        "trusted": false,
        "id": "uM3o7_cKKCik"
      },
      "source": [
        "st = nltk.PorterStemmer()\n",
        "def stemming_on_text(data):\n",
        "    text = [st.stem(word) for word in data]\n",
        "    return data\n",
        "\n",
        "data['text']= data['text'].apply(lambda x: stemming_on_text(x))"
      ],
      "execution_count": 39,
      "outputs": []
    },
    {
      "cell_type": "code",
      "metadata": {
        "trusted": false,
        "id": "YxNFHsklKCil",
        "outputId": "ea0c8c9c-fa20-4929-b0fe-656ae1e22652",
        "colab": {
          "base_uri": "https://localhost:8080/"
        }
      },
      "source": [
        "data['text'].head()"
      ],
      "execution_count": 40,
      "outputs": [
        {
          "output_type": "execute_result",
          "data": {
            "text/plain": [
              "799999             [love, healthuandpets, u, guys, r, best]\n",
              "800000    [im, meting, one, besties, tonight, cant, wait...\n",
              "800001    [darealsunisakim, thanks, twiter, ad, sunisa, ...\n",
              "800002    [sick, realy, cheap, hurts, much, eat, real, f...\n",
              "800003                      [lovesbroklyn, efect, everyone]\n",
              "Name: text, dtype: object"
            ]
          },
          "metadata": {
            "tags": []
          },
          "execution_count": 40
        }
      ]
    },
    {
      "cell_type": "code",
      "metadata": {
        "id": "2cGlH0F4ZRA2",
        "outputId": "17c73f09-f7f0-4feb-e9df-689c48566b81",
        "colab": {
          "base_uri": "https://localhost:8080/"
        }
      },
      "source": [
        "nltk.download('wordnet')"
      ],
      "execution_count": 41,
      "outputs": [
        {
          "output_type": "stream",
          "text": [
            "[nltk_data] Downloading package wordnet to /root/nltk_data...\n",
            "[nltk_data]   Unzipping corpora/wordnet.zip.\n"
          ],
          "name": "stdout"
        },
        {
          "output_type": "execute_result",
          "data": {
            "text/plain": [
              "True"
            ]
          },
          "metadata": {
            "tags": []
          },
          "execution_count": 41
        }
      ]
    },
    {
      "cell_type": "markdown",
      "metadata": {
        "id": "TwbjRMifKCil"
      },
      "source": [
        "#### Applying Lemmatizer"
      ]
    },
    {
      "cell_type": "code",
      "metadata": {
        "trusted": false,
        "id": "-IjbC6DXKCil"
      },
      "source": [
        "lm = nltk.WordNetLemmatizer()\n",
        "def lemmatizer_on_text(data):\n",
        "    text = [lm.lemmatize(word) for word in data]\n",
        "    return data\n",
        "\n",
        "data['text'] = data['text'].apply(lambda x: lemmatizer_on_text(x))"
      ],
      "execution_count": 42,
      "outputs": []
    },
    {
      "cell_type": "code",
      "metadata": {
        "trusted": false,
        "id": "DsWURUZOKCil",
        "outputId": "b09822ee-dd98-4939-b92c-ca6edcb49abb",
        "colab": {
          "base_uri": "https://localhost:8080/"
        }
      },
      "source": [
        "data['text'].head()"
      ],
      "execution_count": 43,
      "outputs": [
        {
          "output_type": "execute_result",
          "data": {
            "text/plain": [
              "799999             [love, healthuandpets, u, guys, r, best]\n",
              "800000    [im, meting, one, besties, tonight, cant, wait...\n",
              "800001    [darealsunisakim, thanks, twiter, ad, sunisa, ...\n",
              "800002    [sick, realy, cheap, hurts, much, eat, real, f...\n",
              "800003                      [lovesbroklyn, efect, everyone]\n",
              "Name: text, dtype: object"
            ]
          },
          "metadata": {
            "tags": []
          },
          "execution_count": 43
        }
      ]
    },
    {
      "cell_type": "markdown",
      "metadata": {
        "id": "hxwuXJQOKCil"
      },
      "source": [
        "<b> <h3> Labels : </h3></b>  labels are the targets like in this project senitments of the tweets are labels. "
      ]
    },
    {
      "cell_type": "markdown",
      "metadata": {
        "id": "tLrcOmbFKCil"
      },
      "source": [
        "<b> <h3> Inputs : </h3></b>  Inputs are the data that we feed into machine learning like in this project tweets texts are the inputs. "
      ]
    },
    {
      "cell_type": "markdown",
      "metadata": {
        "id": "lycW6_2qKCim"
      },
      "source": [
        "<b> <h3> Training Data </h3></b>  We use training data when we train the models. We feed train data to machine learning and deep learning models so that model can learn from the data."
      ]
    },
    {
      "cell_type": "markdown",
      "metadata": {
        "id": "QdvauhsWKCim"
      },
      "source": [
        "<b> <h3> Validation Data </h3></b>  We use validation data while training the model. We use this data to evalaute the performance that how the model perform on training time."
      ]
    },
    {
      "cell_type": "markdown",
      "metadata": {
        "id": "n57jT4h2KCim"
      },
      "source": [
        "<b> <h3> Testing Data </h3></b>  We use testing data after training the model. We use this data to evalaute the performance that how the model perform after training. So in this way first we get predictions from the trained model without giving the labels and then we compare the true labels with predictions and get the performance of th model.."
      ]
    },
    {
      "cell_type": "markdown",
      "metadata": {
        "id": "mmNpy1QpKCim"
      },
      "source": [
        "####  Separating input feature and label"
      ]
    },
    {
      "cell_type": "code",
      "metadata": {
        "trusted": false,
        "id": "b4h-3yaRKCim"
      },
      "source": [
        "X=data.text\n",
        "y=data.label"
      ],
      "execution_count": 44,
      "outputs": []
    },
    {
      "cell_type": "markdown",
      "metadata": {
        "id": "5ePHMbqbKCim"
      },
      "source": [
        "#### Preparing the input features for training \n",
        "- We converting the text words into arrays form. \n",
        "- Maximum 500 features/words selected for training. These 500 words will be selected on the importance that will distinguish between the positive tweets and negative tweets. "
      ]
    },
    {
      "cell_type": "code",
      "metadata": {
        "id": "plIFObh4jYJV",
        "trusted": false
      },
      "source": [
        "max_len = 500\n",
        "tok = Tokenizer(num_words=2000)\n",
        "tok.fit_on_texts(X)\n",
        "sequences = tok.texts_to_sequences(X)\n",
        "sequences_matrix = sequence.pad_sequences(sequences,maxlen=max_len)"
      ],
      "execution_count": 45,
      "outputs": []
    },
    {
      "cell_type": "markdown",
      "metadata": {
        "id": "aZssFFUkKCin"
      },
      "source": [
        "As we can see that there total 40000 tweets and the number words/features are 500."
      ]
    },
    {
      "cell_type": "code",
      "metadata": {
        "trusted": false,
        "id": "1J-CNCGXKCin",
        "outputId": "581b17bf-330f-4e25-81db-4c3788e70535",
        "colab": {
          "base_uri": "https://localhost:8080/"
        }
      },
      "source": [
        "sequences_matrix.shape"
      ],
      "execution_count": 46,
      "outputs": [
        {
          "output_type": "execute_result",
          "data": {
            "text/plain": [
              "(40000, 500)"
            ]
          },
          "metadata": {
            "tags": []
          },
          "execution_count": 46
        }
      ]
    },
    {
      "cell_type": "markdown",
      "metadata": {
        "id": "DX0GubGBKCin"
      },
      "source": [
        "#### Separating the 70% data for training data and 30% for testing data"
      ]
    },
    {
      "cell_type": "markdown",
      "metadata": {
        "id": "pM2Gm3pmKCin"
      },
      "source": [
        "As we prepared all the tweets, now we are separating/splitting the tweets into training data and testing data.\n",
        "- 70% tweets will be used in the training \n",
        "- 30% tweets will be used to test the performance of the model."
      ]
    },
    {
      "cell_type": "code",
      "metadata": {
        "id": "oOlkTTg4oRqR",
        "trusted": false
      },
      "source": [
        "X_train, X_test, Y_train, Y_test = train_test_split(sequences_matrix, y, test_size=0.3, random_state=2)"
      ],
      "execution_count": 47,
      "outputs": []
    },
    {
      "cell_type": "markdown",
      "metadata": {
        "papermill": {
          "duration": 0.065466,
          "end_time": "2020-11-30T07:38:51.578836",
          "exception": false,
          "start_time": "2020-11-30T07:38:51.513370",
          "status": "completed"
        },
        "tags": [],
        "id": "_7sWdPBFKCio"
      },
      "source": [
        "<div class=\"alert alert-block alert-danger\">  \n",
        "<h2><center><strong>Implementing Tensorflow based model for training 🧪</strong></center></h2>   \n",
        "</div>"
      ]
    },
    {
      "cell_type": "markdown",
      "metadata": {
        "id": "iD7qOl0mKCio"
      },
      "source": [
        "<h4> Step 1</h4>\n",
        "- The input to model is 500 words because these are the number features/words that we extracted above from text of tweets.\n",
        "\n",
        "<h4> Step 2</h4>\n",
        "- Embeddings provide the presentation of words and their relative meanings. Like in this, we are feeding the limit of maximum words, lenght of input words and the inputs of previous layer. \n",
        "\n",
        "<h4> Step 3</h4>\n",
        "- LSTM (long short term memory) save the words and predict the next words based on the previous words. LSTM is a sequance predictor of next coming words.\n",
        "<img src=\"https://miro.medium.com/max/1000/1*1U8H9EZiDqfylJU7Im23Ag.gif\">\n",
        "\n",
        "<h4> Step 4</h4>\n",
        "- Dense layer reduce the outputs by getting inputs from Faltten layer. Dense layer use all the inputs of previous layer neurons and perform calculations and send 256 outputs\n",
        "\n",
        "<h4> Step 5</h4>\n",
        "- Activation function is node that is put at the end of all layers of neural network model or in between neural network layers. Activation function help to decide which neuron should be pass and which neuron should fire. So activation function of node defines the output of that node given an input or set of inputs. \n",
        "<img src=\"https://missinglink.ai/wp-content/uploads/2018/11/activationfunction-1.png\">\n",
        "\n",
        "<h4> Step 6</h4>\n",
        "- Droupout layer drop some neurons from previous layers. why we apply this? We apply this to avoid the overfitting problems. In overfitting, model give good accuracy on training time but not good on testing time.\n",
        "<img src=\"https://drek4537l1klr.cloudfront.net/elgendy/v-3/Figures/Img_01-04A_171.gif\">"
      ]
    },
    {
      "cell_type": "code",
      "metadata": {
        "trusted": false,
        "id": "7na7gBB3KCio"
      },
      "source": [
        "def tensorflow_based_model(): #Defined tensorflow_based_model function for training tenforflow based model\n",
        "    inputs = Input(name='inputs',shape=[max_len])#step1\n",
        "    layer = Embedding(2000,50,input_length=max_len)(inputs) #step2\n",
        "    layer = LSTM(64)(layer) #step3\n",
        "    layer = Dense(256,name='FC1')(layer) #step4\n",
        "    layer = Activation('relu')(layer) # step5\n",
        "    layer = Dropout(0.5)(layer) # step6\n",
        "    layer = Dense(1,name='out_layer')(layer) #step4 again but this time its giving only one output as because we need to classify the tweet as positive or negative\n",
        "    layer = Activation('sigmoid')(layer) #step5 but this time activation function is sigmoid for only one output.\n",
        "    model = Model(inputs=inputs,outputs=layer) #here we are getting the final output value in the model for classification\n",
        "    return model #function returning the value when we call it"
      ],
      "execution_count": 48,
      "outputs": []
    },
    {
      "cell_type": "markdown",
      "metadata": {
        "id": "S_CWaOT8KCio"
      },
      "source": [
        "# Model compilation"
      ]
    },
    {
      "cell_type": "markdown",
      "metadata": {
        "id": "PuN7Iw0cKCip"
      },
      "source": [
        "- First we are calling the model\n",
        "- We are using 2 classes so we set \"binary_crossentropy\" and if we use more than two classes then we use \"categorical_crossentropy\" \n",
        "- Optimizer is a function that used to change the features of neural network such as learning rate (how the model learn with features) in order to reduce the losses. So the learning rate of neural network to reduce the losses is defined by optimizer.\n",
        "- We are setting metrics=accuracy because we are going to caluclate the percentage of correct predictions over all predictions on the validation set"
      ]
    },
    {
      "cell_type": "code",
      "metadata": {
        "trusted": false,
        "id": "nZzjrtY9KCip"
      },
      "source": [
        "model = tensorflow_based_model() # here we are calling the function of created model\n",
        "model.compile(loss='binary_crossentropy',optimizer=RMSprop(),metrics=['accuracy'])  "
      ],
      "execution_count": 49,
      "outputs": []
    },
    {
      "cell_type": "markdown",
      "metadata": {
        "id": "DXvj6eJ3KCip"
      },
      "source": [
        "#### Training and validating with parameter tuning\n",
        "- We are feeding the training data and getting 10% data for validation from training data\n",
        "* We set the following parameters:\n",
        "- Batch size =80 so the model take 80 tweets in each iteration and train them. Batch size is a term used in machine learning and refers to the number of training examples utilized in one iteration. \n",
        "- Epochs =6 so the model will train on the data 6 times.Epoch is a term used in machine learning and indicates the number of passes of the entire training dataset the machine learning algorithm has completed. \n",
        "- We can choose batch_size, and epochs as we want so the good practice is to set some values and train the model if the model will not give the good results we can change it and then try again for the training of the model. We can repeat this process many time untill we will not get the good results and this process called as parameter tuning.\n"
      ]
    },
    {
      "cell_type": "code",
      "metadata": {
        "trusted": false,
        "id": "BcvaaprmKCip",
        "outputId": "644d1b6e-f5ca-40f7-d870-9d52681f29d8",
        "colab": {
          "base_uri": "https://localhost:8080/"
        }
      },
      "source": [
        "history=model.fit(X_train,Y_train,batch_size=80,epochs=6, validation_split=0.1)# here we are starting the training of model by feeding the training data\n",
        "print('Training finished !!')"
      ],
      "execution_count": null,
      "outputs": [
        {
          "output_type": "stream",
          "text": [
            "Epoch 1/6\n",
            "315/315 [==============================] - 131s 409ms/step - loss: 0.6256 - accuracy: 0.6273 - val_loss: 0.5190 - val_accuracy: 0.7461\n",
            "Epoch 2/6\n",
            "103/315 [========>.....................] - ETA: 1:23 - loss: 0.4998 - accuracy: 0.7601"
          ],
          "name": "stdout"
        }
      ]
    },
    {
      "cell_type": "markdown",
      "metadata": {
        "id": "cKt7Agp9KCip"
      },
      "source": [
        "<h1> We need to do all the above configurations to train the model. If we will not set all settings correctly then we could not get the desired results.</h1>"
      ]
    },
    {
      "cell_type": "markdown",
      "metadata": {
        "id": "aQ72A5F4U0wr"
      },
      "source": [
        "#### Testing the Trained model on test data\n",
        "- Getting predictions/classifying the sentiments (positve/negative) on the test data using trained model."
      ]
    },
    {
      "cell_type": "code",
      "metadata": {
        "id": "LlxD3pU9U0ws",
        "trusted": false
      },
      "source": [
        "accr1 = model.evaluate(X_test,Y_test) #we are starting to test the model here"
      ],
      "execution_count": null,
      "outputs": []
    },
    {
      "cell_type": "markdown",
      "metadata": {
        "id": "h5ZOTOh14WKO"
      },
      "source": [
        "#### Accuracy\n",
        "- Accuracy is the number of correctly classify tweets from all the tweets of positive and negative. \n",
        "- For example, if the trained model classify the 70 tweets correct and 30 tweets wrong from total of 100 tweets then the accuracy score will be 70%. \n",
        "- Accuracy= Total number of correct predictions/Total number of predictions"
      ]
    },
    {
      "cell_type": "code",
      "metadata": {
        "id": "E2bQq4jaU0wt",
        "trusted": false
      },
      "source": [
        "print('Test set\\n  Accuracy: {:0.2f}'.format(accr1[1])) #the accuracy of the model on test data is given below"
      ],
      "execution_count": null,
      "outputs": []
    },
    {
      "cell_type": "markdown",
      "metadata": {
        "id": "5ZgIjRx6KCiq"
      },
      "source": [
        "#### Getting prediction of the test data and then we will compare the true labels/classes of the data with predictions\n",
        "- As the model give probabilties so we are setting a threshold 0.5. More than 0.5 will be the positive tweets and lower will be negative tweets"
      ]
    },
    {
      "cell_type": "code",
      "metadata": {
        "trusted": false,
        "id": "V2CRF9zCKCiq"
      },
      "source": [
        "y_pred = model.predict(X_test) #getting predictions on the trained model\n",
        "y_pred = (y_pred > 0.5) "
      ],
      "execution_count": null,
      "outputs": []
    },
    {
      "cell_type": "markdown",
      "metadata": {
        "id": "40MjbuBA7Og9"
      },
      "source": [
        "#### Confusion matrix\n",
        "- These are the evaluation measures to evaluate the performance of the model.\n",
        "- Dark blue boxes are the correct predictions with the trained model and sky blue boxes shows the wrong predictions.\n",
        "- 4610 tweets correctly predicted as negative sentiments. 1399 tweets predicted positive sentiments but that were actually negative sentiments.\n",
        "- 4247 tweets correctly predicted as postive sentiments. 1744 tweets predicted negative sentiments but that were actually positive sentiments."
      ]
    },
    {
      "cell_type": "code",
      "metadata": {
        "id": "WERD7KXs8YmQ",
        "trusted": false
      },
      "source": [
        "print('\\n')\n",
        "print(\"confusion matrix\")\n",
        "print('\\n')\n",
        "CR=confusion_matrix(Y_test, y_pred)\n",
        "print(CR)\n",
        "print('\\n')\n",
        "\n",
        "fig, ax = plot_confusion_matrix(conf_mat=CR,figsize=(10, 10),\n",
        "                                show_absolute=True,\n",
        "                                show_normed=True,\n",
        "                                colorbar=True)\n",
        "plt.show()"
      ],
      "execution_count": null,
      "outputs": []
    },
    {
      "cell_type": "markdown",
      "metadata": {
        "id": "wlWpCx_OXEIq"
      },
      "source": [
        "# ROC CURVE\n",
        "- ROC curve show the performance of the model as well. \n",
        "- We can see that the model started from the 0 percent predictions and then moved to true positive predictions that are correct\n",
        "- ROC curve (receiver operating characteristic curve) show the performance of a classification model at all the classification thresholds. ROC plots two parameters, True Positive Rate (correct predictions/classifications) False Positive Rate (wrong predictions/classifications)"
      ]
    },
    {
      "cell_type": "code",
      "metadata": {
        "id": "uypTDMUZXEIq",
        "scrolled": true,
        "trusted": false
      },
      "source": [
        "fpr, tpr, thresholds = roc_curve(Y_test, y_pred)\n",
        "roc_auc = auc(fpr, tpr)\n",
        "plt.figure()\n",
        "plt.plot(fpr, tpr, color='darkorange', lw=1, label='ROC curve (area = %0.2f)' % roc_auc)\n",
        "plt.xlim([0.0, 1.0])\n",
        "plt.ylim([0.0, 1.05])\n",
        "plt.xlabel('False Positive Rate')\n",
        "plt.ylabel('True Positive Rate')\n",
        "plt.title('ROC CURVE')\n",
        "plt.legend(loc=\"lower right\")\n",
        "plt.show()"
      ],
      "execution_count": null,
      "outputs": []
    },
    {
      "cell_type": "markdown",
      "metadata": {
        "id": "-JNM94XCKCis"
      },
      "source": [
        "<div class=\"alert alert-block alert-success\">  \n",
        "<h1><center><strong>Conclusion 📝</strong></center></h1>\n",
        "    <p>\n",
        "<li>We used the twitter sentiment analysis dataset and explored the data with different ways.</li>\n",
        "        <li>We prepared the text data of tweets by removing the unnecessary things.</li>\n",
        "          <li>We trained model based on tensorflow with all settings. </li>\n",
        "        <li>We evaluated thye model with different evaluation measures.</li>\n",
        "         <li>If you are interested to work on any text based project, you can simply apply the same methodolgy but might be you will need to change little settings like name of coloumns etc.</li>\n",
        "        <li>We worked on the classification problem and sepcifically we call it binary classification which is two class classification.</li>\n",
        "        </p>\n",
        "</div>"
      ]
    },
    {
      "cell_type": "markdown",
      "metadata": {
        "id": "WEejWSkLKCis"
      },
      "source": [
        "<div class=\"alert alert-block alert-danger\">  \n",
        "<h1>If you like my work, please upvote ^ 👍 my kernel so that i will be motivated to share more content to Kaggle community. Thanks 😍</h1>\n",
        "        </p>\n",
        "</div>"
      ]
    }
  ]
}