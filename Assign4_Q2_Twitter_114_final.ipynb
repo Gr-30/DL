{
  "nbformat": 4,
  "nbformat_minor": 0,
  "metadata": {
    "colab": {
      "name": "Assign4_Q2_Twitter_114.ipynb",
      "provenance": [],
      "include_colab_link": true
    },
    "kernelspec": {
      "name": "python3",
      "display_name": "Python 3"
    },
    "language_info": {
      "name": "python"
    },
    "accelerator": "GPU"
  },
  "cells": [
    {
      "cell_type": "markdown",
      "metadata": {
        "id": "view-in-github",
        "colab_type": "text"
      },
      "source": [
        "<a href=\"https://colab.research.google.com/github/Gr-30/DL/blob/main/Assign4_Q2_Twitter_114_final.ipynb\" target=\"_parent\"><img src=\"https://colab.research.google.com/assets/colab-badge.svg\" alt=\"Open In Colab\"/></a>"
      ]
    },
    {
      "cell_type": "code",
      "metadata": {
        "colab": {
          "base_uri": "https://localhost:8080/"
        },
        "id": "JPJcfIlrg8Nl",
        "outputId": "654b04fc-5b7f-4e15-da99-ec053c9b2f4f"
      },
      "source": [
        "from google.colab import drive\n",
        "drive.mount('/content/drive')"
      ],
      "execution_count": 1,
      "outputs": [
        {
          "output_type": "stream",
          "text": [
            "Drive already mounted at /content/drive; to attempt to forcibly remount, call drive.mount(\"/content/drive\", force_remount=True).\n"
          ],
          "name": "stdout"
        }
      ]
    },
    {
      "cell_type": "markdown",
      "metadata": {
        "id": "i6p4gdM_Feqb"
      },
      "source": [
        "# 1. Import Libraries/Dataset"
      ]
    },
    {
      "cell_type": "markdown",
      "metadata": {
        "id": "nSIUM6YNFkEk"
      },
      "source": [
        "## a. Import the required libraries and the dataset."
      ]
    },
    {
      "cell_type": "code",
      "metadata": {
        "id": "-E4TvIVLMa73",
        "scrolled": true,
        "trusted": false
      },
      "source": [
        "import os\n",
        "seed=21\n",
        "os.environ['PYTHONHASHSEED']=str(seed)\n",
        "import copy\n",
        "import time\n",
        "import numpy as np \n",
        "import pandas as pd \n",
        "import seaborn as sns \n",
        "import matplotlib.pyplot as plt\n",
        "plt.style.use('ggplot')\n",
        "from sklearn.metrics import roc_curve, auc\n",
        "from sklearn.metrics import classification_report, confusion_matrix, roc_auc_score\n",
        "from sklearn.model_selection import train_test_split\n",
        "from mlxtend.plotting import plot_confusion_matrix\n",
        "import matplotlib.cm as cm\n",
        "from matplotlib import rcParams\n",
        "from collections import Counter\n",
        "import tensorflow.keras.regularizers as reg\n",
        "import tensorflow as tf\n",
        "from tensorflow.keras.layers import LSTM, Activation, Dense, Dropout, Input, Embedding\n",
        "from tensorflow.keras.models import Model\n",
        "from tensorflow.keras.callbacks import EarlyStopping\n",
        "from tensorflow.keras.optimizers import RMSprop, Adam\n",
        "from tensorflow.keras.preprocessing.text import Tokenizer\n",
        "from tensorflow.keras.preprocessing import sequence\n",
        "import tensorflow_hub as hub\n",
        "embed = hub.load(\"https://tfhub.dev/google/nnlm-en-dim128/2\")\n",
        "%matplotlib inline\n",
        "from wordcloud import WordCloud, STOPWORDS\n",
        "import warnings\n",
        "warnings.filterwarnings(\"ignore\")\n",
        "\n",
        "def reset_random_seeds(seed_val):\n",
        "    os.environ['PYTHONHASHSEED']=str(seed_val)\n",
        "    tf.random.set_seed(seed_val)\n",
        "    np.random.seed(seed_val)\n",
        "\n",
        "reset_random_seeds(seed)"
      ],
      "execution_count": 2,
      "outputs": []
    },
    {
      "cell_type": "markdown",
      "metadata": {
        "id": "juSMkpM6F1_Z"
      },
      "source": [
        "## b. Check the GPU available"
      ]
    },
    {
      "cell_type": "code",
      "metadata": {
        "colab": {
          "base_uri": "https://localhost:8080/"
        },
        "id": "bQBPgeHjF_9D",
        "outputId": "a450f948-708b-42bf-c294-dd4a788d1c84"
      },
      "source": [
        "!nvidia-smi -L"
      ],
      "execution_count": 3,
      "outputs": [
        {
          "output_type": "stream",
          "text": [
            "GPU 0: Tesla T4 (UUID: GPU-778ca916-2346-7ec0-6f00-2e46c5e7d9c6)\n"
          ],
          "name": "stdout"
        }
      ]
    },
    {
      "cell_type": "markdown",
      "metadata": {
        "id": "uAfFbvzZGQcB"
      },
      "source": [
        "# Data Visualization"
      ]
    },
    {
      "cell_type": "code",
      "metadata": {
        "id": "l3v6JNFSKzfw"
      },
      "source": [
        "data = pd.read_csv(\"/content/drive/MyDrive/Mtech DSE BITS/Sem3/DL/Assignment1/training.1600000.processed.noemoticon.csv\", encoding = \"ISO-8859-1\", engine=\"python\", header=None)\n",
        " # As the data has no column titles, we will add our own\n",
        "data.columns = [\"label\", \"time\", \"date\", \"query\", \"username\", \"text\"]"
      ],
      "execution_count": 4,
      "outputs": []
    },
    {
      "cell_type": "markdown",
      "metadata": {
        "id": "JiMTd9phGfxV"
      },
      "source": [
        "## a. Print at least two movie reviews from each class of the dataset, for a sanity check that labels match the text."
      ]
    },
    {
      "cell_type": "code",
      "metadata": {
        "id": "UbdjOYVkINQ5"
      },
      "source": [
        "df_pos = data[data['label'] == 1.0]\n",
        "df_neg = data[data['label'] == 0.0]"
      ],
      "execution_count": 80,
      "outputs": []
    },
    {
      "cell_type": "code",
      "metadata": {
        "colab": {
          "base_uri": "https://localhost:8080/"
        },
        "id": "lwT3CHBsIPil",
        "outputId": "b89a8bf9-1277-4b8a-8d31-47d670e8db2b"
      },
      "source": [
        "print('POSITIVE Label data ')\n",
        "print(df_pos.head())"
      ],
      "execution_count": 82,
      "outputs": [
        {
          "output_type": "stream",
          "text": [
            "POSITIVE Label data \n",
            "                                                     text  label\n",
            "800000       I LOVE @Health4UandPets u guys r the best!!       1\n",
            "800001  im meeting up with one of my besties tonight! ...      1\n",
            "800002  @DaRealSunisaKim Thanks for the Twitter add, S...      1\n",
            "800003  Being sick can be really cheap when it hurts t...      1\n",
            "800004    @LovesBrooklyn2 he has that effect on everyone       1\n"
          ],
          "name": "stdout"
        }
      ]
    },
    {
      "cell_type": "code",
      "metadata": {
        "colab": {
          "base_uri": "https://localhost:8080/",
          "height": 213
        },
        "id": "jb959RLJI7al",
        "outputId": "a2ca6bed-3a6a-4f0f-da0a-638e7f37f006"
      },
      "source": [
        "print('Negative Label data ')\n",
        "print(df_neg.head())"
      ],
      "execution_count": 75,
      "outputs": [
        {
          "output_type": "stream",
          "text": [
            "Negative Label data \n"
          ],
          "name": "stdout"
        },
        {
          "output_type": "execute_result",
          "data": {
            "text/html": [
              "<div>\n",
              "<style scoped>\n",
              "    .dataframe tbody tr th:only-of-type {\n",
              "        vertical-align: middle;\n",
              "    }\n",
              "\n",
              "    .dataframe tbody tr th {\n",
              "        vertical-align: top;\n",
              "    }\n",
              "\n",
              "    .dataframe thead th {\n",
              "        text-align: right;\n",
              "    }\n",
              "</style>\n",
              "<table border=\"1\" class=\"dataframe\">\n",
              "  <thead>\n",
              "    <tr style=\"text-align: right;\">\n",
              "      <th></th>\n",
              "      <th>label</th>\n",
              "      <th>time</th>\n",
              "      <th>date</th>\n",
              "      <th>query</th>\n",
              "      <th>username</th>\n",
              "      <th>text</th>\n",
              "    </tr>\n",
              "  </thead>\n",
              "  <tbody>\n",
              "    <tr>\n",
              "      <th>0</th>\n",
              "      <td>0</td>\n",
              "      <td>1467810369</td>\n",
              "      <td>Mon Apr 06 22:19:45 PDT 2009</td>\n",
              "      <td>NO_QUERY</td>\n",
              "      <td>_TheSpecialOne_</td>\n",
              "      <td>@switchfoot http://twitpic.com/2y1zl - Awww, t...</td>\n",
              "    </tr>\n",
              "    <tr>\n",
              "      <th>1</th>\n",
              "      <td>0</td>\n",
              "      <td>1467810672</td>\n",
              "      <td>Mon Apr 06 22:19:49 PDT 2009</td>\n",
              "      <td>NO_QUERY</td>\n",
              "      <td>scotthamilton</td>\n",
              "      <td>is upset that he can't update his Facebook by ...</td>\n",
              "    </tr>\n",
              "    <tr>\n",
              "      <th>2</th>\n",
              "      <td>0</td>\n",
              "      <td>1467810917</td>\n",
              "      <td>Mon Apr 06 22:19:53 PDT 2009</td>\n",
              "      <td>NO_QUERY</td>\n",
              "      <td>mattycus</td>\n",
              "      <td>@Kenichan I dived many times for the ball. Man...</td>\n",
              "    </tr>\n",
              "    <tr>\n",
              "      <th>3</th>\n",
              "      <td>0</td>\n",
              "      <td>1467811184</td>\n",
              "      <td>Mon Apr 06 22:19:57 PDT 2009</td>\n",
              "      <td>NO_QUERY</td>\n",
              "      <td>ElleCTF</td>\n",
              "      <td>my whole body feels itchy and like its on fire</td>\n",
              "    </tr>\n",
              "    <tr>\n",
              "      <th>4</th>\n",
              "      <td>0</td>\n",
              "      <td>1467811193</td>\n",
              "      <td>Mon Apr 06 22:19:57 PDT 2009</td>\n",
              "      <td>NO_QUERY</td>\n",
              "      <td>Karoli</td>\n",
              "      <td>@nationwideclass no, it's not behaving at all....</td>\n",
              "    </tr>\n",
              "  </tbody>\n",
              "</table>\n",
              "</div>"
            ],
            "text/plain": [
              "   label  ...                                               text\n",
              "0      0  ...  @switchfoot http://twitpic.com/2y1zl - Awww, t...\n",
              "1      0  ...  is upset that he can't update his Facebook by ...\n",
              "2      0  ...  @Kenichan I dived many times for the ball. Man...\n",
              "3      0  ...    my whole body feels itchy and like its on fire \n",
              "4      0  ...  @nationwideclass no, it's not behaving at all....\n",
              "\n",
              "[5 rows x 6 columns]"
            ]
          },
          "metadata": {
            "tags": []
          },
          "execution_count": 75
        }
      ]
    },
    {
      "cell_type": "markdown",
      "metadata": {
        "id": "nOYepGcYKCiZ"
      },
      "source": [
        "#### Five top records of data"
      ]
    },
    {
      "cell_type": "code",
      "metadata": {
        "trusted": false,
        "id": "o27SeogeKCiZ",
        "colab": {
          "base_uri": "https://localhost:8080/",
          "height": 195
        },
        "outputId": "144a34af-2712-48c3-a0a7-eeb5e3b75fb4"
      },
      "source": [
        "data.head()"
      ],
      "execution_count": 8,
      "outputs": [
        {
          "output_type": "execute_result",
          "data": {
            "text/html": [
              "<div>\n",
              "<style scoped>\n",
              "    .dataframe tbody tr th:only-of-type {\n",
              "        vertical-align: middle;\n",
              "    }\n",
              "\n",
              "    .dataframe tbody tr th {\n",
              "        vertical-align: top;\n",
              "    }\n",
              "\n",
              "    .dataframe thead th {\n",
              "        text-align: right;\n",
              "    }\n",
              "</style>\n",
              "<table border=\"1\" class=\"dataframe\">\n",
              "  <thead>\n",
              "    <tr style=\"text-align: right;\">\n",
              "      <th></th>\n",
              "      <th>label</th>\n",
              "      <th>time</th>\n",
              "      <th>date</th>\n",
              "      <th>query</th>\n",
              "      <th>username</th>\n",
              "      <th>text</th>\n",
              "    </tr>\n",
              "  </thead>\n",
              "  <tbody>\n",
              "    <tr>\n",
              "      <th>0</th>\n",
              "      <td>0</td>\n",
              "      <td>1467810369</td>\n",
              "      <td>Mon Apr 06 22:19:45 PDT 2009</td>\n",
              "      <td>NO_QUERY</td>\n",
              "      <td>_TheSpecialOne_</td>\n",
              "      <td>@switchfoot http://twitpic.com/2y1zl - Awww, t...</td>\n",
              "    </tr>\n",
              "    <tr>\n",
              "      <th>1</th>\n",
              "      <td>0</td>\n",
              "      <td>1467810672</td>\n",
              "      <td>Mon Apr 06 22:19:49 PDT 2009</td>\n",
              "      <td>NO_QUERY</td>\n",
              "      <td>scotthamilton</td>\n",
              "      <td>is upset that he can't update his Facebook by ...</td>\n",
              "    </tr>\n",
              "    <tr>\n",
              "      <th>2</th>\n",
              "      <td>0</td>\n",
              "      <td>1467810917</td>\n",
              "      <td>Mon Apr 06 22:19:53 PDT 2009</td>\n",
              "      <td>NO_QUERY</td>\n",
              "      <td>mattycus</td>\n",
              "      <td>@Kenichan I dived many times for the ball. Man...</td>\n",
              "    </tr>\n",
              "    <tr>\n",
              "      <th>3</th>\n",
              "      <td>0</td>\n",
              "      <td>1467811184</td>\n",
              "      <td>Mon Apr 06 22:19:57 PDT 2009</td>\n",
              "      <td>NO_QUERY</td>\n",
              "      <td>ElleCTF</td>\n",
              "      <td>my whole body feels itchy and like its on fire</td>\n",
              "    </tr>\n",
              "    <tr>\n",
              "      <th>4</th>\n",
              "      <td>0</td>\n",
              "      <td>1467811193</td>\n",
              "      <td>Mon Apr 06 22:19:57 PDT 2009</td>\n",
              "      <td>NO_QUERY</td>\n",
              "      <td>Karoli</td>\n",
              "      <td>@nationwideclass no, it's not behaving at all....</td>\n",
              "    </tr>\n",
              "  </tbody>\n",
              "</table>\n",
              "</div>"
            ],
            "text/plain": [
              "   label  ...                                               text\n",
              "0      0  ...  @switchfoot http://twitpic.com/2y1zl - Awww, t...\n",
              "1      0  ...  is upset that he can't update his Facebook by ...\n",
              "2      0  ...  @Kenichan I dived many times for the ball. Man...\n",
              "3      0  ...    my whole body feels itchy and like its on fire \n",
              "4      0  ...  @nationwideclass no, it's not behaving at all....\n",
              "\n",
              "[5 rows x 6 columns]"
            ]
          },
          "metadata": {
            "tags": []
          },
          "execution_count": 8
        }
      ]
    },
    {
      "cell_type": "markdown",
      "metadata": {
        "id": "mTEv12ZUKCia"
      },
      "source": [
        "#### Five last records of data"
      ]
    },
    {
      "cell_type": "code",
      "metadata": {
        "trusted": false,
        "id": "Cj8PV1c-KCia",
        "colab": {
          "base_uri": "https://localhost:8080/",
          "height": 195
        },
        "outputId": "a4845574-511f-430d-ed77-f7c852304704"
      },
      "source": [
        "data.tail()"
      ],
      "execution_count": 9,
      "outputs": [
        {
          "output_type": "execute_result",
          "data": {
            "text/html": [
              "<div>\n",
              "<style scoped>\n",
              "    .dataframe tbody tr th:only-of-type {\n",
              "        vertical-align: middle;\n",
              "    }\n",
              "\n",
              "    .dataframe tbody tr th {\n",
              "        vertical-align: top;\n",
              "    }\n",
              "\n",
              "    .dataframe thead th {\n",
              "        text-align: right;\n",
              "    }\n",
              "</style>\n",
              "<table border=\"1\" class=\"dataframe\">\n",
              "  <thead>\n",
              "    <tr style=\"text-align: right;\">\n",
              "      <th></th>\n",
              "      <th>label</th>\n",
              "      <th>time</th>\n",
              "      <th>date</th>\n",
              "      <th>query</th>\n",
              "      <th>username</th>\n",
              "      <th>text</th>\n",
              "    </tr>\n",
              "  </thead>\n",
              "  <tbody>\n",
              "    <tr>\n",
              "      <th>1599995</th>\n",
              "      <td>4</td>\n",
              "      <td>2193601966</td>\n",
              "      <td>Tue Jun 16 08:40:49 PDT 2009</td>\n",
              "      <td>NO_QUERY</td>\n",
              "      <td>AmandaMarie1028</td>\n",
              "      <td>Just woke up. Having no school is the best fee...</td>\n",
              "    </tr>\n",
              "    <tr>\n",
              "      <th>1599996</th>\n",
              "      <td>4</td>\n",
              "      <td>2193601969</td>\n",
              "      <td>Tue Jun 16 08:40:49 PDT 2009</td>\n",
              "      <td>NO_QUERY</td>\n",
              "      <td>TheWDBoards</td>\n",
              "      <td>TheWDB.com - Very cool to hear old Walt interv...</td>\n",
              "    </tr>\n",
              "    <tr>\n",
              "      <th>1599997</th>\n",
              "      <td>4</td>\n",
              "      <td>2193601991</td>\n",
              "      <td>Tue Jun 16 08:40:49 PDT 2009</td>\n",
              "      <td>NO_QUERY</td>\n",
              "      <td>bpbabe</td>\n",
              "      <td>Are you ready for your MoJo Makeover? Ask me f...</td>\n",
              "    </tr>\n",
              "    <tr>\n",
              "      <th>1599998</th>\n",
              "      <td>4</td>\n",
              "      <td>2193602064</td>\n",
              "      <td>Tue Jun 16 08:40:49 PDT 2009</td>\n",
              "      <td>NO_QUERY</td>\n",
              "      <td>tinydiamondz</td>\n",
              "      <td>Happy 38th Birthday to my boo of alll time!!! ...</td>\n",
              "    </tr>\n",
              "    <tr>\n",
              "      <th>1599999</th>\n",
              "      <td>4</td>\n",
              "      <td>2193602129</td>\n",
              "      <td>Tue Jun 16 08:40:50 PDT 2009</td>\n",
              "      <td>NO_QUERY</td>\n",
              "      <td>RyanTrevMorris</td>\n",
              "      <td>happy #charitytuesday @theNSPCC @SparksCharity...</td>\n",
              "    </tr>\n",
              "  </tbody>\n",
              "</table>\n",
              "</div>"
            ],
            "text/plain": [
              "         label  ...                                               text\n",
              "1599995      4  ...  Just woke up. Having no school is the best fee...\n",
              "1599996      4  ...  TheWDB.com - Very cool to hear old Walt interv...\n",
              "1599997      4  ...  Are you ready for your MoJo Makeover? Ask me f...\n",
              "1599998      4  ...  Happy 38th Birthday to my boo of alll time!!! ...\n",
              "1599999      4  ...  happy #charitytuesday @theNSPCC @SparksCharity...\n",
              "\n",
              "[5 rows x 6 columns]"
            ]
          },
          "metadata": {
            "tags": []
          },
          "execution_count": 9
        }
      ]
    },
    {
      "cell_type": "markdown",
      "metadata": {
        "id": "9fgEQYqKKCia"
      },
      "source": [
        "#### Coloumns/features in data"
      ]
    },
    {
      "cell_type": "code",
      "metadata": {
        "trusted": false,
        "id": "GsDEwSDGKCia",
        "colab": {
          "base_uri": "https://localhost:8080/"
        },
        "outputId": "97813960-1a70-4c33-e9ee-660f5822e689"
      },
      "source": [
        "data.columns"
      ],
      "execution_count": 10,
      "outputs": [
        {
          "output_type": "execute_result",
          "data": {
            "text/plain": [
              "Index(['label', 'time', 'date', 'query', 'username', 'text'], dtype='object')"
            ]
          },
          "metadata": {
            "tags": []
          },
          "execution_count": 10
        }
      ]
    },
    {
      "cell_type": "code",
      "metadata": {
        "colab": {
          "base_uri": "https://localhost:8080/"
        },
        "id": "0NWO_gLOJVgE",
        "outputId": "0f33b891-2d66-4b02-cd67-a14cc3babde1"
      },
      "source": [
        "data['label'].value_counts()"
      ],
      "execution_count": 11,
      "outputs": [
        {
          "output_type": "execute_result",
          "data": {
            "text/plain": [
              "4    800000\n",
              "0    800000\n",
              "Name: label, dtype: int64"
            ]
          },
          "metadata": {
            "tags": []
          },
          "execution_count": 11
        }
      ]
    },
    {
      "cell_type": "markdown",
      "metadata": {
        "id": "oTsgnRLrKCib"
      },
      "source": [
        "#### Length of data"
      ]
    },
    {
      "cell_type": "code",
      "metadata": {
        "trusted": false,
        "id": "KGFjX1_KKCib",
        "colab": {
          "base_uri": "https://localhost:8080/"
        },
        "outputId": "ec19f1bf-add7-465f-e21e-335a0cbd0a96"
      },
      "source": [
        "print('lenght of data is', len(data))"
      ],
      "execution_count": 12,
      "outputs": [
        {
          "output_type": "stream",
          "text": [
            "lenght of data is 1600000\n"
          ],
          "name": "stdout"
        }
      ]
    },
    {
      "cell_type": "markdown",
      "metadata": {
        "id": "ZZ83WJfUKCib"
      },
      "source": [
        "#### Shape of data"
      ]
    },
    {
      "cell_type": "code",
      "metadata": {
        "trusted": false,
        "id": "7BloB18eKCib",
        "colab": {
          "base_uri": "https://localhost:8080/"
        },
        "outputId": "14836d0a-0f22-49f9-88cf-a0e78757814b"
      },
      "source": [
        "data.shape"
      ],
      "execution_count": 13,
      "outputs": [
        {
          "output_type": "execute_result",
          "data": {
            "text/plain": [
              "(1600000, 6)"
            ]
          },
          "metadata": {
            "tags": []
          },
          "execution_count": 13
        }
      ]
    },
    {
      "cell_type": "markdown",
      "metadata": {
        "id": "mUJyZyLFKCic"
      },
      "source": [
        "#### Data information"
      ]
    },
    {
      "cell_type": "code",
      "metadata": {
        "scrolled": false,
        "trusted": false,
        "id": "RzY8eV-YKCic",
        "colab": {
          "base_uri": "https://localhost:8080/"
        },
        "outputId": "dc22b94a-0da2-4aa0-b47f-a6250555f74f"
      },
      "source": [
        "data.info()"
      ],
      "execution_count": 14,
      "outputs": [
        {
          "output_type": "stream",
          "text": [
            "<class 'pandas.core.frame.DataFrame'>\n",
            "RangeIndex: 1600000 entries, 0 to 1599999\n",
            "Data columns (total 6 columns):\n",
            " #   Column    Non-Null Count    Dtype \n",
            "---  ------    --------------    ----- \n",
            " 0   label     1600000 non-null  int64 \n",
            " 1   time      1600000 non-null  int64 \n",
            " 2   date      1600000 non-null  object\n",
            " 3   query     1600000 non-null  object\n",
            " 4   username  1600000 non-null  object\n",
            " 5   text      1600000 non-null  object\n",
            "dtypes: int64(2), object(4)\n",
            "memory usage: 73.2+ MB\n"
          ],
          "name": "stdout"
        }
      ]
    },
    {
      "cell_type": "markdown",
      "metadata": {
        "id": "aDLzeBmoKCic"
      },
      "source": [
        "#### Data types of all coloumns"
      ]
    },
    {
      "cell_type": "code",
      "metadata": {
        "trusted": false,
        "id": "qOGeo1NwKCic",
        "colab": {
          "base_uri": "https://localhost:8080/"
        },
        "outputId": "0b82ea95-d3b4-49df-b396-ffd31d7fc661"
      },
      "source": [
        "data.dtypes"
      ],
      "execution_count": 15,
      "outputs": [
        {
          "output_type": "execute_result",
          "data": {
            "text/plain": [
              "label        int64\n",
              "time         int64\n",
              "date        object\n",
              "query       object\n",
              "username    object\n",
              "text        object\n",
              "dtype: object"
            ]
          },
          "metadata": {
            "tags": []
          },
          "execution_count": 15
        }
      ]
    },
    {
      "cell_type": "markdown",
      "metadata": {
        "id": "Fn3MeiXbKCic"
      },
      "source": [
        "#### Checking Null values"
      ]
    },
    {
      "cell_type": "code",
      "metadata": {
        "scrolled": true,
        "trusted": false,
        "id": "2sis1zAMKCid",
        "colab": {
          "base_uri": "https://localhost:8080/"
        },
        "outputId": "f72910eb-370d-4ab7-dd72-d7dc3c1e9414"
      },
      "source": [
        "np.sum(data.isnull().any(axis=1))"
      ],
      "execution_count": 16,
      "outputs": [
        {
          "output_type": "execute_result",
          "data": {
            "text/plain": [
              "0"
            ]
          },
          "metadata": {
            "tags": []
          },
          "execution_count": 16
        }
      ]
    },
    {
      "cell_type": "markdown",
      "metadata": {
        "id": "lfQdCQMVKCid"
      },
      "source": [
        "#### Rows and columns in the dataset"
      ]
    },
    {
      "cell_type": "code",
      "metadata": {
        "trusted": false,
        "id": "c_t0JWayKCid",
        "colab": {
          "base_uri": "https://localhost:8080/"
        },
        "outputId": "411bbad8-1637-4f55-9082-471f33c4df98"
      },
      "source": [
        "print('Count of columns in the data is:  ', len(data.columns))"
      ],
      "execution_count": 17,
      "outputs": [
        {
          "output_type": "stream",
          "text": [
            "Count of columns in the data is:   6\n"
          ],
          "name": "stdout"
        }
      ]
    },
    {
      "cell_type": "code",
      "metadata": {
        "trusted": false,
        "id": "qCh06swEKCid",
        "colab": {
          "base_uri": "https://localhost:8080/"
        },
        "outputId": "f3396904-751b-4a83-d014-4e374fe39c1e"
      },
      "source": [
        "print('Count of rows in the data is:  ', len(data))"
      ],
      "execution_count": 18,
      "outputs": [
        {
          "output_type": "stream",
          "text": [
            "Count of rows in the data is:   1600000\n"
          ],
          "name": "stdout"
        }
      ]
    },
    {
      "cell_type": "code",
      "metadata": {
        "trusted": false,
        "id": "7uH3hZt1KCie"
      },
      "source": [
        "data=data[['text','label']]"
      ],
      "execution_count": 19,
      "outputs": []
    },
    {
      "cell_type": "markdown",
      "metadata": {
        "id": "Fk_M2ylaKjKv"
      },
      "source": [
        "## b. Plot a bar graph of class distribution in a dataset. Each bar depicts the number of tweets belonging to a particular sentiment."
      ]
    },
    {
      "cell_type": "code",
      "metadata": {
        "colab": {
          "base_uri": "https://localhost:8080/",
          "height": 300
        },
        "id": "KuTDouhfKq5c",
        "outputId": "089dbb97-8156-4105-cc2f-82f2b72499ad"
      },
      "source": [
        "datag = data.groupby('label').size().reset_index(name='count')\n",
        "sns.barplot(y=\"count\",x=\"label\", data=datag)\n"
      ],
      "execution_count": 20,
      "outputs": [
        {
          "output_type": "execute_result",
          "data": {
            "text/plain": [
              "<matplotlib.axes._subplots.AxesSubplot at 0x7fd72213af10>"
            ]
          },
          "metadata": {
            "tags": []
          },
          "execution_count": 20
        },
        {
          "output_type": "display_data",
          "data": {
            "image/png": "[encoded data removed]",
            "text/plain": [
              "<Figure size 432x288 with 1 Axes>"
            ]
          },
          "metadata": {
            "tags": [],
            "needs_background": "light"
          }
        }
      ]
    },
    {
      "cell_type": "markdown",
      "metadata": {
        "id": "nzQtvtpAK9S3"
      },
      "source": [
        "## c. Other visualizations"
      ]
    },
    {
      "cell_type": "code",
      "metadata": {
        "id": "ZG7Oj0oILAEK"
      },
      "source": [
        "stopwords_ = set(STOPWORDS)\n",
        "\n",
        "def show_wordcloud(data, title = None):\n",
        "    wordcloud = WordCloud(\n",
        "        collocations=False,\n",
        "        background_color='white',\n",
        "        stopwords=stopwords_,\n",
        "        max_words=200,\n",
        "        max_font_size=40, \n",
        "        scale=3,\n",
        "        random_state=1\n",
        "    ).generate(str(data))\n",
        "\n",
        "    fig = plt.figure(1, figsize=(12, 12))\n",
        "    plt.axis('off')\n",
        "    if title: \n",
        "        fig.suptitle(title, fontsize=20)\n",
        "        fig.subplots_adjust(top=2.3)\n",
        "\n",
        "    plt.imshow(wordcloud)\n",
        "    plt.show()"
      ],
      "execution_count": 21,
      "outputs": []
    },
    {
      "cell_type": "code",
      "metadata": {
        "colab": {
          "base_uri": "https://localhost:8080/",
          "height": 418
        },
        "id": "FILh_fxHLZYO",
        "outputId": "0d74c052-e4b6-450a-faf7-325f895846d3"
      },
      "source": [
        "show_wordcloud(data['text'], \"WordCloud for tweets\")"
      ],
      "execution_count": 22,
      "outputs": [
        {
          "output_type": "display_data",
          "data": {
            "image/png": "[encoded data removed]",
            "text/plain": [
              "<Figure size 864x864 with 1 Axes>"
            ]
          },
          "metadata": {
            "tags": [],
            "needs_background": "light"
          }
        }
      ]
    },
    {
      "cell_type": "markdown",
      "metadata": {
        "id": "h1LHirJ9L52M"
      },
      "source": [
        "# Data Pre-processing\n",
        "a. Need for this Step-Since the models we use cannot accept string inputs or cannot be of the string format. We have to come up with a way of handling this step. The discussion of different ways of handling this step is out of the scope of this assignment.\n",
        "\n",
        "b. Please use this pre-trained embedding layerfrom TensorFlow hub for this assignment. This link also has a code snippet on how to convert a sentence to a vector. Refer to that for further clarity on this subject.\n",
        "\n",
        "c. Bring the train and test data in the required format."
      ]
    },
    {
      "cell_type": "markdown",
      "metadata": {
        "id": "Oi8vSNbpKCie"
      },
      "source": [
        "## Assigning 1 to Positive sentment 4"
      ]
    },
    {
      "cell_type": "code",
      "metadata": {
        "trusted": false,
        "id": "6ONumEf8KCie"
      },
      "source": [
        "data['label'][data['label']==4]=1"
      ],
      "execution_count": 23,
      "outputs": []
    },
    {
      "cell_type": "markdown",
      "metadata": {
        "id": "mmNpy1QpKCim"
      },
      "source": [
        "##  Separating input feature and label"
      ]
    },
    {
      "cell_type": "code",
      "metadata": {
        "trusted": false,
        "id": "b4h-3yaRKCim"
      },
      "source": [
        "X=data.text\n",
        "y=data.label"
      ],
      "execution_count": 24,
      "outputs": []
    },
    {
      "cell_type": "markdown",
      "metadata": {
        "id": "50j7wbfOqM3v"
      },
      "source": [
        "### c. Bring the train and test data in the required format."
      ]
    },
    {
      "cell_type": "markdown",
      "metadata": {
        "id": "AxapX0rxdfaF"
      },
      "source": [
        "#### Separating the 80% data for training data and 20% for testing data\n",
        "As we prepared all the tweets, now we are separating/splitting the tweets into training data and testing data.\n",
        "- 80% tweets will be used in the training \n",
        "- 20% tweets will be used to test the performance of the model."
      ]
    },
    {
      "cell_type": "markdown",
      "metadata": {
        "id": "pHKBHBTmdfaG"
      },
      "source": [
        ""
      ]
    },
    {
      "cell_type": "code",
      "metadata": {
        "trusted": false,
        "id": "yh-985gTdfaH"
      },
      "source": [
        "X_train_org, X_test_org, Y_train, Y_test = train_test_split(data, y, test_size=0.2, random_state=2)\n",
        "X_train_org, X_val_org, Y_train, Y_val = train_test_split(X_train_org, Y_train, test_size=0.2, random_state=3)"
      ],
      "execution_count": 25,
      "outputs": []
    },
    {
      "cell_type": "markdown",
      "metadata": {
        "id": "LEOdcrgOqEFH"
      },
      "source": [
        "### b. Please use this pre-trained embedding layer from TensorFlow hub for this assignment. "
      ]
    },
    {
      "cell_type": "code",
      "metadata": {
        "id": "XlXrUuTPX6We"
      },
      "source": [
        "X_train = embed(X_train_org.text.values).numpy()\n",
        "X_val = embed(X_val_org.text.values).numpy()\n",
        "X_test = embed(X_test_org.text.values).numpy()"
      ],
      "execution_count": 26,
      "outputs": []
    },
    {
      "cell_type": "markdown",
      "metadata": {
        "id": "ZGnU9IYoj4WJ"
      },
      "source": [
        "# Data Visualization"
      ]
    },
    {
      "cell_type": "markdown",
      "metadata": {
        "id": "0KrgHDaFiyzO"
      },
      "source": [
        "## d. Print the shapes of train and test data."
      ]
    },
    {
      "cell_type": "code",
      "metadata": {
        "colab": {
          "base_uri": "https://localhost:8080/"
        },
        "id": "UfpN3DridfaJ",
        "outputId": "c8f084f8-1744-4588-eb8d-b8469546dd5b"
      },
      "source": [
        "print('X_train: ', X_train.shape)\n",
        "print('X_test: ', X_test.shape)\n",
        "print('Y_train: ', Y_train.shape)\n",
        "print('Y_test: ', Y_test.shape)"
      ],
      "execution_count": 27,
      "outputs": [
        {
          "output_type": "stream",
          "text": [
            "X_train:  (1024000, 128)\n",
            "X_test:  (320000, 128)\n",
            "Y_train:  (1024000,)\n",
            "Y_test:  (320000,)\n"
          ],
          "name": "stdout"
        }
      ]
    },
    {
      "cell_type": "markdown",
      "metadata": {
        "id": "KmWtpqffkKdD"
      },
      "source": [
        "# Model Building\n",
        "a. Sequential Model layers-Use AT LEAST 3 hidden layers with appropriate input for each. Choose the best number for hidden units and give reasons. : **To prepare near best model we gradually decrease number of neurons in hidden layers by dividing the number of neurons in the previous layers by 2. Hence when we start at 64 neurons and have to prepare 2 more layers then one option would be 32 followed by 16**\n",
        "\n",
        "b. Add L2 regularization to all the layers.\n",
        "\n",
        "c. Add one layer of dropout at the appropriate position and give reasons.d.Choose the appropriate activation function for all the layers.e.Print the model summary."
      ]
    },
    {
      "cell_type": "code",
      "metadata": {
        "trusted": false,
        "id": "jfAbS-DrdfaL"
      },
      "source": [
        "def model_base(): #Defined tensorflow_based_model function for training tenforflow based model\n",
        "    inputs = Input(name='inputs',shape=(128))\n",
        "    layer = Dropout(0.1, name='dropout')(inputs)\n",
        "    layer = Dense(64,name='layer1', activation='relu',kernel_regularizer=reg.L2(0.0005))(layer)\n",
        "    layer = Dense(32,name='layer2', activation='relu', kernel_regularizer=reg.L2(0.0005))(layer) \n",
        "    layer = Dense(16,name='layer3', activation='relu', kernel_regularizer=reg.L2(0.0005))(layer) \n",
        "    layer = Dense(1,name='output', activation='sigmoid')(layer) \n",
        "    model = Model(inputs=inputs,outputs=layer) #here we are getting the final output value in the model for classification\n",
        "    return model #function returning the value when we call it\n",
        "\n",
        "callback = EarlyStopping(monitor='val_loss', min_delta=0.001, patience=3, verbose=1,mode='auto', baseline=None, restore_best_weights=False\n",
        ")"
      ],
      "execution_count": 28,
      "outputs": []
    },
    {
      "cell_type": "markdown",
      "metadata": {
        "id": "gBo5WAObklEv"
      },
      "source": [
        "## e. Print the model summary"
      ]
    },
    {
      "cell_type": "code",
      "metadata": {
        "colab": {
          "base_uri": "https://localhost:8080/"
        },
        "id": "eSLtYUvzkeel",
        "outputId": "a6033e60-61f1-4088-a79b-1a860e256ba8"
      },
      "source": [
        "model = model_base() # here we are calling the function of created model\n",
        "print('Model summary')\n",
        "model.summary() "
      ],
      "execution_count": 29,
      "outputs": [
        {
          "output_type": "stream",
          "text": [
            "Model summary\n",
            "Model: \"model\"\n",
            "_________________________________________________________________\n",
            "Layer (type)                 Output Shape              Param #   \n",
            "=================================================================\n",
            "inputs (InputLayer)          [(None, 128)]             0         \n",
            "_________________________________________________________________\n",
            "dropout (Dropout)            (None, 128)               0         \n",
            "_________________________________________________________________\n",
            "layer1 (Dense)               (None, 64)                8256      \n",
            "_________________________________________________________________\n",
            "layer2 (Dense)               (None, 32)                2080      \n",
            "_________________________________________________________________\n",
            "layer3 (Dense)               (None, 16)                528       \n",
            "_________________________________________________________________\n",
            "output (Dense)               (None, 1)                 17        \n",
            "=================================================================\n",
            "Total params: 10,881\n",
            "Trainable params: 10,881\n",
            "Non-trainable params: 0\n",
            "_________________________________________________________________\n"
          ],
          "name": "stdout"
        }
      ]
    },
    {
      "cell_type": "markdown",
      "metadata": {
        "id": "DaDXPiHTdfaM"
      },
      "source": [
        "# Model Compilation\n",
        "a.Compile the model with the appropriate loss function.\n",
        "\n",
        "b.Use an appropriate optimizer. Give reasons for the choice of learning rate and its value.: **We intially choose 0.001(least possible) but later realised that the training is too slow and could be improved without compromising the accuracy of the model so changed the learning rate to 0.005.**\n",
        "\n",
        "c.Use accuracy as a metric."
      ]
    },
    {
      "cell_type": "code",
      "metadata": {
        "trusted": false,
        "id": "h9hLp6hSdfaM"
      },
      "source": [
        "model.compile(loss='binary_crossentropy',optimizer=RMSprop(learning_rate=0.005),metrics=['accuracy']) "
      ],
      "execution_count": 30,
      "outputs": []
    },
    {
      "cell_type": "markdown",
      "metadata": {
        "id": "t-2KVd0nmq_y"
      },
      "source": [
        "# Model Training\n",
        "a. Train the model for an appropriate number of epochs. Print the train and validation accuracy and loss for each epoch. Use the appropriate batch size.\n",
        "\n",
        "b. Plot the loss and accuracy history graphs for both train and validation set. Print the total time taken for training."
      ]
    },
    {
      "cell_type": "code",
      "metadata": {
        "trusted": false,
        "colab": {
          "base_uri": "https://localhost:8080/"
        },
        "id": "no0JaydzdfaN",
        "outputId": "c16a9f67-7836-4f82-db5d-be379fb0ae84"
      },
      "source": [
        "startTime = time.time()\n",
        "history=model.fit(X_train,Y_train,batch_size=128,epochs=100, validation_data=(X_val, Y_val), callbacks=[callback])# here we are starting the training of model by feeding the training data\n",
        "endTime = time.time()\n",
        "print('Training finished in : {}s'.format(round(endTime - startTime, 2)))"
      ],
      "execution_count": 31,
      "outputs": [
        {
          "output_type": "stream",
          "text": [
            "Epoch 1/100\n",
            "8000/8000 [==============================] - 21s 3ms/step - loss: 0.5992 - accuracy: 0.6906 - val_loss: 0.5778 - val_accuracy: 0.7046\n",
            "Epoch 2/100\n",
            "8000/8000 [==============================] - 20s 2ms/step - loss: 0.5858 - accuracy: 0.6989 - val_loss: 0.5719 - val_accuracy: 0.7117\n",
            "Epoch 3/100\n",
            "8000/8000 [==============================] - 20s 2ms/step - loss: 0.5858 - accuracy: 0.6989 - val_loss: 0.5739 - val_accuracy: 0.7086\n",
            "Epoch 4/100\n",
            "8000/8000 [==============================] - 20s 2ms/step - loss: 0.5843 - accuracy: 0.6987 - val_loss: 0.5707 - val_accuracy: 0.7109\n",
            "Epoch 5/100\n",
            "8000/8000 [==============================] - 20s 2ms/step - loss: 0.5859 - accuracy: 0.6978 - val_loss: 0.5937 - val_accuracy: 0.6921\n",
            "Epoch 6/100\n",
            "8000/8000 [==============================] - 20s 2ms/step - loss: 0.5852 - accuracy: 0.6989 - val_loss: 0.5714 - val_accuracy: 0.7125\n",
            "Epoch 7/100\n",
            "8000/8000 [==============================] - 20s 2ms/step - loss: 0.5841 - accuracy: 0.6998 - val_loss: 0.5800 - val_accuracy: 0.7037\n",
            "Epoch 00007: early stopping\n",
            "Training finished in : 140.18s\n"
          ],
          "name": "stdout"
        }
      ]
    },
    {
      "cell_type": "code",
      "metadata": {
        "colab": {
          "base_uri": "https://localhost:8080/",
          "height": 317
        },
        "id": "TNR4m6ncPMHG",
        "outputId": "966f5ad4-ec0f-448b-d698-8a4d1dc05c54"
      },
      "source": [
        "plt.plot(history.history['accuracy'])\n",
        "plt.plot(history.history['val_accuracy'])\n",
        "plt.title('model accuracy')\n",
        "plt.ylabel('accuracy')\n",
        "plt.xlabel('epoch')\n",
        "plt.legend(['training', 'validation'])"
      ],
      "execution_count": 32,
      "outputs": [
        {
          "output_type": "execute_result",
          "data": {
            "text/plain": [
              "<matplotlib.legend.Legend at 0x7fd71075d4d0>"
            ]
          },
          "metadata": {
            "tags": []
          },
          "execution_count": 32
        },
        {
          "output_type": "display_data",
          "data": {
            "image/png": "[encoded data removed]",
            "text/plain": [
              "<Figure size 432x288 with 1 Axes>"
            ]
          },
          "metadata": {
            "tags": [],
            "needs_background": "light"
          }
        }
      ]
    },
    {
      "cell_type": "code",
      "metadata": {
        "colab": {
          "base_uri": "https://localhost:8080/",
          "height": 354
        },
        "id": "T0zt0W1aRXSE",
        "outputId": "e61d3b8a-af5e-4d20-d61b-0af4902f8452"
      },
      "source": [
        "print(history.history)\n",
        "plt.plot(history.history['loss'])\n",
        "plt.plot(history.history['val_loss'])\n",
        "plt.title('model loss')\n",
        "plt.ylabel('loss')\n",
        "plt.xlabel('epoch')\n",
        "plt.legend(['training', 'validation'])"
      ],
      "execution_count": 33,
      "outputs": [
        {
          "output_type": "stream",
          "text": [
            "{'loss': [0.5911034345626831, 0.5859808921813965, 0.5856017470359802, 0.5847506523132324, 0.5853444337844849, 0.584743857383728, 0.5844801068305969], 'accuracy': [0.6956943273544312, 0.6981464624404907, 0.6985703110694885, 0.6988418102264404, 0.698858380317688, 0.6992383003234863, 0.6993036866188049], 'val_loss': [0.577846109867096, 0.5719144940376282, 0.5739306807518005, 0.570665180683136, 0.5936640501022339, 0.5713658928871155, 0.5800479054450989], 'val_accuracy': [0.7045742273330688, 0.711718738079071, 0.7086054682731628, 0.7109492421150208, 0.6920859217643738, 0.7124609351158142, 0.7037343978881836]}\n"
          ],
          "name": "stdout"
        },
        {
          "output_type": "execute_result",
          "data": {
            "text/plain": [
              "<matplotlib.legend.Legend at 0x7fd72206e9d0>"
            ]
          },
          "metadata": {
            "tags": []
          },
          "execution_count": 33
        },
        {
          "output_type": "display_data",
          "data": {
            "image/png": "[encoded data removed]",
            "text/plain": [
              "<Figure size 432x288 with 1 Axes>"
            ]
          },
          "metadata": {
            "tags": [],
            "needs_background": "light"
          }
        }
      ]
    },
    {
      "cell_type": "markdown",
      "metadata": {
        "id": "Y34PUZ6GnG7b"
      },
      "source": [
        "# Model Evaluation\n",
        "\n",
        "a.Print the final train and validation loss and accuracy. Print confusion matrix and classification report for the validation dataset. Analyse and report the best and worst performing class.\n",
        "\n",
        "b.Print the two most incorrectly classified texts for each class in the test dataset."
      ]
    },
    {
      "cell_type": "code",
      "metadata": {
        "trusted": false,
        "colab": {
          "base_uri": "https://localhost:8080/"
        },
        "id": "Hrfd48jTdfaQ",
        "outputId": "8211df26-62c3-475d-d726-f828c8a19a84"
      },
      "source": [
        "accr1 = model.evaluate(X_val,Y_val) #we are starting to test the model here"
      ],
      "execution_count": 34,
      "outputs": [
        {
          "output_type": "stream",
          "text": [
            "8000/8000 [==============================] - 14s 2ms/step - loss: 0.5800 - accuracy: 0.7037\n"
          ],
          "name": "stdout"
        }
      ]
    },
    {
      "cell_type": "code",
      "metadata": {
        "trusted": false,
        "colab": {
          "base_uri": "https://localhost:8080/"
        },
        "id": "1K3z4Tr9dfaQ",
        "outputId": "dcab3983-0aa7-43dc-df85-1c82be5c1e91"
      },
      "source": [
        "print('Test set\\n  Accuracy: {:0.2f}'.format(accr1[1])) #the accuracy of the model on test data is given below"
      ],
      "execution_count": 35,
      "outputs": [
        {
          "output_type": "stream",
          "text": [
            "Test set\n",
            "  Accuracy: 0.70\n"
          ],
          "name": "stdout"
        }
      ]
    },
    {
      "cell_type": "code",
      "metadata": {
        "id": "8edTXFrbdfaR"
      },
      "source": [
        "y_pred = model.predict(X_val) #getting predictions on the trained model\n",
        "y_pred_class = (y_pred > 0.5)"
      ],
      "execution_count": 36,
      "outputs": []
    },
    {
      "cell_type": "code",
      "metadata": {
        "trusted": false,
        "colab": {
          "base_uri": "https://localhost:8080/",
          "height": 803
        },
        "id": "bYk61TZldfaR",
        "outputId": "b78eece4-9e25-440a-94e5-c61bcf72508a"
      },
      "source": [
        "print('Classification Report')\n",
        "print(classification_report(Y_val, y_pred_class))\n",
        "print(\"Confusion matrix\")\n",
        "CR=confusion_matrix(Y_val, y_pred_class)\n",
        "print(CR)\n",
        "fig, ax = plot_confusion_matrix(conf_mat=CR,figsize=(10, 10),\n",
        "                                show_absolute=True,\n",
        "                                show_normed=True,\n",
        "                                colorbar=True)\n",
        "plt.show()"
      ],
      "execution_count": 39,
      "outputs": [
        {
          "output_type": "stream",
          "text": [
            "Classification Report\n",
            "              precision    recall  f1-score   support\n",
            "\n",
            "           0       0.76      0.60      0.67    127978\n",
            "           1       0.67      0.81      0.73    128022\n",
            "\n",
            "    accuracy                           0.70    256000\n",
            "   macro avg       0.71      0.70      0.70    256000\n",
            "weighted avg       0.71      0.70      0.70    256000\n",
            "\n",
            "Confusion matrix\n",
            "[[ 77067  50911]\n",
            " [ 24933 103089]]\n"
          ],
          "name": "stdout"
        },
        {
          "output_type": "display_data",
          "data": {
            "image/png": "[encoded data removed]",
            "text/plain": [
              "<Figure size 720x720 with 2 Axes>"
            ]
          },
          "metadata": {
            "tags": [],
            "needs_background": "light"
          }
        }
      ]
    },
    {
      "cell_type": "markdown",
      "metadata": {
        "id": "bMn5BviYnG7e"
      },
      "source": [
        "### a.Negative class or Negative Sentiment is slightly better performing as per the confusion matrix."
      ]
    },
    {
      "cell_type": "markdown",
      "metadata": {
        "id": "kYNjpGnVdfaS"
      },
      "source": [
        "#### ROC CURVE"
      ]
    },
    {
      "cell_type": "code",
      "metadata": {
        "colab": {
          "base_uri": "https://localhost:8080/"
        },
        "id": "xRV9OfnbM73b",
        "outputId": "767c1d39-5bb3-461b-d4ff-91b82f8f3b15"
      },
      "source": [
        "print(roc_auc_score(Y_val, y_pred_class))"
      ],
      "execution_count": 40,
      "outputs": [
        {
          "output_type": "stream",
          "text": [
            "0.7037169249633175\n"
          ],
          "name": "stdout"
        }
      ]
    },
    {
      "cell_type": "code",
      "metadata": {
        "scrolled": true,
        "trusted": false,
        "colab": {
          "base_uri": "https://localhost:8080/",
          "height": 317
        },
        "id": "9u-PLELfdfaT",
        "outputId": "df36eeb1-a53f-4103-891d-3e78faccc644"
      },
      "source": [
        "fpr, tpr, thresholds = roc_curve(Y_val, y_pred_class)\n",
        "roc_auc = auc(fpr, tpr)\n",
        "plt.figure()\n",
        "plt.plot(fpr, tpr, color='darkorange', lw=1, label='ROC curve (area = %0.2f)' % roc_auc)\n",
        "plt.xlim([0.0, 1.0])\n",
        "plt.ylim([0.0, 1.05])\n",
        "plt.xlabel('False Positive Rate')\n",
        "plt.ylabel('True Positive Rate')\n",
        "plt.title('ROC CURVE')\n",
        "plt.legend(loc=\"lower right\")\n",
        "plt.show()\n",
        "print()"
      ],
      "execution_count": 41,
      "outputs": [
        {
          "output_type": "display_data",
          "data": {
            "image/png": "[encoded data removed]",
            "text/plain": [
              "<Figure size 432x288 with 1 Axes>"
            ]
          },
          "metadata": {
            "tags": [],
            "needs_background": "light"
          }
        },
        {
          "output_type": "stream",
          "text": [
            "\n"
          ],
          "name": "stdout"
        }
      ]
    },
    {
      "cell_type": "markdown",
      "metadata": {
        "id": "JRXQ1T5Wn3AG"
      },
      "source": [
        "### b.Print the two most incorrectly classified texts for each class in the test dataset."
      ]
    },
    {
      "cell_type": "code",
      "metadata": {
        "id": "9OjQdeMPVhSB"
      },
      "source": [
        "def find_2_smallest_index(arr):\n",
        "    first = 999\n",
        "    second = 999\n",
        "    first_index=0\n",
        "    sexond_index=0\n",
        "    for i in range(len(arr)):\n",
        "        if arr[i] < first:\n",
        "            second = copy.deepcopy(first)\n",
        "            second_index = copy.deepcopy(first_index)\n",
        "            first = copy.deepcopy(arr[i])\n",
        "            first_index = copy.deepcopy(i)\n",
        "        elif (arr[i] < second):\n",
        "            second = copy.deepcopy(arr[i])\n",
        "            second_index = copy.deepcopy(i)\n",
        "    return first_index, second_index"
      ],
      "execution_count": 42,
      "outputs": []
    },
    {
      "cell_type": "code",
      "metadata": {
        "colab": {
          "base_uri": "https://localhost:8080/"
        },
        "id": "GKRK7UIPXCm7",
        "outputId": "756a7aa4-556d-45b3-f03c-23d65283867e"
      },
      "source": [
        "worst_2 = {}\n",
        "y_pred_test = model.predict(X_test)\n",
        "first_index, second_index = find_2_smallest_index(1-y_pred_test[:])\n",
        "worst_2[0] = [X_test_org.text.values[first_index],X_test_org.text.values[second_index]]\n",
        "first_index, second_index = find_2_smallest_index(y_pred_test[:])\n",
        "worst_2[1] = [X_test_org.text.values[first_index],X_test_org.text.values[second_index]]\n",
        "worst_2"
      ],
      "execution_count": 43,
      "outputs": [
        {
          "output_type": "execute_result",
          "data": {
            "text/plain": [
              "{0: ['#BTS is fallin!!   #BTS #BTS #BTS #BTS #BTS #BTS #BTS #BTS #BTS #BTS #BTS #BTS #BTS #BTS #BTS #BTS #BTS #BTS #BTS #BTS #BTS #BTS #BTS',\n",
              "  '@allenbrand Happy Birthday to you! Happy Birthday to you! Happy Birthday dear Allen! Happy Birthday to you! And many moooore! '],\n",
              " 1: ['bad bad bad bad bad bad bad bad bad bad bad bad bad bad bad bad bad bad bad day. ',\n",
              "  'headache headache headache ']}"
            ]
          },
          "metadata": {
            "tags": []
          },
          "execution_count": 43
        }
      ]
    },
    {
      "cell_type": "markdown",
      "metadata": {
        "id": "CumEnWCvTgHY"
      },
      "source": [
        "# Hyperparameter Tuning\n",
        "Build two more additional models by changing the following hyperparameters ONE at a time. Write the code for Model Building, Model Compilation, Model Training and Model Evaluation as given in the instructions above for each additional model.\n",
        "1. Batch Size: Change the value of batch size in model training\n",
        "2. Dropout: Change the position and value of dropout layer\n",
        "Write a comparison between each model and give reasons for the difference in results."
      ]
    },
    {
      "cell_type": "markdown",
      "metadata": {
        "id": "xvNttYFcywU7"
      },
      "source": [
        "### **1.Batch Size: Change the value of batch size in model training**"
      ]
    },
    {
      "cell_type": "markdown",
      "metadata": {
        "id": "A9bHvDx6y-Qv"
      },
      "source": [
        "# Model Building\n",
        "a. Sequential Model layers-Use AT LEAST 3 hidden layers with appropriate input for each. Choose the best number for hidden units and give reasons. : **To prepare near best model we gradually decrease number of neurons in hidden layers by dividing the number of neurons in the previous layers by 2. Hence when we start at 64 neurons and have to prepare 3 more layers then one option would be 32 followed by 16 followed by 8**\n",
        "\n",
        "b. Add L2 regularization to all the layers.\n",
        "\n",
        "c. Add one layer of dropout at the appropriate position and give reasons.d.Choose the appropriate activation function for all the layers.e.Print the model summary."
      ]
    },
    {
      "cell_type": "code",
      "metadata": {
        "trusted": false,
        "id": "s1VVq0NJTgHV"
      },
      "source": [
        "def model_hyp1(): #Defined tensorflow_based_model function for training tensorflow based model\n",
        "    inputs = Input(name='inputs',shape=(128))\n",
        "    layer = Dropout(0.1, name='dropout')(inputs)\n",
        "    layer = Dense(64,name='layer1', activation='relu',kernel_regularizer=reg.L2(0.0005))(layer)\n",
        "    layer = Dense(32,name='layer2', activation='relu', kernel_regularizer=reg.L2(0.0005))(layer) \n",
        "    layer = Dense(16,name='layer3', activation='relu', kernel_regularizer=reg.L2(0.0005))(layer) \n",
        "    layer = Dense(8,name='layer4', activation='relu', kernel_regularizer=reg.L2(0.0005))(layer)\n",
        "    layer = Dense(1,name='output', activation='sigmoid')(layer) \n",
        "    model = Model(inputs=inputs,outputs=layer) #here we are getting the final output value in the model for classification\n",
        "    return model #function returning the value when we call it\n",
        "\n",
        "callback = EarlyStopping(monitor='val_loss', min_delta=0.001, patience=3, verbose=1,mode='auto', baseline=None, restore_best_weights=False\n",
        ")"
      ],
      "execution_count": 44,
      "outputs": []
    },
    {
      "cell_type": "markdown",
      "metadata": {
        "id": "yrQlXs8Ez3FJ"
      },
      "source": [
        "## e. Print the model summary"
      ]
    },
    {
      "cell_type": "code",
      "metadata": {
        "trusted": false,
        "colab": {
          "base_uri": "https://localhost:8080/"
        },
        "id": "l8OhDwLVTgHZ",
        "outputId": "04129970-69c1-47ee-a849-40d8bdde19a0"
      },
      "source": [
        "model = model_hyp1() # here we are calling the function of created model\n",
        "print('Model summary')\n",
        "model.summary()"
      ],
      "execution_count": 45,
      "outputs": [
        {
          "output_type": "stream",
          "text": [
            "Model summary\n",
            "Model: \"model_1\"\n",
            "_________________________________________________________________\n",
            "Layer (type)                 Output Shape              Param #   \n",
            "=================================================================\n",
            "inputs (InputLayer)          [(None, 128)]             0         \n",
            "_________________________________________________________________\n",
            "dropout (Dropout)            (None, 128)               0         \n",
            "_________________________________________________________________\n",
            "layer1 (Dense)               (None, 64)                8256      \n",
            "_________________________________________________________________\n",
            "layer2 (Dense)               (None, 32)                2080      \n",
            "_________________________________________________________________\n",
            "layer3 (Dense)               (None, 16)                528       \n",
            "_________________________________________________________________\n",
            "layer4 (Dense)               (None, 8)                 136       \n",
            "_________________________________________________________________\n",
            "output (Dense)               (None, 1)                 9         \n",
            "=================================================================\n",
            "Total params: 11,009\n",
            "Trainable params: 11,009\n",
            "Non-trainable params: 0\n",
            "_________________________________________________________________\n"
          ],
          "name": "stdout"
        }
      ]
    },
    {
      "cell_type": "markdown",
      "metadata": {
        "id": "gqMWN4vV0vpb"
      },
      "source": [
        "# Model Compilation\n",
        "a.Compile the model with the appropriate loss function.\n",
        "\n",
        "b.Use an appropriate optimizer. Give reasons for the choice of learning rate and its value.: **We intially choose 0.001(least possible) but later realised that the training is too slow and could be improved without compromising the accuracy of the model so changed the learning rate to 0.005.**\n",
        "\n",
        "c.Use accuracy as a metric."
      ]
    },
    {
      "cell_type": "code",
      "metadata": {
        "id": "N6CblQB40qGf"
      },
      "source": [
        "model.compile(loss='binary_crossentropy',optimizer=RMSprop(learning_rate=0.005),metrics=['accuracy']) "
      ],
      "execution_count": 46,
      "outputs": []
    },
    {
      "cell_type": "markdown",
      "metadata": {
        "id": "Tby5ys3c04mg"
      },
      "source": [
        "# Model Training\n",
        "a. Train the model for an appropriate number of epochs. Print the train and validation accuracy and loss for each epoch. Use the appropriate batch size.\n",
        "\n",
        "b. Plot the loss and accuracy history graphs for both train and validation set. Print the total time taken for training."
      ]
    },
    {
      "cell_type": "code",
      "metadata": {
        "trusted": false,
        "colab": {
          "base_uri": "https://localhost:8080/"
        },
        "id": "0wftljwQTgHc",
        "outputId": "aba506c5-b62e-4f3c-9eb9-3e99795b26d0"
      },
      "source": [
        "startTime = time.time()\n",
        "history=model.fit(X_train,Y_train,batch_size=128,epochs=100, validation_split=0.2, callbacks=[callback])# here we are starting the training of model by feeding the training data\n",
        "endTime = time.time()\n",
        "print('Training finished in : {}s'.format(round(endTime - startTime, 2)))"
      ],
      "execution_count": 47,
      "outputs": [
        {
          "output_type": "stream",
          "text": [
            "Epoch 1/100\n",
            "6400/6400 [==============================] - 18s 3ms/step - loss: 0.6044 - accuracy: 0.6895 - val_loss: 0.5757 - val_accuracy: 0.7119\n",
            "Epoch 2/100\n",
            "6400/6400 [==============================] - 17s 3ms/step - loss: 0.5890 - accuracy: 0.6977 - val_loss: 0.5731 - val_accuracy: 0.7107\n",
            "Epoch 3/100\n",
            "6400/6400 [==============================] - 17s 3ms/step - loss: 0.5861 - accuracy: 0.7001 - val_loss: 0.5815 - val_accuracy: 0.7062\n",
            "Epoch 4/100\n",
            "6400/6400 [==============================] - 17s 3ms/step - loss: 0.5870 - accuracy: 0.6997 - val_loss: 0.5753 - val_accuracy: 0.7098\n",
            "Epoch 5/100\n",
            "6400/6400 [==============================] - 17s 3ms/step - loss: 0.5869 - accuracy: 0.6995 - val_loss: 0.5744 - val_accuracy: 0.7080\n",
            "Epoch 00005: early stopping\n",
            "Training finished in : 85.65s\n"
          ],
          "name": "stdout"
        }
      ]
    },
    {
      "cell_type": "code",
      "metadata": {
        "colab": {
          "base_uri": "https://localhost:8080/",
          "height": 317
        },
        "id": "bzCvFyWdTgHe",
        "outputId": "9de5a9c1-e71a-47a7-ea5e-3e075365346c"
      },
      "source": [
        "plt.plot(history.history['accuracy'])\n",
        "plt.plot(history.history['val_accuracy'])\n",
        "plt.title('model accuracy')\n",
        "plt.ylabel('accuracy')\n",
        "plt.xlabel('epoch')\n",
        "plt.legend(['training', 'validation'])"
      ],
      "execution_count": 48,
      "outputs": [
        {
          "output_type": "execute_result",
          "data": {
            "text/plain": [
              "<matplotlib.legend.Legend at 0x7fd710523510>"
            ]
          },
          "metadata": {
            "tags": []
          },
          "execution_count": 48
        },
        {
          "output_type": "display_data",
          "data": {
            "image/png": "[encoded data removed]",
            "text/plain": [
              "<Figure size 432x288 with 1 Axes>"
            ]
          },
          "metadata": {
            "tags": [],
            "needs_background": "light"
          }
        }
      ]
    },
    {
      "cell_type": "code",
      "metadata": {
        "colab": {
          "base_uri": "https://localhost:8080/",
          "height": 317
        },
        "id": "E0TXt1y_TgHg",
        "outputId": "47f0925c-1b23-4b2a-998a-00a2f5ebd5b5"
      },
      "source": [
        "plt.plot(history.history['loss'])\n",
        "plt.plot(history.history['val_loss'])\n",
        "plt.title('model loss')\n",
        "plt.ylabel('loss')\n",
        "plt.xlabel('epoch')\n",
        "plt.legend(['training', 'validation'])"
      ],
      "execution_count": 49,
      "outputs": [
        {
          "output_type": "execute_result",
          "data": {
            "text/plain": [
              "<matplotlib.legend.Legend at 0x7fd710670390>"
            ]
          },
          "metadata": {
            "tags": []
          },
          "execution_count": 49
        },
        {
          "output_type": "display_data",
          "data": {
            "image/png": "[encoded data removed]",
            "text/plain": [
              "<Figure size 432x288 with 1 Axes>"
            ]
          },
          "metadata": {
            "tags": [],
            "needs_background": "light"
          }
        }
      ]
    },
    {
      "cell_type": "markdown",
      "metadata": {
        "id": "5ERF1DUU9BI_"
      },
      "source": [
        "# Model Evaluation\n",
        "\n",
        "a.Print the final train and validation loss and accuracy. Print confusion matrix and classification report for the validation dataset. Analyse and report the best and worst performing class.\n",
        "\n",
        "b.Print the two most incorrectly classified texts for each class in the test dataset."
      ]
    },
    {
      "cell_type": "code",
      "metadata": {
        "trusted": false,
        "colab": {
          "base_uri": "https://localhost:8080/"
        },
        "id": "nzZOkOOe9BJD",
        "outputId": "1a2f9c14-c671-4bd5-ba2b-1b4694eaabec"
      },
      "source": [
        "accr1 = model.evaluate(X_val,Y_val) #we are starting to test the model here"
      ],
      "execution_count": 50,
      "outputs": [
        {
          "output_type": "stream",
          "text": [
            "8000/8000 [==============================] - 14s 2ms/step - loss: 0.5728 - accuracy: 0.7100\n"
          ],
          "name": "stdout"
        }
      ]
    },
    {
      "cell_type": "code",
      "metadata": {
        "trusted": false,
        "colab": {
          "base_uri": "https://localhost:8080/"
        },
        "id": "v9GaHB_K9BJF",
        "outputId": "0c2e31c4-4fd8-442f-d2de-bc9ddeee58a5"
      },
      "source": [
        "print('Test set\\n  Accuracy: {:0.2f}'.format(accr1[1])) #the accuracy of the model on test data is given below"
      ],
      "execution_count": 51,
      "outputs": [
        {
          "output_type": "stream",
          "text": [
            "Test set\n",
            "  Accuracy: 0.71\n"
          ],
          "name": "stdout"
        }
      ]
    },
    {
      "cell_type": "code",
      "metadata": {
        "id": "BybSBr7h9BJG"
      },
      "source": [
        "y_pred = model.predict(X_val) #getting predictions on the trained model\n",
        "y_pred_class = (y_pred > 0.5)"
      ],
      "execution_count": 52,
      "outputs": []
    },
    {
      "cell_type": "code",
      "metadata": {
        "trusted": false,
        "colab": {
          "base_uri": "https://localhost:8080/",
          "height": 803
        },
        "id": "3Dxj_ycd9BJG",
        "outputId": "b167fa8d-64da-4c34-d0be-5b24b8b2b771"
      },
      "source": [
        "print('Classification Report')\n",
        "print(classification_report(Y_val, y_pred_class))\n",
        "print(\"Confusion matrix\")\n",
        "CR=confusion_matrix(Y_val, y_pred_class)\n",
        "print(CR)\n",
        "fig, ax = plot_confusion_matrix(conf_mat=CR,figsize=(10, 10),\n",
        "                                show_absolute=True,\n",
        "                                show_normed=True,\n",
        "                                colorbar=True)\n",
        "plt.show()"
      ],
      "execution_count": 54,
      "outputs": [
        {
          "output_type": "stream",
          "text": [
            "Classification Report\n",
            "              precision    recall  f1-score   support\n",
            "\n",
            "           0       0.73      0.66      0.69    127978\n",
            "           1       0.69      0.76      0.72    128022\n",
            "\n",
            "    accuracy                           0.71    256000\n",
            "   macro avg       0.71      0.71      0.71    256000\n",
            "weighted avg       0.71      0.71      0.71    256000\n",
            "\n",
            "Confusion matrix\n",
            "[[84194 43784]\n",
            " [30464 97558]]\n"
          ],
          "name": "stdout"
        },
        {
          "output_type": "display_data",
          "data": {
            "image/png": "[encoded data removed]",
            "text/plain": [
              "<Figure size 720x720 with 2 Axes>"
            ]
          },
          "metadata": {
            "tags": [],
            "needs_background": "light"
          }
        }
      ]
    },
    {
      "cell_type": "markdown",
      "metadata": {
        "id": "k5kLPOB59BJH"
      },
      "source": [
        "### a.Negative class or Negative Sentiment is slightly better performing as per the confusion matrix."
      ]
    },
    {
      "cell_type": "markdown",
      "metadata": {
        "id": "ft7avBSQ9BJH"
      },
      "source": [
        "#### ROC CURVE"
      ]
    },
    {
      "cell_type": "code",
      "metadata": {
        "colab": {
          "base_uri": "https://localhost:8080/"
        },
        "id": "HPQ1F3Qk9BJI",
        "outputId": "80286273-5434-4d2a-ebad-2d43997861e0"
      },
      "source": [
        "print(roc_auc_score(Y_val, y_pred_class))"
      ],
      "execution_count": 55,
      "outputs": [
        {
          "output_type": "stream",
          "text": [
            "0.7099597985608241\n"
          ],
          "name": "stdout"
        }
      ]
    },
    {
      "cell_type": "code",
      "metadata": {
        "scrolled": true,
        "trusted": false,
        "colab": {
          "base_uri": "https://localhost:8080/",
          "height": 317
        },
        "id": "hJtIlaG69BJI",
        "outputId": "82ae7e56-8b9d-4c4a-89f9-ed1353a8f8d3"
      },
      "source": [
        "fpr, tpr, thresholds = roc_curve(Y_val, y_pred_class)\n",
        "roc_auc = auc(fpr, tpr)\n",
        "plt.figure()\n",
        "plt.plot(fpr, tpr, color='darkorange', lw=1, label='ROC curve (area = %0.2f)' % roc_auc)\n",
        "plt.xlim([0.0, 1.0])\n",
        "plt.ylim([0.0, 1.05])\n",
        "plt.xlabel('False Positive Rate')\n",
        "plt.ylabel('True Positive Rate')\n",
        "plt.title('ROC CURVE')\n",
        "plt.legend(loc=\"lower right\")\n",
        "plt.show()\n",
        "print()"
      ],
      "execution_count": 56,
      "outputs": [
        {
          "output_type": "display_data",
          "data": {
            "image/png": "[encoded data removed]",
            "text/plain": [
              "<Figure size 432x288 with 1 Axes>"
            ]
          },
          "metadata": {
            "tags": [],
            "needs_background": "light"
          }
        },
        {
          "output_type": "stream",
          "text": [
            "\n"
          ],
          "name": "stdout"
        }
      ]
    },
    {
      "cell_type": "markdown",
      "metadata": {
        "id": "DGF2WSYL9BJJ"
      },
      "source": [
        "### b.Print the two most incorrectly classified texts for each class in the test dataset."
      ]
    },
    {
      "cell_type": "code",
      "metadata": {
        "id": "QbTZWAsZ9BJJ"
      },
      "source": [
        "def find_2_smallest_index(arr):\n",
        "    first = 999\n",
        "    second = 999\n",
        "    first_index=0\n",
        "    sexond_index=0\n",
        "    for i in range(len(arr)):\n",
        "        if arr[i] < first:\n",
        "            second = copy.deepcopy(first)\n",
        "            second_index = copy.deepcopy(first_index)\n",
        "            first = copy.deepcopy(arr[i])\n",
        "            first_index = copy.deepcopy(i)\n",
        "        elif (arr[i] < second):\n",
        "            second = copy.deepcopy(arr[i])\n",
        "            second_index = copy.deepcopy(i)\n",
        "    return first_index, second_index"
      ],
      "execution_count": 57,
      "outputs": []
    },
    {
      "cell_type": "code",
      "metadata": {
        "colab": {
          "base_uri": "https://localhost:8080/"
        },
        "id": "Tv4cHxvj9BJJ",
        "outputId": "446194b6-5554-4459-8468-1a06bf692c05"
      },
      "source": [
        "worst_2 = {}\n",
        "y_pred_test = model.predict(X_test)\n",
        "first_index, second_index = find_2_smallest_index(1-y_pred_test[:])\n",
        "worst_2[0] = [X_test_org.text.values[first_index],X_test_org.text.values[second_index]]\n",
        "first_index, second_index = find_2_smallest_index(y_pred_test[:])\n",
        "worst_2[1] = [X_test_org.text.values[first_index],X_test_org.text.values[second_index]]\n",
        "worst_2"
      ],
      "execution_count": 58,
      "outputs": [
        {
          "output_type": "execute_result",
          "data": {
            "text/plain": [
              "{0: ['great day, great weather, great place, great movie, great food, great people ',\n",
              "  'Good Night Twitter World, Good Night Friends, Good Night Family, Good Night my Love, and Good Night Jesus! '],\n",
              " 1: ['bad bad bad bad bad bad bad bad bad bad bad bad bad bad bad bad bad bad bad day. ',\n",
              "  'ugh ugh ugh ugh ugh ugh ugh ugh ugh ugh ugh ugh ugh ugh ugh ugh ugh ugh          ']}"
            ]
          },
          "metadata": {
            "tags": []
          },
          "execution_count": 58
        }
      ]
    },
    {
      "cell_type": "markdown",
      "metadata": {
        "id": "viGLHfOvThk-"
      },
      "source": [
        "### **2.Optimiser: Use a different optimizer with the appropriate LR value**"
      ]
    },
    {
      "cell_type": "markdown",
      "metadata": {
        "id": "vB1tByMy4kw1"
      },
      "source": [
        "# Model Building\n",
        "a. Sequential Model layers-Use AT LEAST 3 hidden layers with appropriate input for each. Choose the best number for hidden units and give reasons. : **To prepare near best model we gradually decrease number of neurons in hidden layers by dividing the number of neurons in the previous layers by 2. Hence when we start at 64 neurons and have to prepare 2 more layers then one option would be 32 followed by 16**\n",
        "\n",
        "b. Add L2 regularization to all the layers.\n",
        "\n",
        "c. Add one layer of dropout at the appropriate position and give reasons.d.Choose the appropriate activation function for all the layers.e.Print the model summary."
      ]
    },
    {
      "cell_type": "code",
      "metadata": {
        "trusted": false,
        "id": "bm_GZDtdThk9"
      },
      "source": [
        "def model_hyp2(): #Defined tensorflow_based_model function for training tenforflow based model\n",
        "    inputs = Input(name='inputs',shape=(128))\n",
        "    layer = Dropout(0.1, name='dropout')(inputs)\n",
        "    layer = Dense(64,name='layer1', activation='relu',kernel_regularizer=reg.L2(0.0005))(inputs)\n",
        "    layer = Dense(32,name='layer2', activation='relu', kernel_regularizer=reg.L2(0.0005))(layer) \n",
        "    layer = Dense(16,name='layer3', activation='relu', kernel_regularizer=reg.L2(0.0005))(layer) \n",
        "    layer = Dense(1,name='output', activation='sigmoid')(layer) \n",
        "    model = Model(inputs=inputs,outputs=layer) #here we are getting the final output value in the model for classification\n",
        "    return model #function returning the value when we call it\n",
        "\n",
        "callback = EarlyStopping(monitor='val_loss', min_delta=0.001, patience=3, verbose=1,mode='auto', baseline=None, restore_best_weights=False\n",
        ")"
      ],
      "execution_count": 59,
      "outputs": []
    },
    {
      "cell_type": "markdown",
      "metadata": {
        "id": "A3Qb48Q74yL2"
      },
      "source": [
        "## e. Print the model summary"
      ]
    },
    {
      "cell_type": "code",
      "metadata": {
        "trusted": false,
        "colab": {
          "base_uri": "https://localhost:8080/"
        },
        "id": "1eWzMJ3m4yL9",
        "outputId": "3de838f0-3701-46f2-bf2d-53513b1ca5b5"
      },
      "source": [
        "model = model_hyp1() # here we are calling the function of created model\n",
        "print('Model summary')\n",
        "model.summary()"
      ],
      "execution_count": 60,
      "outputs": [
        {
          "output_type": "stream",
          "text": [
            "Model summary\n",
            "Model: \"model_2\"\n",
            "_________________________________________________________________\n",
            "Layer (type)                 Output Shape              Param #   \n",
            "=================================================================\n",
            "inputs (InputLayer)          [(None, 128)]             0         \n",
            "_________________________________________________________________\n",
            "dropout (Dropout)            (None, 128)               0         \n",
            "_________________________________________________________________\n",
            "layer1 (Dense)               (None, 64)                8256      \n",
            "_________________________________________________________________\n",
            "layer2 (Dense)               (None, 32)                2080      \n",
            "_________________________________________________________________\n",
            "layer3 (Dense)               (None, 16)                528       \n",
            "_________________________________________________________________\n",
            "layer4 (Dense)               (None, 8)                 136       \n",
            "_________________________________________________________________\n",
            "output (Dense)               (None, 1)                 9         \n",
            "=================================================================\n",
            "Total params: 11,009\n",
            "Trainable params: 11,009\n",
            "Non-trainable params: 0\n",
            "_________________________________________________________________\n"
          ],
          "name": "stdout"
        }
      ]
    },
    {
      "cell_type": "markdown",
      "metadata": {
        "id": "fyhJ6hvb446g"
      },
      "source": [
        "# Model Compilation\n",
        "a.Compile the model with the appropriate loss function.\n",
        "\n",
        "b.Use an appropriate optimizer. Give reasons for the choice of learning rate and its value.: **We chose adam optimizer to incorporate the momentum component in the optimization process. We intially choose 0.001(least possible) but later realised that the training is too slow and could be improved without compromising the accuracy of the model so changed the learning rate to 0.005.**\n",
        "\n",
        "c.Use accuracy as a metric."
      ]
    },
    {
      "cell_type": "code",
      "metadata": {
        "trusted": false,
        "id": "w4YCDA1nThk_"
      },
      "source": [
        "model.compile(loss='binary_crossentropy',optimizer=Adam(learning_rate=0.005),metrics=['accuracy']) "
      ],
      "execution_count": 61,
      "outputs": []
    },
    {
      "cell_type": "markdown",
      "metadata": {
        "id": "nTkAyHHt5PDP"
      },
      "source": [
        "# Model Training\n",
        "a. Train the model for an appropriate number of epochs. Print the train and validation accuracy and loss for each epoch. Use the appropriate batch size.\n",
        "\n",
        "b. Plot the loss and accuracy history graphs for both train and validation set. Print the total time taken for training."
      ]
    },
    {
      "cell_type": "code",
      "metadata": {
        "trusted": false,
        "colab": {
          "base_uri": "https://localhost:8080/"
        },
        "id": "bQpeSia1ThlA",
        "outputId": "2733c846-7353-41ce-97fe-b3c7a6c1ba03"
      },
      "source": [
        "startTime = time.time()\n",
        "history=model.fit(X_train,Y_train,batch_size=128,epochs=100, validation_split=0.2, callbacks=[callback])# here we are starting the training of model by feeding the training data\n",
        "endTime = time.time()\n",
        "print('Training finished in : {}s'.format(round(endTime - startTime, 2)))"
      ],
      "execution_count": 62,
      "outputs": [
        {
          "output_type": "stream",
          "text": [
            "Epoch 1/100\n",
            "6400/6400 [==============================] - 16s 2ms/step - loss: 0.6042 - accuracy: 0.6896 - val_loss: 0.5771 - val_accuracy: 0.7095\n",
            "Epoch 2/100\n",
            "6400/6400 [==============================] - 15s 2ms/step - loss: 0.5877 - accuracy: 0.6992 - val_loss: 0.5778 - val_accuracy: 0.7071\n",
            "Epoch 3/100\n",
            "6400/6400 [==============================] - 15s 2ms/step - loss: 0.5848 - accuracy: 0.7005 - val_loss: 0.5735 - val_accuracy: 0.7098\n",
            "Epoch 4/100\n",
            "6400/6400 [==============================] - 15s 2ms/step - loss: 0.5851 - accuracy: 0.7004 - val_loss: 0.5750 - val_accuracy: 0.7088\n",
            "Epoch 5/100\n",
            "6400/6400 [==============================] - 15s 2ms/step - loss: 0.5851 - accuracy: 0.6990 - val_loss: 0.5747 - val_accuracy: 0.7087\n",
            "Epoch 6/100\n",
            "6400/6400 [==============================] - 15s 2ms/step - loss: 0.5835 - accuracy: 0.7008 - val_loss: 0.5734 - val_accuracy: 0.7106\n",
            "Epoch 00006: early stopping\n",
            "Training finished in : 89.7s\n"
          ],
          "name": "stdout"
        }
      ]
    },
    {
      "cell_type": "code",
      "metadata": {
        "colab": {
          "base_uri": "https://localhost:8080/",
          "height": 317
        },
        "id": "ODAs5ViWThlB",
        "outputId": "350654a6-51ee-4e1c-b857-c41a132f3cb2"
      },
      "source": [
        "plt.plot(history.history['accuracy'])\n",
        "plt.plot(history.history['val_accuracy'])\n",
        "plt.title('model accuracy')\n",
        "plt.ylabel('accuracy')\n",
        "plt.xlabel('epoch')\n",
        "plt.legend(['training', 'validation'])"
      ],
      "execution_count": 63,
      "outputs": [
        {
          "output_type": "execute_result",
          "data": {
            "text/plain": [
              "<matplotlib.legend.Legend at 0x7fd722017550>"
            ]
          },
          "metadata": {
            "tags": []
          },
          "execution_count": 63
        },
        {
          "output_type": "display_data",
          "data": {
            "image/png": "[encoded data removed]",
            "text/plain": [
              "<Figure size 432x288 with 1 Axes>"
            ]
          },
          "metadata": {
            "tags": [],
            "needs_background": "light"
          }
        }
      ]
    },
    {
      "cell_type": "code",
      "metadata": {
        "colab": {
          "base_uri": "https://localhost:8080/",
          "height": 354
        },
        "id": "F8dASWrfThlC",
        "outputId": "029cd380-e2fe-4d97-9778-d75ae1b5b609"
      },
      "source": [
        "print(history.history)\n",
        "plt.plot(history.history['loss'])\n",
        "plt.plot(history.history['val_loss'])\n",
        "plt.title('model loss')\n",
        "plt.ylabel('loss')\n",
        "plt.xlabel('epoch')\n",
        "plt.legend(['training', 'validation'])"
      ],
      "execution_count": 64,
      "outputs": [
        {
          "output_type": "stream",
          "text": [
            "{'loss': [0.5941046476364136, 0.5864654779434204, 0.5849900841712952, 0.5852028131484985, 0.584679126739502, 0.5842084884643555], 'accuracy': [0.6953222751617432, 0.6998999118804932, 0.7003344893455505, 0.6997997760772705, 0.6998498439788818, 0.7002795338630676], 'val_loss': [0.5770757794380188, 0.5777691602706909, 0.5734870433807373, 0.5749700665473938, 0.5747063159942627, 0.5733942985534668], 'val_accuracy': [0.7095068097114563, 0.7070898413658142, 0.7098193168640137, 0.7087988257408142, 0.7087353467941284, 0.7106494307518005]}\n"
          ],
          "name": "stdout"
        },
        {
          "output_type": "execute_result",
          "data": {
            "text/plain": [
              "<matplotlib.legend.Legend at 0x7fd71045e050>"
            ]
          },
          "metadata": {
            "tags": []
          },
          "execution_count": 64
        },
        {
          "output_type": "display_data",
          "data": {
            "image/png": "[encoded data removed]",
            "text/plain": [
              "<Figure size 432x288 with 1 Axes>"
            ]
          },
          "metadata": {
            "tags": [],
            "needs_background": "light"
          }
        }
      ]
    },
    {
      "cell_type": "markdown",
      "metadata": {
        "id": "mB8jxzLE9H5B"
      },
      "source": [
        "# Model Evaluation\n",
        "\n",
        "a.Print the final train and validation loss and accuracy. Print confusion matrix and classification report for the validation dataset. Analyse and report the best and worst performing class.\n",
        "\n",
        "b.Print the two most incorrectly classified texts for each class in the test dataset."
      ]
    },
    {
      "cell_type": "code",
      "metadata": {
        "trusted": false,
        "colab": {
          "base_uri": "https://localhost:8080/"
        },
        "id": "DqQZkk4B9H5C",
        "outputId": "99f6a4ef-22db-4aaa-e827-0c5b182c4ecc"
      },
      "source": [
        "accr1 = model.evaluate(X_val,Y_val) #we are starting to test the model here"
      ],
      "execution_count": 65,
      "outputs": [
        {
          "output_type": "stream",
          "text": [
            "8000/8000 [==============================] - 14s 2ms/step - loss: 0.5727 - accuracy: 0.7113\n"
          ],
          "name": "stdout"
        }
      ]
    },
    {
      "cell_type": "code",
      "metadata": {
        "trusted": false,
        "colab": {
          "base_uri": "https://localhost:8080/"
        },
        "id": "XY9KHLlU9H5C",
        "outputId": "d14fbaed-7155-4696-a9f6-fb339c41af8d"
      },
      "source": [
        "print('Test set\\n  Accuracy: {:0.2f}'.format(accr1[1])) #the accuracy of the model on test data is given below"
      ],
      "execution_count": 66,
      "outputs": [
        {
          "output_type": "stream",
          "text": [
            "Test set\n",
            "  Accuracy: 0.71\n"
          ],
          "name": "stdout"
        }
      ]
    },
    {
      "cell_type": "code",
      "metadata": {
        "id": "KYlnpCyF9H5C"
      },
      "source": [
        "y_pred = model.predict(X_val) #getting predictions on the trained model\n",
        "y_pred_class = (y_pred > 0.5)"
      ],
      "execution_count": 67,
      "outputs": []
    },
    {
      "cell_type": "code",
      "metadata": {
        "trusted": false,
        "colab": {
          "base_uri": "https://localhost:8080/",
          "height": 803
        },
        "id": "27e29WtT9H5C",
        "outputId": "59729543-b5ca-4df4-b95e-a2ba69916782"
      },
      "source": [
        "print('Classification Report')\n",
        "print(classification_report(Y_val, y_pred_class))\n",
        "print(\"Confusion matrix\")\n",
        "CR=confusion_matrix(Y_val, y_pred_class)\n",
        "print(CR)\n",
        "fig, ax = plot_confusion_matrix(conf_mat=CR,figsize=(10, 10),\n",
        "                                show_absolute=True,\n",
        "                                show_normed=True,\n",
        "                                colorbar=True)\n",
        "plt.show()"
      ],
      "execution_count": 68,
      "outputs": [
        {
          "output_type": "stream",
          "text": [
            "Classification Report\n",
            "              precision    recall  f1-score   support\n",
            "\n",
            "           0       0.72      0.70      0.71    127978\n",
            "           1       0.71      0.73      0.72    128022\n",
            "\n",
            "    accuracy                           0.71    256000\n",
            "   macro avg       0.71      0.71      0.71    256000\n",
            "weighted avg       0.71      0.71      0.71    256000\n",
            "\n",
            "Confusion matrix\n",
            "[[89085 38893]\n",
            " [35027 92995]]\n"
          ],
          "name": "stdout"
        },
        {
          "output_type": "display_data",
          "data": {
            "image/png": "[encoded data removed]",
            "text/plain": [
              "<Figure size 720x720 with 2 Axes>"
            ]
          },
          "metadata": {
            "tags": [],
            "needs_background": "light"
          }
        }
      ]
    },
    {
      "cell_type": "markdown",
      "metadata": {
        "id": "wAashWtb9H5D"
      },
      "source": [
        "### a.Negative class or Negative Sentiment is slightly better performing as per the confusion matrix."
      ]
    },
    {
      "cell_type": "markdown",
      "metadata": {
        "id": "57QyxSsz9H5D"
      },
      "source": [
        "#### ROC CURVE"
      ]
    },
    {
      "cell_type": "code",
      "metadata": {
        "colab": {
          "base_uri": "https://localhost:8080/"
        },
        "id": "SXKyRmmE9H5D",
        "outputId": "4c2ac8b5-ebdb-4b74-ea1d-dfd720036bb8"
      },
      "source": [
        "print(roc_auc_score(Y_val, y_pred_class))"
      ],
      "execution_count": 69,
      "outputs": [
        {
          "output_type": "stream",
          "text": [
            "0.7112473958889001\n"
          ],
          "name": "stdout"
        }
      ]
    },
    {
      "cell_type": "code",
      "metadata": {
        "scrolled": true,
        "trusted": false,
        "colab": {
          "base_uri": "https://localhost:8080/",
          "height": 317
        },
        "id": "p9qmngjy9H5D",
        "outputId": "ffdd8e42-0b04-49ae-ddec-7de4441afe8f"
      },
      "source": [
        "fpr, tpr, thresholds = roc_curve(Y_val, y_pred_class)\n",
        "roc_auc = auc(fpr, tpr)\n",
        "plt.figure()\n",
        "plt.plot(fpr, tpr, color='darkorange', lw=1, label='ROC curve (area = %0.2f)' % roc_auc)\n",
        "plt.xlim([0.0, 1.0])\n",
        "plt.ylim([0.0, 1.05])\n",
        "plt.xlabel('False Positive Rate')\n",
        "plt.ylabel('True Positive Rate')\n",
        "plt.title('ROC CURVE')\n",
        "plt.legend(loc=\"lower right\")\n",
        "plt.show()\n",
        "print()"
      ],
      "execution_count": 70,
      "outputs": [
        {
          "output_type": "display_data",
          "data": {
            "image/png": "[encoded data removed]",
            "text/plain": [
              "<Figure size 432x288 with 1 Axes>"
            ]
          },
          "metadata": {
            "tags": [],
            "needs_background": "light"
          }
        },
        {
          "output_type": "stream",
          "text": [
            "\n"
          ],
          "name": "stdout"
        }
      ]
    },
    {
      "cell_type": "markdown",
      "metadata": {
        "id": "Rj5kaUiN9H5D"
      },
      "source": [
        "### b.Print the two most incorrectly classified texts for each class in the test dataset."
      ]
    },
    {
      "cell_type": "code",
      "metadata": {
        "id": "HxM1IHpf9H5D"
      },
      "source": [
        "def find_2_smallest_index(arr):\n",
        "    first = 999\n",
        "    second = 999\n",
        "    first_index=0\n",
        "    sexond_index=0\n",
        "    for i in range(len(arr)):\n",
        "        if arr[i] < first:\n",
        "            second = copy.deepcopy(first)\n",
        "            second_index = copy.deepcopy(first_index)\n",
        "            first = copy.deepcopy(arr[i])\n",
        "            first_index = copy.deepcopy(i)\n",
        "        elif (arr[i] < second):\n",
        "            second = copy.deepcopy(arr[i])\n",
        "            second_index = copy.deepcopy(i)\n",
        "    return first_index, second_index"
      ],
      "execution_count": 71,
      "outputs": []
    },
    {
      "cell_type": "code",
      "metadata": {
        "colab": {
          "base_uri": "https://localhost:8080/"
        },
        "id": "-M04c8n99H5E",
        "outputId": "259633ef-9ae1-4b48-cecc-0b1f547eb41f"
      },
      "source": [
        "worst_2 = {}\n",
        "y_pred_test = model.predict(X_test)\n",
        "first_index, second_index = find_2_smallest_index(1-y_pred_test[:])\n",
        "worst_2[0] = [X_test_org.text.values[first_index],X_test_org.text.values[second_index]]\n",
        "first_index, second_index = find_2_smallest_index(y_pred_test[:])\n",
        "worst_2[1] = [X_test_org.text.values[first_index],X_test_org.text.values[second_index]]\n",
        "worst_2"
      ],
      "execution_count": 72,
      "outputs": [
        {
          "output_type": "execute_result",
          "data": {
            "text/plain": [
              "{0: ['#BTS is fallin!!   #BTS #BTS #BTS #BTS #BTS #BTS #BTS #BTS #BTS #BTS #BTS #BTS #BTS #BTS #BTS #BTS #BTS #BTS #BTS #BTS #BTS #BTS #BTS',\n",
              "  'Good Night Twitter World, Good Night Friends, Good Night Family, Good Night my Love, and Good Night Jesus! '],\n",
              " 1: ['bad bad bad bad bad bad bad bad bad bad bad bad bad bad bad bad bad bad bad day. ',\n",
              "  'headache headache headache ']}"
            ]
          },
          "metadata": {
            "tags": []
          },
          "execution_count": 72
        }
      ]
    },
    {
      "cell_type": "markdown",
      "metadata": {
        "id": "3mMJPf5958D5"
      },
      "source": [
        "# Write a comparison between each model and give reasons for the difference in results."
      ]
    },
    {
      "cell_type": "code",
      "metadata": {
        "id": "5SQ9ofkK6AH5"
      },
      "source": [
        ""
      ],
      "execution_count": null,
      "outputs": []
    }
  ]
}